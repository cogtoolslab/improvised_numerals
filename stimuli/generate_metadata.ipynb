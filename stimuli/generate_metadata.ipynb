{
 "cells": [
  {
   "cell_type": "markdown",
   "metadata": {},
   "source": [
    "# This notebook will: \n",
    "\n",
    "1. Save out to file (.js) a JSON object that contains an array of six dictionaries, one for each machine\n",
    "    - Each dictionary will contain all the attributes corresponding to each machine, e.g., toy_type, variant, list of “Regions of Interest” corresponding to each colored region. "
   ]
  },
  {
   "cell_type": "code",
   "execution_count": 1,
   "metadata": {},
   "outputs": [],
   "source": [
    "import os, sys\n",
    "import numpy as np\n",
    "from io import BytesIO\n",
    "from PIL import Image\n",
    "from skimage import io, img_as_float\n",
    "import base64\n",
    "\n",
    "import matplotlib\n",
    "from matplotlib import pylab, mlab, pyplot\n",
    "%matplotlib inline\n",
    "from IPython.core.pylabtools import figsize, getfigs\n",
    "plt = pyplot\n",
    "import seaborn as sns\n",
    "sns.set_context('talk')\n",
    "sns.set_style('white')\n",
    "\n",
    "import string\n",
    "import pandas as pd\n",
    "import json\n",
    "import re\n",
    "import pymongo as pm\n",
    "from glob import glob\n",
    "from IPython.display import clear_output\n",
    "import itertools \n",
    "from random import sample\n",
    "import importlib\n",
    "\n",
    "import boto3\n",
    "import botocore\n",
    "import requests\n",
    "\n",
    "import warnings"
   ]
  },
  {
   "cell_type": "code",
   "execution_count": 2,
   "metadata": {},
   "outputs": [],
   "source": [
    "# directory & file hierarchy\n",
    "proj_dir = os.path.abspath('..')\n",
    "stimuli_dir = os.getcwd()\n",
    "ROI_dir = os.path.abspath(os.path.join(stimuli_dir,'segmented'))\n",
    "\n",
    "## add helpers to python path\n",
    "import sys\n",
    "if os.path.join(proj_dir, 'utils',) not in sys.path:\n",
    "    sys.path.append(os.path.join(proj_dir, 'utils'))\n",
    "import utils as h"
   ]
  },
  {
   "cell_type": "code",
   "execution_count": 3,
   "metadata": {},
   "outputs": [],
   "source": [
    "## load in ROIs\n",
    "import rois as rois\n",
    "importlib.reload(rois)\n",
    "from rois import ROIS, GEARS_1, GEARS_2, LEVERS_1, LEVERS_2, PULLEYS_1, PULLEYS_2\n",
    "\n",
    "## convert ROI dictionary into ROI dataframe\n",
    "R = pd.DataFrame(ROIS)\n",
    "\n",
    "## add pretty names for ROIs and machines\n",
    "R['roi_id'] = R.apply(lambda x: '{}_{}'.format(x['roi_name'], x['roi_num']), axis=1)\n",
    "R['toy_id'] = R.apply(lambda x: '{}_{}'.format(x['toy_type'], x['toy_variant']), axis=1)"
   ]
  },
  {
   "cell_type": "code",
   "execution_count": 4,
   "metadata": {
    "scrolled": false
   },
   "outputs": [
    {
     "data": {
      "text/html": [
       "<div>\n",
       "<style scoped>\n",
       "    .dataframe tbody tr th:only-of-type {\n",
       "        vertical-align: middle;\n",
       "    }\n",
       "\n",
       "    .dataframe tbody tr th {\n",
       "        vertical-align: top;\n",
       "    }\n",
       "\n",
       "    .dataframe thead th {\n",
       "        text-align: right;\n",
       "    }\n",
       "</style>\n",
       "<table border=\"1\" class=\"dataframe\">\n",
       "  <thead>\n",
       "    <tr style=\"text-align: right;\">\n",
       "      <th></th>\n",
       "      <th>causal</th>\n",
       "      <th>functional</th>\n",
       "      <th>roi_color</th>\n",
       "      <th>roi_name</th>\n",
       "      <th>roi_num</th>\n",
       "      <th>toy_type</th>\n",
       "      <th>toy_variant</th>\n",
       "      <th>roi_id</th>\n",
       "      <th>toy_id</th>\n",
       "    </tr>\n",
       "  </thead>\n",
       "  <tbody>\n",
       "    <tr>\n",
       "      <th>0</th>\n",
       "      <td>False</td>\n",
       "      <td>True</td>\n",
       "      <td>#fed541</td>\n",
       "      <td>gear</td>\n",
       "      <td>1</td>\n",
       "      <td>gears</td>\n",
       "      <td>1</td>\n",
       "      <td>gear_1</td>\n",
       "      <td>gears_1</td>\n",
       "    </tr>\n",
       "    <tr>\n",
       "      <th>1</th>\n",
       "      <td>False</td>\n",
       "      <td>True</td>\n",
       "      <td>#70d7ff</td>\n",
       "      <td>gear</td>\n",
       "      <td>2</td>\n",
       "      <td>gears</td>\n",
       "      <td>1</td>\n",
       "      <td>gear_2</td>\n",
       "      <td>gears_1</td>\n",
       "    </tr>\n",
       "    <tr>\n",
       "      <th>2</th>\n",
       "      <td>True</td>\n",
       "      <td>True</td>\n",
       "      <td>#b355ed</td>\n",
       "      <td>gear</td>\n",
       "      <td>3</td>\n",
       "      <td>gears</td>\n",
       "      <td>1</td>\n",
       "      <td>gear_3</td>\n",
       "      <td>gears_1</td>\n",
       "    </tr>\n",
       "    <tr>\n",
       "      <th>3</th>\n",
       "      <td>True</td>\n",
       "      <td>True</td>\n",
       "      <td>#f78968</td>\n",
       "      <td>gear</td>\n",
       "      <td>4</td>\n",
       "      <td>gears</td>\n",
       "      <td>1</td>\n",
       "      <td>gear_4</td>\n",
       "      <td>gears_1</td>\n",
       "    </tr>\n",
       "    <tr>\n",
       "      <th>4</th>\n",
       "      <td>False</td>\n",
       "      <td>False</td>\n",
       "      <td>#a8e1b8</td>\n",
       "      <td>background</td>\n",
       "      <td>5</td>\n",
       "      <td>gears</td>\n",
       "      <td>1</td>\n",
       "      <td>background_5</td>\n",
       "      <td>gears_1</td>\n",
       "    </tr>\n",
       "  </tbody>\n",
       "</table>\n",
       "</div>"
      ],
      "text/plain": [
       "   causal  functional roi_color    roi_name  roi_num toy_type toy_variant  \\\n",
       "0   False        True   #fed541        gear        1    gears           1   \n",
       "1   False        True   #70d7ff        gear        2    gears           1   \n",
       "2    True        True   #b355ed        gear        3    gears           1   \n",
       "3    True        True   #f78968        gear        4    gears           1   \n",
       "4   False       False   #a8e1b8  background        5    gears           1   \n",
       "\n",
       "         roi_id   toy_id  \n",
       "0        gear_1  gears_1  \n",
       "1        gear_2  gears_1  \n",
       "2        gear_3  gears_1  \n",
       "3        gear_4  gears_1  \n",
       "4  background_5  gears_1  "
      ]
     },
     "execution_count": 4,
     "metadata": {},
     "output_type": "execute_result"
    }
   ],
   "source": [
    "## inspect R\n",
    "R.head()"
   ]
  },
  {
   "cell_type": "code",
   "execution_count": 5,
   "metadata": {},
   "outputs": [
    {
     "name": "stdout",
     "output_type": "stream",
     "text": [
      "Checks passed for causal and non-causal counts!\n"
     ]
    }
   ],
   "source": [
    "## sanity check: same number of causal and non-causal elements in toys\n",
    "from copy import deepcopy\n",
    "causalcheck = deepcopy(R)\n",
    "\n",
    "#exclude background and light\n",
    "noncausal = R[((R.roi_name == 'background') | (R.roi_name == 'light'))].index\n",
    "causalcheck.drop(noncausal , inplace=True)\n",
    "\n",
    "#check same number of True's and False's for elements of each toy\n",
    "for group, checkcausal in causalcheck.groupby(['toy_type', 'toy_variant']):\n",
    "    num_True = checkcausal[checkcausal['causal']==True]['causal'].shape[0]\n",
    "    num_False = checkcausal[checkcausal['causal']==False]['causal'].shape[0]\n",
    "    assert num_True == num_False\n",
    "print('Checks passed for causal and non-causal counts!')\n",
    "    "
   ]
  },
  {
   "cell_type": "markdown",
   "metadata": {},
   "source": [
    "### generate stim URLs for each segmented machine"
   ]
  },
  {
   "cell_type": "code",
   "execution_count": 6,
   "metadata": {},
   "outputs": [
    {
     "data": {
      "text/plain": [
       "<module 'utils' from '/Users/hollyhuey/causaldraw_annotations/utils/utils.py'>"
      ]
     },
     "execution_count": 6,
     "metadata": {},
     "output_type": "execute_result"
    }
   ],
   "source": [
    "import boto3\n",
    "import botocore\n",
    "import utils as h\n",
    "importlib.reload(h)"
   ]
  },
  {
   "cell_type": "code",
   "execution_count": 7,
   "metadata": {
    "scrolled": true
   },
   "outputs": [],
   "source": [
    "reallyRun = False\n",
    "if reallyRun:\n",
    "    ## upload stims\n",
    "    bucket_name = 'causaldraw-annotations'\n",
    "    path_to_stim = ROI_dir\n",
    "    ref_urls = h.upload_stims_to_s3(path_to_stim, bucket_name, overwrite=True)\n",
    "\n",
    "    ## look at ref_urls\n",
    "    print(ref_urls)\n",
    "else:\n",
    "    ref_urls = h.generate_s3_url(ROI_dir, bucket_name='causaldraw-annotations')"
   ]
  },
  {
   "cell_type": "markdown",
   "metadata": {},
   "source": [
    "### now generate trial metadata for annotations task"
   ]
  },
  {
   "cell_type": "code",
   "execution_count": 8,
   "metadata": {},
   "outputs": [],
   "source": [
    "## task params\n",
    "num_sketches_per_annot_session = 10"
   ]
  },
  {
   "cell_type": "code",
   "execution_count": 9,
   "metadata": {},
   "outputs": [],
   "source": [
    "## add segmented reference urls to metadata\n",
    "machineIDs = ['_'.join(i.split('/')[-1].split('_')[:2]) for i in ref_urls]\n",
    "mid2url = dict(zip(machineIDs,ref_urls))\n",
    "R['ref_url'] = R.apply(lambda x: mid2url[x['toy_id']],axis=1)\n",
    "\n",
    "## also make sure to add unsegmented ref images (image_urls)\n",
    "image_urls = ['gears_2.png', \n",
    "             'pulleys_2.png', \n",
    "             'levers_2.png', \n",
    "             'pulleys_1.png', \n",
    "             'gears_1.png', \n",
    "             'levers_1.png']\n",
    "imid2url = dict(zip(machineIDs,image_urls))\n",
    "R['raw_ref_url'] = R.apply(lambda x: imid2url[x['toy_id']],axis=1)\n",
    "\n",
    "## save out ROI list as tidy dataframe (CSV)\n",
    "R.to_csv('causaldraw_rois.csv',index=False)"
   ]
  },
  {
   "cell_type": "code",
   "execution_count": 10,
   "metadata": {},
   "outputs": [],
   "source": [
    "reallyRun = False\n",
    "if reallyRun:\n",
    "    ## sanity check: all image urls work\n",
    "    checkurls = np.unique(R['ref_url'])\n",
    "\n",
    "    broken_urls = []\n",
    "\n",
    "    for i, url in enumerate(checkurls):\n",
    "        if requests.get(url).status_code == 200:\n",
    "            print('URL {} of {} works!'.format(i+1, len(checkurls)))\n",
    "        else: \n",
    "            broken_urls.append(url)\n",
    "        clear_output(wait=True)\n",
    "        \n",
    "        "
   ]
  },
  {
   "cell_type": "code",
   "execution_count": 11,
   "metadata": {
    "scrolled": false
   },
   "outputs": [],
   "source": [
    "reallyRun = False\n",
    "if reallyRun:\n",
    "    ## sanity check (manual version): view each image\n",
    "    for url in checkurls:\n",
    "        print(url)\n",
    "\n",
    "    #select any url and copy-paste into next code in source src=\"XXX.png\" to check whether file was uploaded online\n",
    "    from IPython.display import HTML\n",
    "\n",
    "    ## check whether image was uploaded online \n",
    "    HTML(\"\"\"\n",
    "        <img width=\"320\" height=\"240\"src=\"https://causaldraw-annotations.s3.amazonaws.com/gears_1_annotations.png\"> \n",
    "    \"\"\")"
   ]
  },
  {
   "cell_type": "markdown",
   "metadata": {},
   "source": [
    "### load in stroke data"
   ]
  },
  {
   "cell_type": "code",
   "execution_count": 12,
   "metadata": {},
   "outputs": [],
   "source": [
    "## assuming causaldraw repo is in same location on machine as causaldraw_annotations, grab stroke results csv\n",
    "iterationName = 'run1'\n",
    "path_to_strokes = (os.path.join(proj_dir,'..', 'causaldraw','results',\n",
    "                                'csv',iterationName,\n",
    "                                'causaldraw_stroke_data_{}.csv'.format(iterationName)))\n",
    "S = pd.read_csv(path_to_strokes)\n",
    "\n",
    "## preprocessing\n",
    "S = S.drop(labels=['workerId'],axis=1) # scrub workerId from this csv\n",
    "S['toy_id'] = S.apply(lambda x: '{}_{}'.format(x['toy_type'], x['toy_variant']), axis=1) \n",
    "S['sketch_id'] = S.apply(lambda x: '{}.{}'.format(x['toy_id'], x['gameID']), axis=1)\n",
    "(S.rename(columns={'trialNum':'orig_trialNum', 'gameID': 'orig_gameID', \n",
    "                   'hitID': 'orig_hitID', 'aID': 'orig_aID', \n",
    "                   'version': 'orig_version'}, inplace=True))\n",
    "assert len(np.unique(S['sketch_id'].values))==S['orig_gameID'].nunique() * S['toy_id'].nunique()\n",
    "\n",
    "## double check that our invalid gameIDs are NOT in S (see causaldraw_analysis.ipynb in causaldraw repo)\n",
    "invalid_gameids = ['8412-0ff784f1-021a-4e29-a013-0a69fc96dcb2', '4893-26ef64b2-9251-46ed-8f79-7921af54a772']\n",
    "assert (invalid_gameids[1] in S['orig_gameID'].unique())==False"
   ]
  },
  {
   "cell_type": "code",
   "execution_count": 13,
   "metadata": {},
   "outputs": [],
   "source": [
    "## some sanity checks\n",
    "\n",
    "## grouping by toy_id and gameID will give us bundles of strokes belonging to the same sketch\n",
    "for name, group in S.groupby(['toy_id','orig_gameID']):\n",
    "    ## make sure that all strokes in each group are from the same trial\n",
    "    assert len(np.unique(group['orig_trialNum'].values))==1 \n",
    "    \n",
    "## iterate over toy_ids, fetching all N=50 unique drawings of each toy\n",
    "for name, group in S.groupby(['toy_id']):\n",
    "    assert len(np.unique(group['sketch_id'].values))==S['orig_gameID'].nunique()    \n",
    "    pass    "
   ]
  },
  {
   "cell_type": "markdown",
   "metadata": {},
   "source": [
    "#### Create copy of S that has extra batch ID columns"
   ]
  },
  {
   "cell_type": "code",
   "execution_count": 14,
   "metadata": {},
   "outputs": [
    {
     "name": "stdout",
     "output_type": "stream",
     "text": [
      "Created copy of S called S2 that has extra batch ID columns.\n"
     ]
    }
   ],
   "source": [
    "### Generating copy of S called S2 that has extra batch ID columns.\n",
    "### So we can group sets of strokes together into annotation sessions.\n",
    "\n",
    "S2 = pd.DataFrame()\n",
    "## iterate over toy_ids, fetching all N=50 unique drawings of each toy\n",
    "for name, group in S.groupby(['toy_id']):\n",
    "    assert len(np.unique(group['sketch_id'].values))==S['orig_gameID'].nunique()    \n",
    "    \n",
    "    ## permute using specific random seed\n",
    "    seeds = np.arange(S['toy_id'].nunique())\n",
    "    shuffle_ids = np.random.RandomState(0).permutation(np.arange(S['orig_gameID'].nunique()))\n",
    "\n",
    "    ## create dictionary that maps from sketch_ids to shuffle_ids\n",
    "    skid2shuff = dict(zip(list(np.unique(group['sketch_id'].values)),list(shuffle_ids)))\n",
    "\n",
    "    ## add shuffle_id column to this group\n",
    "    group = group.assign(shuffle_id = group.apply(lambda x: skid2shuff[x['sketch_id']], axis=1))\n",
    "\n",
    "    ## how many batches do we want? \n",
    "    ## if there are N=50 drawings of each machine, and 10 drawings in each annotation session\n",
    "    ## then we want 50/10 = 5 batches for each machine ... 30 batches in total for all 6 machines\n",
    "    if len(shuffle_ids) % num_sketches_per_annot_session == 0:\n",
    "        num_batches = np.int(len(shuffle_ids) / num_sketches_per_annot_session)\n",
    "        \n",
    "    ## generate a batch_id to associate with every batch WITHIN MACHINE \n",
    "    group = group.assign(batch_id_within_machine = (group.apply(\n",
    "                                    lambda x: np.int(np.floor(x['shuffle_id']/num_sketches_per_annot_session)), axis=1)))\n",
    "    assert group['batch_id_within_machine'].nunique() == num_batches\n",
    "\n",
    "    group = group.assign(batch_id_across_machines = (group.apply(lambda x: '{}_batch_{}'\n",
    "                                                 .format(x['toy_id'],x['batch_id_within_machine']), axis=1)))\n",
    "\n",
    "    ## ok, not elegant, but re-build up a copy of S that has the additional columns\n",
    "    S2 = pd.concat([S2, group], axis=0)\n",
    "    \n",
    "print('Created copy of S called S2 that has extra batch ID columns.')    \n",
    "assert S2.shape[0]==S.shape[0]\n",
    "assert S2.shape[1]!=S.shape[1]    \n",
    "assert S2['batch_id_across_machines'].nunique() == S2['toy_id'].nunique() * S2['batch_id_within_machine'].nunique()"
   ]
  },
  {
   "cell_type": "markdown",
   "metadata": {},
   "source": [
    "#### create Meta object"
   ]
  },
  {
   "cell_type": "code",
   "execution_count": null,
   "metadata": {
    "scrolled": false
   },
   "outputs": [],
   "source": [
    "### To remind ourselves: our goal is to make a Meta that is a list of 30 dictionaries\n",
    "## each of those 30 dictionaries contains an entire annotation session, with a unique batch_id ranging from 0-29.\n",
    "## an annotation session consists of 10 sketches\n",
    "\n",
    "## So for each batch_id_across machines, we want:\n",
    "## an OUTER list of an INNER list of dictionaries, \n",
    "## where each dictionary is a single stroke\n",
    "## and the INNER list is a list of strokes within a sketch\n",
    "## and the OUTER list is a list of trials within a batch\n",
    "\n",
    "## the key metadata attributes we want\n",
    "keys_to_keep = ['arcLength','condition','currStrokeNum','demo_dur','demo_seq',\n",
    "                'endStrokeTime','eventType','file_id','orig_gameID','iterationName',\n",
    "                'phase','startResponseTime','startStrokeTime','stim_url', \n",
    "                'svg','time','toy_type','toy_variant','orig_trialNum','orig_version',\n",
    "                'toy_id','sketch_id','shuffle_id','batch_id_within_machine',\n",
    "                'batch_id_across_machines']\n",
    "\n",
    "Meta = [] \n",
    "printed=False\n",
    "for name, group in S2.groupby(['batch_id_across_machines']):  \n",
    "    print('Adding {} to Meta'.format(name)) \n",
    "    clear_output(wait=True)\n",
    "    Batch = {} # initialize batch-level dictionary \n",
    "    Trials = [] # list of sketches, each list containing sublist of strokes & ROI information\n",
    "    for n,g in group.groupby('sketch_id'): # looping over sketches within a batch\n",
    "        _g = g[keys_to_keep] # select only metadata we want\n",
    "        rois = R[R['toy_id']==g.toy_id.unique()[0]].to_dict(orient='records')\n",
    "        strokes = _g.to_dict(orient='records')\n",
    "        Trials.append({'strokes': strokes, 'rois': rois}) # append list of strokes and rois to trial list\n",
    "    Batch['meta'] = Trials # attaching trial list to batch metadata\n",
    "    Batch['batch_id'] = np.unique(group['batch_id_across_machines'].values)[0]  \n",
    "    Batch['games'] = []\n",
    "    Meta.append(Batch)\n",
    "\n",
    "print('Done!')\n",
    "\n",
    "## quick sanity check: length of each batch checks out\n",
    "assert len(Meta[0]['meta'])==num_sketches_per_annot_session\n",
    "\n",
    "## sanity check: each sketch is a dictionary containing (data) strokes and (new metadata) roi information\n",
    "assert list(Meta[0]['meta'][0].keys())==['strokes','rois']"
   ]
  },
  {
   "cell_type": "markdown",
   "metadata": {},
   "source": [
    "#### save Meta out to file (for redundancy)"
   ]
  },
  {
   "cell_type": "code",
   "execution_count": null,
   "metadata": {},
   "outputs": [],
   "source": [
    "# save stimulus dictionary out to file (for redundancy)\n",
    "dataset_name = 'causaldraw_annotations'\n",
    "print('Saving out json dictionary out to file...') \n",
    "with open('{}_meta.js'.format(dataset_name), 'w') as fout:\n",
    "    json.dump(Meta, fout)\n",
    "print('Done!')"
   ]
  },
  {
   "cell_type": "markdown",
   "metadata": {},
   "source": [
    "#### Load JSON file that we just saved out, back in (not strictly necessary to do this, but anyway)"
   ]
  },
  {
   "cell_type": "code",
   "execution_count": null,
   "metadata": {},
   "outputs": [],
   "source": [
    "### next todo is to upload this JSON to initialize the new stimulus collection\n",
    "J = json.loads(open('{}_meta.js'.format(dataset_name),mode='r').read())\n",
    "print('dataset_name: {}'.format(dataset_name))\n",
    "print('Length of J is: {}'.format(len(J)))"
   ]
  },
  {
   "cell_type": "markdown",
   "metadata": {},
   "source": [
    "#### extract stroke data to construct catch trial for causaldraw_annotations\n",
    "\n",
    "These are trials to use as catch trials:\n",
    "\n",
    "```\n",
    "- gears1catch = {'orig_gameID':'4659-683c0845-cf14-4240-bd20-573c8b7926d8', 'orig_trialNum':1}\n",
    "- gears2catch = {'orig_gameID':'5235-eb1c8b46-bab0-42e7-8fea-bc50850cd0de', 'orig_trialNum':1}\n",
    "- levers1catch = {'orig_gameID':'3420-94c6faa4-2c3d-4f6f-a409-e9484a130847', 'orig_trialNum':4}\n",
    "- levers2 = {'orig_gameID':'8798-4a19eaf6-12f9-4a97-adf2-469707d7995f', 'orig_trialNum':3}\n",
    "- pulley1 = {'orig_gameID':'9226-c136ef9a-0131-4850-bf5f-1beaf85afcc6', 'orig_trialNum':3}\n",
    "- pulley2 = {'orig_gameID':'7873-86193d3b-b7ba-4998-b5c2-eef9e242d7d5', 'orig_trialNum':4}\n",
    "```"
   ]
  },
  {
   "cell_type": "markdown",
   "metadata": {},
   "source": [
    "###### single example"
   ]
  },
  {
   "cell_type": "code",
   "execution_count": null,
   "metadata": {},
   "outputs": [],
   "source": [
    "## these are the unique identifiers for the catch trials for each of the six machines\n",
    "gears2catch = {'orig_gameID':'2989-156d9df6-e309-430b-bbac-e47b6792127e', 'orig_trialNum':0}\n",
    "\n",
    "## iterate over J, which contains 30 batches \n",
    "for i,j in enumerate(J):\n",
    "    ## iterate over j['meta'] which contains 10 annotation trials\n",
    "    for _i,_j in enumerate(j['meta']):\n",
    "        ## grab original gameID/trialNum from first stroke and compare to our target identifier (e.g., gears2catch)\n",
    "        gameID_match = (_j['strokes'][0]['orig_gameID']==gears2catch['orig_gameID'])\n",
    "        trialNum_match = (_j['strokes'][0]['orig_trialNum']==gears2catch['orig_trialNum'])\n",
    "        if gameID_match and trialNum_match:\n",
    "            gears2catch['strokes'] = _j['strokes']\n",
    "            gears2catch['rois'] = _j['rois']\n",
    "            print('Found the matching stroke data and assigned it to our dictionary!')\n",
    "        else:\n",
    "            pass"
   ]
  },
  {
   "cell_type": "markdown",
   "metadata": {},
   "source": [
    "###### extracting for any machine given J and the corresponding \"catch trial dictionary\" (aka `catch_dict`)"
   ]
  },
  {
   "cell_type": "code",
   "execution_count": null,
   "metadata": {},
   "outputs": [],
   "source": [
    "def extract_matching_strokes(J, catch_dict):\n",
    "    '''\n",
    "    input:\n",
    "        J = JSON object with metadata for causaldraw_annotations\n",
    "        catch_dict = dictionary with orig_gameID and orig_trialNum we are using to filter for matching stroke data in J\n",
    "    output:\n",
    "        updated version of catch_dict with stroke/roi data\n",
    "    '''\n",
    "    ## iterate over J, which contains 30 batches \n",
    "    for i,j in enumerate(J):\n",
    "        ## iterate over j['meta'] which contains 10 annotation trials\n",
    "        for _i,_j in enumerate(j['meta']):\n",
    "            ## grab original gameID/trialNum from first stroke and compare to our target identifier (e.g., catch_dict)\n",
    "            gameID_match = (_j['strokes'][0]['orig_gameID']==catch_dict['orig_gameID'])\n",
    "            trialNum_match = (_j['strokes'][0]['orig_trialNum']==catch_dict['orig_trialNum'])\n",
    "            if gameID_match and trialNum_match:\n",
    "                catch_dict['strokes'] = _j['strokes']\n",
    "                catch_dict['rois'] = _j['rois']\n",
    "                print('Found the matching stroke data and assigned it to our dictionary!')\n",
    "            else:\n",
    "                pass    \n",
    "    return catch_dict"
   ]
  },
  {
   "cell_type": "code",
   "execution_count": null,
   "metadata": {},
   "outputs": [],
   "source": [
    "## testing function out\n",
    "gears2catch = {'orig_gameID':'5235-eb1c8b46-bab0-42e7-8fea-bc50850cd0de', 'orig_trialNum':1}\n",
    "gears2catch = extract_matching_strokes(J, gears2catch)\n",
    "len(gears2catch['strokes'])\n",
    "\n",
    "#note: removed 1 ambiguous stroke in post-production, so len = 19"
   ]
  },
  {
   "cell_type": "code",
   "execution_count": null,
   "metadata": {},
   "outputs": [],
   "source": [
    "gears1catch = {'orig_gameID':'4659-683c0845-cf14-4240-bd20-573c8b7926d8', 'orig_trialNum':1}\n",
    "gears1catch = extract_matching_strokes(J, gears1catch)\n",
    "len(gears1catch['strokes'])\n",
    "\n",
    "#removed 2 ambiguous strokes in post-production, so len = 18"
   ]
  },
  {
   "cell_type": "code",
   "execution_count": null,
   "metadata": {},
   "outputs": [],
   "source": [
    "pulleys1catch = {'orig_gameID':'9226-c136ef9a-0131-4850-bf5f-1beaf85afcc6', 'orig_trialNum':3}\n",
    "pulleys1catch = extract_matching_strokes(J, pulleys1catch)\n",
    "len(pulleys1catch['strokes'])\n",
    "\n",
    "#note: removed 2 ambigious strokes in post-production/also removed 4 strokes in attempt to match stroke num, so len = 22"
   ]
  },
  {
   "cell_type": "code",
   "execution_count": null,
   "metadata": {},
   "outputs": [],
   "source": [
    "pulleys2catch = {'orig_gameID':'7873-86193d3b-b7ba-4998-b5c2-eef9e242d7d5', 'orig_trialNum':4}\n",
    "pulleys2catch = extract_matching_strokes(J, pulleys2catch)\n",
    "len(pulleys2catch['strokes'])\n",
    "\n",
    "#note: 0 strokes removed in post-production, so len = 17"
   ]
  },
  {
   "cell_type": "code",
   "execution_count": null,
   "metadata": {},
   "outputs": [],
   "source": [
    "levers2catch = {'orig_gameID':'8798-4a19eaf6-12f9-4a97-adf2-469707d7995f', 'orig_trialNum':3}\n",
    "levers2catch = extract_matching_strokes(J, levers2catch)\n",
    "len(levers2catch['strokes'])\n",
    "\n",
    "#note: 0 strokes removed in post-production, so len = 20"
   ]
  },
  {
   "cell_type": "code",
   "execution_count": null,
   "metadata": {},
   "outputs": [],
   "source": [
    "levers1catch = {'orig_gameID':'3420-94c6faa4-2c3d-4f6f-a409-e9484a130847', 'orig_trialNum':4}\n",
    "levers1catch = extract_matching_strokes(J, levers1catch)\n",
    "len(levers1catch['strokes'])\n",
    "\n",
    "#note: 0 strokes removed in post-production, so len = 21"
   ]
  },
  {
   "cell_type": "markdown",
   "metadata": {},
   "source": [
    "### now insert records in J (same as elements of Meta) into mongodb"
   ]
  },
  {
   "cell_type": "code",
   "execution_count": null,
   "metadata": {},
   "outputs": [],
   "source": [
    "# set vars \n",
    "auth = pd.read_csv('auth.txt', header = None) # this auth.txt file contains the password for the sketchloop user\n",
    "pswd = auth.values[0][0]\n",
    "user = 'sketchloop'\n",
    "host = 'cogtoolslab.org'\n",
    "\n",
    "conn = pm.MongoClient('mongodb://sketchloop:' + pswd + '@127.0.0.1:27017') \n",
    "db = conn['stimuli']\n",
    "coll = db['causaldraw_annotations']"
   ]
  },
  {
   "cell_type": "code",
   "execution_count": null,
   "metadata": {
    "scrolled": false
   },
   "outputs": [],
   "source": [
    "## now really insert data\n",
    "reallyRun = False\n",
    "if reallyRun:\n",
    "    for (i,j) in enumerate(J):\n",
    "        print ('%d of %d uploaded ...' % (i+1,len(J)))\n",
    "        clear_output(wait=True)\n",
    "        coll.insert_one(j)\n",
    "print('Done!')"
   ]
  },
  {
   "cell_type": "code",
   "execution_count": null,
   "metadata": {},
   "outputs": [],
   "source": [
    "## do we have as many batches as we mean to?\n",
    "assert coll.estimated_document_count()==30"
   ]
  },
  {
   "cell_type": "code",
   "execution_count": null,
   "metadata": {
    "scrolled": false
   },
   "outputs": [],
   "source": [
    "## inspect one of these annotation sessions\n",
    "#coll.find_one()\n"
   ]
  },
  {
   "cell_type": "markdown",
   "metadata": {},
   "source": [
    "\n",
    "#### create minimeta that contains just the metadata for a single sketch"
   ]
  },
  {
   "cell_type": "code",
   "execution_count": null,
   "metadata": {},
   "outputs": [],
   "source": [
    "one_batch = coll.find_one()\n",
    "one_sketch = one_batch['meta'][1]\n",
    "num_strokes = len(one_sketch['strokes']) ## grab a simple sketch\n",
    "## save single sketch data out\n",
    "with open('../experiments/data/example.json', 'w') as fout:\n",
    "    json.dump(one_sketch, fout)"
   ]
  },
  {
   "cell_type": "code",
   "execution_count": null,
   "metadata": {
    "scrolled": false
   },
   "outputs": [],
   "source": [
    "coll.estimated_document_count()"
   ]
  },
  {
   "cell_type": "code",
   "execution_count": null,
   "metadata": {},
   "outputs": [],
   "source": [
    "db.list_collection_names()"
   ]
  },
  {
   "cell_type": "code",
   "execution_count": null,
   "metadata": {},
   "outputs": [],
   "source": [
    "db.list_collection_names()"
   ]
  },
  {
   "cell_type": "code",
   "execution_count": null,
   "metadata": {
    "scrolled": true
   },
   "outputs": [],
   "source": [
    "conn.list_database_names()"
   ]
  },
  {
   "cell_type": "code",
   "execution_count": null,
   "metadata": {},
   "outputs": [],
   "source": []
  },
  {
   "cell_type": "code",
   "execution_count": null,
   "metadata": {},
   "outputs": [],
   "source": []
  },
  {
   "cell_type": "code",
   "execution_count": null,
   "metadata": {},
   "outputs": [],
   "source": [
    "## BE EXTRA CAREFUL WITH THIS -- this is to drop records in the causaldraw_annotations collection, which is stored in\n",
    "## in the db. Because all grads' records are stored in the stimuli db, we want to be extra careful with this!!!\n",
    "\n",
    "### db.drop_collection('causaldraw_annotations')"
   ]
  },
  {
   "cell_type": "code",
   "execution_count": null,
   "metadata": {},
   "outputs": [],
   "source": []
  }
 ],
 "metadata": {
  "kernelspec": {
   "display_name": "Python 3",
   "language": "python",
   "name": "python3"
  },
  "language_info": {
   "codemirror_mode": {
    "name": "ipython",
    "version": 3
   },
   "file_extension": ".py",
   "mimetype": "text/x-python",
   "name": "python",
   "nbconvert_exporter": "python",
   "pygments_lexer": "ipython3",
   "version": "3.7.2"
  }
 },
 "nbformat": 4,
 "nbformat_minor": 2
}
