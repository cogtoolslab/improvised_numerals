{
 "cells": [
  {
   "cell_type": "markdown",
   "metadata": {},
   "source": [
    "# Getting Sketch Partitions for Rating Study"
   ]
  },
  {
   "cell_type": "markdown",
   "metadata": {},
   "source": [
    "## Fetch the sketch paths from that folder"
   ]
  },
  {
   "cell_type": "code",
   "execution_count": null,
   "metadata": {
    "collapsed": true
   },
   "outputs": [],
   "source": [
    "import os\n",
    "import json\n",
    "import pandas as pd\n",
    "import numpy as np"
   ]
  },
  {
   "cell_type": "code",
   "execution_count": null,
   "metadata": {
    "collapsed": false
   },
   "outputs": [],
   "source": [
    "proj_dir = os.path.abspath('..')\n",
    "exp_name = 'rate_iternum'\n",
    "exp_dir = os.path.join(proj_dir,exp_name)\n",
    "sketch_dir = os.path.abspath(os.path.join(proj_dir,'sketches'))\n",
    "\n",
    "sketches = os.listdir(sketch_dir) # list out all the sketches in that directory\n",
    "\n",
    "# batchdir = os.path.abspath('../experiments/rate_iternum/batches')\n",
    "\n",
    "# if not os.path.exists(batchdir):\n",
    "#     os.makedirs(batchdir)"
   ]
  },
  {
   "cell_type": "markdown",
   "metadata": {},
   "source": [
    "## Assemble a dataframe from all the sketches"
   ]
  },
  {
   "cell_type": "code",
   "execution_count": null,
   "metadata": {
    "collapsed": false
   },
   "outputs": [],
   "source": [
    "sketch_info = pd.DataFrame(columns = [\"GameId\",\"Animal\",\"Cardinality\",\"Trial\",\"Cond\",\"Version\",\"URL\"]) # initialize dataframe\n",
    "\n",
    "for i in range(len(sketches)): # for every sketch\n",
    "    name = sketches[i].split('_') # split up its metadata\n",
    "    stimID = name[4].split('_') # ... by multiple delimiters\n",
    "    stimurl = \"https://iternum-sketches.s3.amazonaws.com/\" + name[0] + '+' + stimID[0] + '_' + str(int(stimID[1])-1) + '+' + name[2] + '+' + name[3] + '+' + name[4]     \n",
    "    row = np.array([name[0],stimID[0],stimID[1],name[2],name[3],stimID[2].split('.')[0],stimurl]) # put into relevant column\n",
    "    sketch_info.loc[len(sketch_info)] = row # now append that to the sketch info dataframe\n",
    "    \n",
    "sketch_info"
   ]
  },
  {
   "cell_type": "code",
   "execution_count": null,
   "metadata": {
    "collapsed": false
   },
   "outputs": [],
   "source": [
    "sketch_info.iloc[0]['URL']"
   ]
  },
  {
   "cell_type": "markdown",
   "metadata": {},
   "source": [
    "## Assemble the partitions"
   ]
  },
  {
   "cell_type": "code",
   "execution_count": null,
   "metadata": {
    "collapsed": false
   },
   "outputs": [],
   "source": [
    "bag = sketch_info    # the bag of sketches to sample, because sampling without replacement\n",
    "\n",
    "games = bag.GameId.unique() # we want this to be a unique list of all the games\n",
    "paradigms = [] # this will be a list of dataframes, each dataframe containing the sketches to be rated by a rater\n",
    "# paradigms = {} # actually, make that a dictionary\n",
    "\n",
    "\n",
    "batch = 1\n",
    "while len(bag) > 0: # sample from the bag without replacement\n",
    "    paradigm = pd.DataFrame(columns = [\"GameId\",\"Animal\",\"Cardinality\",\"Trial\",\"Cond\",\"Version\",\"URL\"]) # initialize paradigm\n",
    "    \n",
    "    for i in range(len(games)): # we want each rater to see [no more than] one sketch from each game\n",
    "        row = bag[bag['GameId']==games[i]].sample(n=1,replace=False) # sample a sketch at random from the game\n",
    "        bag = bag.drop(index = row.index) # remove it from the bag\n",
    "        paradigm = paradigm.append(row) # and tack on that sketch to this rater's paradigm\n",
    "    paradigms.append(paradigm.reset_index(drop=True)) # when a paradigm is assembled, but it into the list\n",
    "#     paradigms[batch] = paradigm # rather than append to a list, add a key-value to a dictionary\n",
    "    batch += 1\n",
    "    \n",
    "num_partitions = len(paradigms[0])    \n",
    "print('We have {} unique partitions.'.format(num_partitions)) # Should be 32 paradigms of 60 sketches; each rater sees one per game, requiring 32 raters\n",
    "\n",
    "# print(paradigms[1].iloc[3,6])    # print one of the urls\n",
    "    "
   ]
  },
  {
   "cell_type": "markdown",
   "metadata": {},
   "source": [
    "## Convert list of dataframes to an array of JSON objects"
   ]
  },
  {
   "cell_type": "code",
   "execution_count": null,
   "metadata": {
    "collapsed": true
   },
   "outputs": [],
   "source": [
    "this_paradigm = paradigms[0]"
   ]
  },
  {
   "cell_type": "code",
   "execution_count": null,
   "metadata": {
    "collapsed": false
   },
   "outputs": [],
   "source": [
    "this_paradigm.iloc[0]['URL']"
   ]
  },
  {
   "cell_type": "code",
   "execution_count": null,
   "metadata": {
    "collapsed": false
   },
   "outputs": [],
   "source": [
    "#this_paradigm.to_json(orient='records')"
   ]
  },
  {
   "cell_type": "code",
   "execution_count": null,
   "metadata": {
    "collapsed": true
   },
   "outputs": [],
   "source": [
    "## Objective: to save out a stimList.js that contain a dictionary of dictionaries\n",
    "## stimList = {{'versionID': 0, 'meta':{...}}}\n",
    "## \"versionID\" refers to the specific partition ID\n",
    "## \"meta\" refers to the metadata corresponding to that partition, e.g., paradigms[0]"
   ]
  },
  {
   "cell_type": "code",
   "execution_count": null,
   "metadata": {
    "collapsed": true
   },
   "outputs": [],
   "source": []
  },
  {
   "cell_type": "code",
   "execution_count": null,
   "metadata": {
    "collapsed": true
   },
   "outputs": [],
   "source": [
    "# for i in range(len(paradigms)):\n",
    "#     paradigm = paradigms[i]\n",
    "#     paradigm.to_csv(batchdir + '/batch_{}.csv'.format(str(i+1)))\n",
    "    \n",
    "    #had it saving to jsons earlier but I don't think it worked wells\n",
    "#     js = paradigm.to_json()\n",
    "#     with open(batchdir + '/batch_{}.csv'.format(str(i+1)), 'w') as outfile:\n",
    "#         json.dump(js, outfile)\n",
    "    \n",
    "    "
   ]
  }
 ],
 "metadata": {
  "kernelspec": {
   "display_name": "Python 2",
   "language": "python",
   "name": "python2"
  },
  "language_info": {
   "codemirror_mode": {
    "name": "ipython",
    "version": 2
   },
   "file_extension": ".py",
   "mimetype": "text/x-python",
   "name": "python",
   "nbconvert_exporter": "python",
   "pygments_lexer": "ipython2",
   "version": "2.7.13"
  }
 },
 "nbformat": 4,
 "nbformat_minor": 2
}
