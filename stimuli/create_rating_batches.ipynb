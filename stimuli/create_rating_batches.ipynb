{
 "cells": [
  {
   "cell_type": "markdown",
   "metadata": {},
   "source": [
    "# Getting Sketch Partitions for Rating Study"
   ]
  },
  {
   "cell_type": "markdown",
   "metadata": {},
   "source": [
    "## Fetch the sketch paths from that folder"
   ]
  },
  {
   "cell_type": "code",
   "execution_count": 1,
   "metadata": {},
   "outputs": [],
   "source": [
    "import os\n",
    "import json\n",
    "import pandas as pd\n",
    "import numpy as np\n"
   ]
  },
  {
   "cell_type": "code",
   "execution_count": 2,
   "metadata": {},
   "outputs": [],
   "source": [
    "sketchpath = os.path.abspath('../sketches')\n",
    "sketches = os.listdir(sketchpath) # list out all the sketches in that directory\n",
    "\n",
    "batchdir = os.path.abspath('batches')\n",
    "\n",
    "if not os.path.exists(batchdir):\n",
    "    os.makedirs(batchdir)"
   ]
  },
  {
   "cell_type": "markdown",
   "metadata": {},
   "source": [
    "## Assemble a dataframe from all the sketches"
   ]
  },
  {
   "cell_type": "code",
   "execution_count": 3,
   "metadata": {},
   "outputs": [
    {
     "data": {
      "text/html": [
       "<div>\n",
       "<style scoped>\n",
       "    .dataframe tbody tr th:only-of-type {\n",
       "        vertical-align: middle;\n",
       "    }\n",
       "\n",
       "    .dataframe tbody tr th {\n",
       "        vertical-align: top;\n",
       "    }\n",
       "\n",
       "    .dataframe thead th {\n",
       "        text-align: right;\n",
       "    }\n",
       "</style>\n",
       "<table border=\"1\" class=\"dataframe\">\n",
       "  <thead>\n",
       "    <tr style=\"text-align: right;\">\n",
       "      <th></th>\n",
       "      <th>GameId</th>\n",
       "      <th>Animal</th>\n",
       "      <th>Cardinality</th>\n",
       "      <th>Trial</th>\n",
       "      <th>Cond</th>\n",
       "      <th>Version</th>\n",
       "      <th>URL</th>\n",
       "    </tr>\n",
       "  </thead>\n",
       "  <tbody>\n",
       "    <tr>\n",
       "      <td>0</td>\n",
       "      <td>0074-988d4ee1-5766-47b5-bcbb-49a720aee30d</td>\n",
       "      <td>bear</td>\n",
       "      <td>1</td>\n",
       "      <td>22</td>\n",
       "      <td>number</td>\n",
       "      <td>057</td>\n",
       "      <td>https://iternum-sketches.s3.amazonaws.com/0074...</td>\n",
       "    </tr>\n",
       "    <tr>\n",
       "      <td>1</td>\n",
       "      <td>0074-988d4ee1-5766-47b5-bcbb-49a720aee30d</td>\n",
       "      <td>bear</td>\n",
       "      <td>2</td>\n",
       "      <td>31</td>\n",
       "      <td>number</td>\n",
       "      <td>051</td>\n",
       "      <td>https://iternum-sketches.s3.amazonaws.com/0074...</td>\n",
       "    </tr>\n",
       "    <tr>\n",
       "      <td>2</td>\n",
       "      <td>0074-988d4ee1-5766-47b5-bcbb-49a720aee30d</td>\n",
       "      <td>bear</td>\n",
       "      <td>3</td>\n",
       "      <td>25</td>\n",
       "      <td>number</td>\n",
       "      <td>062</td>\n",
       "      <td>https://iternum-sketches.s3.amazonaws.com/0074...</td>\n",
       "    </tr>\n",
       "    <tr>\n",
       "      <td>3</td>\n",
       "      <td>0074-988d4ee1-5766-47b5-bcbb-49a720aee30d</td>\n",
       "      <td>bear</td>\n",
       "      <td>4</td>\n",
       "      <td>14</td>\n",
       "      <td>number</td>\n",
       "      <td>009</td>\n",
       "      <td>https://iternum-sketches.s3.amazonaws.com/0074...</td>\n",
       "    </tr>\n",
       "    <tr>\n",
       "      <td>4</td>\n",
       "      <td>0074-988d4ee1-5766-47b5-bcbb-49a720aee30d</td>\n",
       "      <td>bear</td>\n",
       "      <td>5</td>\n",
       "      <td>6</td>\n",
       "      <td>number</td>\n",
       "      <td>073</td>\n",
       "      <td>https://iternum-sketches.s3.amazonaws.com/0074...</td>\n",
       "    </tr>\n",
       "    <tr>\n",
       "      <td>...</td>\n",
       "      <td>...</td>\n",
       "      <td>...</td>\n",
       "      <td>...</td>\n",
       "      <td>...</td>\n",
       "      <td>...</td>\n",
       "      <td>...</td>\n",
       "      <td>...</td>\n",
       "    </tr>\n",
       "    <tr>\n",
       "      <td>1915</td>\n",
       "      <td>9628-d7914c9d-2ee9-4706-8d26-93a3fa8008e3</td>\n",
       "      <td>rabbit</td>\n",
       "      <td>4</td>\n",
       "      <td>5</td>\n",
       "      <td>number</td>\n",
       "      <td>092</td>\n",
       "      <td>https://iternum-sketches.s3.amazonaws.com/9628...</td>\n",
       "    </tr>\n",
       "    <tr>\n",
       "      <td>1916</td>\n",
       "      <td>9628-d7914c9d-2ee9-4706-8d26-93a3fa8008e3</td>\n",
       "      <td>rabbit</td>\n",
       "      <td>5</td>\n",
       "      <td>16</td>\n",
       "      <td>number</td>\n",
       "      <td>059</td>\n",
       "      <td>https://iternum-sketches.s3.amazonaws.com/9628...</td>\n",
       "    </tr>\n",
       "    <tr>\n",
       "      <td>1917</td>\n",
       "      <td>9628-d7914c9d-2ee9-4706-8d26-93a3fa8008e3</td>\n",
       "      <td>rabbit</td>\n",
       "      <td>6</td>\n",
       "      <td>30</td>\n",
       "      <td>number</td>\n",
       "      <td>047</td>\n",
       "      <td>https://iternum-sketches.s3.amazonaws.com/9628...</td>\n",
       "    </tr>\n",
       "    <tr>\n",
       "      <td>1918</td>\n",
       "      <td>9628-d7914c9d-2ee9-4706-8d26-93a3fa8008e3</td>\n",
       "      <td>rabbit</td>\n",
       "      <td>7</td>\n",
       "      <td>21</td>\n",
       "      <td>number</td>\n",
       "      <td>081</td>\n",
       "      <td>https://iternum-sketches.s3.amazonaws.com/9628...</td>\n",
       "    </tr>\n",
       "    <tr>\n",
       "      <td>1919</td>\n",
       "      <td>9628-d7914c9d-2ee9-4706-8d26-93a3fa8008e3</td>\n",
       "      <td>rabbit</td>\n",
       "      <td>8</td>\n",
       "      <td>25</td>\n",
       "      <td>number</td>\n",
       "      <td>002</td>\n",
       "      <td>https://iternum-sketches.s3.amazonaws.com/9628...</td>\n",
       "    </tr>\n",
       "  </tbody>\n",
       "</table>\n",
       "<p>1920 rows × 7 columns</p>\n",
       "</div>"
      ],
      "text/plain": [
       "                                         GameId  Animal Cardinality Trial  \\\n",
       "0     0074-988d4ee1-5766-47b5-bcbb-49a720aee30d    bear           1    22   \n",
       "1     0074-988d4ee1-5766-47b5-bcbb-49a720aee30d    bear           2    31   \n",
       "2     0074-988d4ee1-5766-47b5-bcbb-49a720aee30d    bear           3    25   \n",
       "3     0074-988d4ee1-5766-47b5-bcbb-49a720aee30d    bear           4    14   \n",
       "4     0074-988d4ee1-5766-47b5-bcbb-49a720aee30d    bear           5     6   \n",
       "...                                         ...     ...         ...   ...   \n",
       "1915  9628-d7914c9d-2ee9-4706-8d26-93a3fa8008e3  rabbit           4     5   \n",
       "1916  9628-d7914c9d-2ee9-4706-8d26-93a3fa8008e3  rabbit           5    16   \n",
       "1917  9628-d7914c9d-2ee9-4706-8d26-93a3fa8008e3  rabbit           6    30   \n",
       "1918  9628-d7914c9d-2ee9-4706-8d26-93a3fa8008e3  rabbit           7    21   \n",
       "1919  9628-d7914c9d-2ee9-4706-8d26-93a3fa8008e3  rabbit           8    25   \n",
       "\n",
       "        Cond Version                                                URL  \n",
       "0     number     057  https://iternum-sketches.s3.amazonaws.com/0074...  \n",
       "1     number     051  https://iternum-sketches.s3.amazonaws.com/0074...  \n",
       "2     number     062  https://iternum-sketches.s3.amazonaws.com/0074...  \n",
       "3     number     009  https://iternum-sketches.s3.amazonaws.com/0074...  \n",
       "4     number     073  https://iternum-sketches.s3.amazonaws.com/0074...  \n",
       "...      ...     ...                                                ...  \n",
       "1915  number     092  https://iternum-sketches.s3.amazonaws.com/9628...  \n",
       "1916  number     059  https://iternum-sketches.s3.amazonaws.com/9628...  \n",
       "1917  number     047  https://iternum-sketches.s3.amazonaws.com/9628...  \n",
       "1918  number     081  https://iternum-sketches.s3.amazonaws.com/9628...  \n",
       "1919  number     002  https://iternum-sketches.s3.amazonaws.com/9628...  \n",
       "\n",
       "[1920 rows x 7 columns]"
      ]
     },
     "execution_count": 3,
     "metadata": {},
     "output_type": "execute_result"
    }
   ],
   "source": [
    "sketch_info = pd.DataFrame(columns = [\"GameId\",\"Animal\",\"Cardinality\",\"Trial\",\"Cond\",\"Version\",\"URL\"]) # initialize dataframe\n",
    "\n",
    "for i in range(len(sketches)): # for every sketch\n",
    "    name = sketches[i].split('•') # split up its metadata\n",
    "    stimID = name[4].split('_') # ... by multiple delimiters\n",
    "    stimurl = \"https://iternum-sketches.s3.amazonaws.com/\" + name[0] + '•' + stimID[0] + '_' + str(int(stimID[1])-1) + '•' + name[2] + '•' + name[3] + '•' + name[4]     \n",
    "    row = np.array([name[0],stimID[0],stimID[1],name[2],name[3],stimID[2].split('.')[0],stimurl]) # put into relevant column\n",
    "    sketch_info.loc[len(sketch_info)] = row # now append that to the sketch info dataframe\n",
    "    \n",
    "sketch_info"
   ]
  },
  {
   "cell_type": "markdown",
   "metadata": {},
   "source": [
    "## Assemble the partitions"
   ]
  },
  {
   "cell_type": "code",
   "execution_count": 4,
   "metadata": {},
   "outputs": [
    {
     "name": "stdout",
     "output_type": "stream",
     "text": [
      "60\n"
     ]
    }
   ],
   "source": [
    "bag = sketch_info    # the bag of sketches to sample, because sampling without replacement\n",
    "\n",
    "games = bag.GameId.unique() # we want this to be a unique list of all the games\n",
    "paradigms = [] # this will be a list of dataframes, each dataframe containing the sketches to be rated by a rater\n",
    "# paradigms = {} # actually, make that a dictionary\n",
    "\n",
    "\n",
    "batch = 1\n",
    "while len(bag) > 0: # sample from the bag without replacement\n",
    "    paradigm = pd.DataFrame(columns = [\"GameId\",\"Animal\",\"Cardinality\",\"Trial\",\"Cond\",\"Version\",\"URL\"]) # initialize paradigm\n",
    "    \n",
    "    for i in range(len(games)): # we want each rater to see [no more than] one sketch from each game\n",
    "        row = bag[bag['GameId']==games[i]].sample(n=1,replace=False) # sample a sketch at random from the game\n",
    "        bag = bag.drop(index = row.index) # remove it from the bag\n",
    "        paradigm = paradigm.append(row) # and tack on that sketch to this rater's paradigm\n",
    "    paradigms.append(paradigm) # when a paradigm is assembled, but it into the list\n",
    "#     paradigms[batch] = paradigm # rather than append to a list, add a key-value to a dictionary\n",
    "    batch += 1\n",
    "    \n",
    "print(len(paradigms[5])) # Should be 32 paradigms of 60 sketches; each rater sees one per game, requiring 32 raters\n",
    "\n",
    "\n",
    "# print(paradigms[1].iloc[3,6])    # print one of the urls\n",
    "    "
   ]
  },
  {
   "cell_type": "markdown",
   "metadata": {},
   "source": [
    "## And save the partitions out to a nice dictionary"
   ]
  },
  {
   "cell_type": "code",
   "execution_count": 6,
   "metadata": {},
   "outputs": [],
   "source": [
    "for i in range(len(paradigms)):\n",
    "    paradigm = paradigms[i]\n",
    "    js = paradigm.to_json()\n",
    "    with open(batchdir + '/batch_{}.txt'.format(str(i+1)), 'w') as outfile:\n",
    "        json.dump(js, outfile)\n",
    "    \n",
    "    "
   ]
  },
  {
   "cell_type": "code",
   "execution_count": null,
   "metadata": {},
   "outputs": [],
   "source": []
  }
 ],
 "metadata": {
  "kernelspec": {
   "display_name": "Python 3",
   "language": "python",
   "name": "python3"
  },
  "language_info": {
   "codemirror_mode": {
    "name": "ipython",
    "version": 3
   },
   "file_extension": ".py",
   "mimetype": "text/x-python",
   "name": "python",
   "nbconvert_exporter": "python",
   "pygments_lexer": "ipython3",
   "version": "3.7.2"
  }
 },
 "nbformat": 4,
 "nbformat_minor": 2
}
