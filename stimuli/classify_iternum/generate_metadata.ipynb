{
 "cells": [
  {
   "cell_type": "markdown",
   "metadata": {},
   "source": [
    "# Getting Sketch Partitions for Rating Study"
   ]
  },
  {
   "cell_type": "markdown",
   "metadata": {},
   "source": [
    "## Fetch the sketch paths from that folder"
   ]
  },
  {
   "cell_type": "code",
   "execution_count": 70,
   "metadata": {},
   "outputs": [],
   "source": [
    "import os\n",
    "import json\n",
    "import pandas as pd\n",
    "import numpy as np\n",
    "from IPython.display import clear_output\n"
   ]
  },
  {
   "cell_type": "code",
   "execution_count": 71,
   "metadata": {},
   "outputs": [],
   "source": [
    "proj_dir = os.path.abspath('../..')\n",
    "exp_name = 'classify_iternum'\n",
    "exp_dir = os.path.join(proj_dir,exp_name)\n",
    "sketch_dir = os.path.abspath(os.path.join(proj_dir,'sketches'))\n",
    "\n",
    "full_stim_paths = os.listdir(sketch_dir) # list out all the sketches in that directory\n",
    "sketches = [i for i in full_stim_paths if i.split('/')[-1] != '.DS_Store']\n",
    "\n",
    "stimListDir = os.path.abspath('../../experiments/classify_iternum/stimList')\n",
    "\n",
    "if not os.path.exists(stimListDir):\n",
    "    os.makedirs(stimListDir)"
   ]
  },
  {
   "cell_type": "markdown",
   "metadata": {},
   "source": [
    "## Assemble a dataframe from all the sketches"
   ]
  },
  {
   "cell_type": "code",
   "execution_count": 72,
   "metadata": {},
   "outputs": [
    {
     "data": {
      "text/html": [
       "<div>\n",
       "<style scoped>\n",
       "    .dataframe tbody tr th:only-of-type {\n",
       "        vertical-align: middle;\n",
       "    }\n",
       "\n",
       "    .dataframe tbody tr th {\n",
       "        vertical-align: top;\n",
       "    }\n",
       "\n",
       "    .dataframe thead th {\n",
       "        text-align: right;\n",
       "    }\n",
       "</style>\n",
       "<table border=\"1\" class=\"dataframe\">\n",
       "  <thead>\n",
       "    <tr style=\"text-align: right;\">\n",
       "      <th></th>\n",
       "      <th>orig_gameid</th>\n",
       "      <th>orig_animal</th>\n",
       "      <th>orig_cardinality</th>\n",
       "      <th>orig_trial</th>\n",
       "      <th>orig_cond</th>\n",
       "      <th>orig_version</th>\n",
       "      <th>sketch_url</th>\n",
       "    </tr>\n",
       "  </thead>\n",
       "  <tbody>\n",
       "    <tr>\n",
       "      <th>0</th>\n",
       "      <td>0074-988d4ee1-5766-47b5-bcbb-49a720aee30d</td>\n",
       "      <td>bear</td>\n",
       "      <td>1</td>\n",
       "      <td>22</td>\n",
       "      <td>number</td>\n",
       "      <td>057</td>\n",
       "      <td>https://iternum-sketches.s3.amazonaws.com/0074...</td>\n",
       "    </tr>\n",
       "    <tr>\n",
       "      <th>1</th>\n",
       "      <td>0074-988d4ee1-5766-47b5-bcbb-49a720aee30d</td>\n",
       "      <td>bear</td>\n",
       "      <td>2</td>\n",
       "      <td>31</td>\n",
       "      <td>number</td>\n",
       "      <td>051</td>\n",
       "      <td>https://iternum-sketches.s3.amazonaws.com/0074...</td>\n",
       "    </tr>\n",
       "    <tr>\n",
       "      <th>2</th>\n",
       "      <td>0074-988d4ee1-5766-47b5-bcbb-49a720aee30d</td>\n",
       "      <td>bear</td>\n",
       "      <td>3</td>\n",
       "      <td>25</td>\n",
       "      <td>number</td>\n",
       "      <td>062</td>\n",
       "      <td>https://iternum-sketches.s3.amazonaws.com/0074...</td>\n",
       "    </tr>\n",
       "    <tr>\n",
       "      <th>3</th>\n",
       "      <td>0074-988d4ee1-5766-47b5-bcbb-49a720aee30d</td>\n",
       "      <td>bear</td>\n",
       "      <td>4</td>\n",
       "      <td>14</td>\n",
       "      <td>number</td>\n",
       "      <td>009</td>\n",
       "      <td>https://iternum-sketches.s3.amazonaws.com/0074...</td>\n",
       "    </tr>\n",
       "    <tr>\n",
       "      <th>4</th>\n",
       "      <td>0074-988d4ee1-5766-47b5-bcbb-49a720aee30d</td>\n",
       "      <td>bear</td>\n",
       "      <td>5</td>\n",
       "      <td>6</td>\n",
       "      <td>number</td>\n",
       "      <td>073</td>\n",
       "      <td>https://iternum-sketches.s3.amazonaws.com/0074...</td>\n",
       "    </tr>\n",
       "    <tr>\n",
       "      <th>...</th>\n",
       "      <td>...</td>\n",
       "      <td>...</td>\n",
       "      <td>...</td>\n",
       "      <td>...</td>\n",
       "      <td>...</td>\n",
       "      <td>...</td>\n",
       "      <td>...</td>\n",
       "    </tr>\n",
       "    <tr>\n",
       "      <th>1947</th>\n",
       "      <td>9628-d7914c9d-2ee9-4706-8d26-93a3fa8008e3</td>\n",
       "      <td>rabbit</td>\n",
       "      <td>4</td>\n",
       "      <td>5</td>\n",
       "      <td>number</td>\n",
       "      <td>092</td>\n",
       "      <td>https://iternum-sketches.s3.amazonaws.com/9628...</td>\n",
       "    </tr>\n",
       "    <tr>\n",
       "      <th>1948</th>\n",
       "      <td>9628-d7914c9d-2ee9-4706-8d26-93a3fa8008e3</td>\n",
       "      <td>rabbit</td>\n",
       "      <td>5</td>\n",
       "      <td>16</td>\n",
       "      <td>number</td>\n",
       "      <td>059</td>\n",
       "      <td>https://iternum-sketches.s3.amazonaws.com/9628...</td>\n",
       "    </tr>\n",
       "    <tr>\n",
       "      <th>1949</th>\n",
       "      <td>9628-d7914c9d-2ee9-4706-8d26-93a3fa8008e3</td>\n",
       "      <td>rabbit</td>\n",
       "      <td>6</td>\n",
       "      <td>30</td>\n",
       "      <td>number</td>\n",
       "      <td>047</td>\n",
       "      <td>https://iternum-sketches.s3.amazonaws.com/9628...</td>\n",
       "    </tr>\n",
       "    <tr>\n",
       "      <th>1950</th>\n",
       "      <td>9628-d7914c9d-2ee9-4706-8d26-93a3fa8008e3</td>\n",
       "      <td>rabbit</td>\n",
       "      <td>7</td>\n",
       "      <td>21</td>\n",
       "      <td>number</td>\n",
       "      <td>081</td>\n",
       "      <td>https://iternum-sketches.s3.amazonaws.com/9628...</td>\n",
       "    </tr>\n",
       "    <tr>\n",
       "      <th>1951</th>\n",
       "      <td>9628-d7914c9d-2ee9-4706-8d26-93a3fa8008e3</td>\n",
       "      <td>rabbit</td>\n",
       "      <td>8</td>\n",
       "      <td>25</td>\n",
       "      <td>number</td>\n",
       "      <td>002</td>\n",
       "      <td>https://iternum-sketches.s3.amazonaws.com/9628...</td>\n",
       "    </tr>\n",
       "  </tbody>\n",
       "</table>\n",
       "<p>1952 rows × 7 columns</p>\n",
       "</div>"
      ],
      "text/plain": [
       "                                    orig_gameid orig_animal orig_cardinality  \\\n",
       "0     0074-988d4ee1-5766-47b5-bcbb-49a720aee30d        bear                1   \n",
       "1     0074-988d4ee1-5766-47b5-bcbb-49a720aee30d        bear                2   \n",
       "2     0074-988d4ee1-5766-47b5-bcbb-49a720aee30d        bear                3   \n",
       "3     0074-988d4ee1-5766-47b5-bcbb-49a720aee30d        bear                4   \n",
       "4     0074-988d4ee1-5766-47b5-bcbb-49a720aee30d        bear                5   \n",
       "...                                         ...         ...              ...   \n",
       "1947  9628-d7914c9d-2ee9-4706-8d26-93a3fa8008e3      rabbit                4   \n",
       "1948  9628-d7914c9d-2ee9-4706-8d26-93a3fa8008e3      rabbit                5   \n",
       "1949  9628-d7914c9d-2ee9-4706-8d26-93a3fa8008e3      rabbit                6   \n",
       "1950  9628-d7914c9d-2ee9-4706-8d26-93a3fa8008e3      rabbit                7   \n",
       "1951  9628-d7914c9d-2ee9-4706-8d26-93a3fa8008e3      rabbit                8   \n",
       "\n",
       "     orig_trial orig_cond orig_version  \\\n",
       "0            22    number          057   \n",
       "1            31    number          051   \n",
       "2            25    number          062   \n",
       "3            14    number          009   \n",
       "4             6    number          073   \n",
       "...         ...       ...          ...   \n",
       "1947          5    number          092   \n",
       "1948         16    number          059   \n",
       "1949         30    number          047   \n",
       "1950         21    number          081   \n",
       "1951         25    number          002   \n",
       "\n",
       "                                             sketch_url  \n",
       "0     https://iternum-sketches.s3.amazonaws.com/0074...  \n",
       "1     https://iternum-sketches.s3.amazonaws.com/0074...  \n",
       "2     https://iternum-sketches.s3.amazonaws.com/0074...  \n",
       "3     https://iternum-sketches.s3.amazonaws.com/0074...  \n",
       "4     https://iternum-sketches.s3.amazonaws.com/0074...  \n",
       "...                                                 ...  \n",
       "1947  https://iternum-sketches.s3.amazonaws.com/9628...  \n",
       "1948  https://iternum-sketches.s3.amazonaws.com/9628...  \n",
       "1949  https://iternum-sketches.s3.amazonaws.com/9628...  \n",
       "1950  https://iternum-sketches.s3.amazonaws.com/9628...  \n",
       "1951  https://iternum-sketches.s3.amazonaws.com/9628...  \n",
       "\n",
       "[1952 rows x 7 columns]"
      ]
     },
     "execution_count": 72,
     "metadata": {},
     "output_type": "execute_result"
    }
   ],
   "source": [
    "sketch_info = pd.DataFrame(columns = [\"orig_gameid\",\"orig_animal\",\"orig_cardinality\",\"orig_trial\",\"orig_cond\",\"orig_version\",\"sketch_url\"]) # initialize dataframe\n",
    "\n",
    "for i in range(len(sketches)): # for every sketch\n",
    "    name = sketches[i].split('_') # split up its metadata\n",
    "                                                        #    gameID         animal            cardinality             trialnum       condition      stim_version\n",
    "    stimurl = \"https://iternum-sketches.s3.amazonaws.com/\" + name[0] + '_' + name[1] + '_' + str(int(name[2])) + '_' + name[3] + '_' + name[4] + '_' + name[5]\n",
    "\n",
    "    # following two lines are dead:\n",
    "#     stimID = name[4].split('_') # ... by multiple delimiters\n",
    "#     stimurl = \"https://iternum-sketches.s3.amazonaws.com/\" + name[0] + '_' + stimID[0] + '_' + str(int(stimID[1])-1) + '_' + name[2] + '_' + name[3] + '_' + name[4]     \n",
    "    row = np.array([name[0],name[1],str(int(name[2])),name[3],name[4],name[5].split('.')[0],stimurl]) # put into relevant column\n",
    "    sketch_info.loc[len(sketch_info)] = row # now append that to the sketch info dataframe\n",
    "    \n",
    "sketch_info\n"
   ]
  },
  {
   "cell_type": "code",
   "execution_count": 73,
   "metadata": {},
   "outputs": [
    {
     "data": {
      "text/plain": [
       "'https://iternum-sketches.s3.amazonaws.com/0074-988d4ee1-5766-47b5-bcbb-49a720aee30d_bear_1_22_number_057.png'"
      ]
     },
     "execution_count": 73,
     "metadata": {},
     "output_type": "execute_result"
    }
   ],
   "source": [
    "sketch_info.iloc[0]['sketch_url']"
   ]
  },
  {
   "cell_type": "markdown",
   "metadata": {},
   "source": [
    "### make a small list of catch trials, referencing their location on s3"
   ]
  },
  {
   "cell_type": "code",
   "execution_count": 74,
   "metadata": {},
   "outputs": [],
   "source": [
    "catch_nums = ['https://iternum-recog-catches.s3.amazonaws.com/1.png',\n",
    "              'https://iternum-recog-catches.s3.amazonaws.com/2.png',\n",
    "              'https://iternum-recog-catches.s3.amazonaws.com/3.png',\n",
    "              'https://iternum-recog-catches.s3.amazonaws.com/4.png',\n",
    "              'https://iternum-recog-catches.s3.amazonaws.com/5.png',\n",
    "              'https://iternum-recog-catches.s3.amazonaws.com/6.png',\n",
    "              'https://iternum-recog-catches.s3.amazonaws.com/7.png',\n",
    "              'https://iternum-recog-catches.s3.amazonaws.com/8.png']\n",
    "\n",
    "catch_amls = ['https://iternum-recog-catches.s3.amazonaws.com/bear.png',\n",
    "              'https://iternum-recog-catches.s3.amazonaws.com/deer.png',\n",
    "              'https://iternum-recog-catches.s3.amazonaws.com/owl.png',\n",
    "              'https://iternum-recog-catches.s3.amazonaws.com/rabbit.png']\n",
    "\n"
   ]
  },
  {
   "cell_type": "markdown",
   "metadata": {},
   "source": [
    "## Assemble the partitions"
   ]
  },
  {
   "cell_type": "code",
   "execution_count": 75,
   "metadata": {},
   "outputs": [
    {
     "name": "stdout",
     "output_type": "stream",
     "text": [
      "We have 64 unique partitions.\n"
     ]
    }
   ],
   "source": [
    "bag = sketch_info    # the bag of sketches to sample, because sampling without replacement\n",
    "\n",
    "games = bag.orig_gameid.unique() # we want this to be a unique list of all the games\n",
    "paradigms = [] # this will be a list of dataframes, each dataframe containing the sketches to be rated by a rater\n",
    "\n",
    "\n",
    "batch = 0\n",
    "while len(bag) > 0: # sample from the bag without replacement\n",
    "    \n",
    "    # initialize paradigm \n",
    "    number_paradigm = {'versionID':batch,        # which partition is it (set of sketches) ?\n",
    "                       'classify_condition':'number',  # what feature will mturk recognizers be asked to classify?\n",
    "                       'games':[],               # empty list to be filled with classification games as they happen    \n",
    "                       'meta':[]}                # the whole [unordered] trial list goes in this 'meta' structure\n",
    "    shape_paradigm = {'versionID':batch+1,        # which partition is it (set of sketches) ?\n",
    "                       'classify_condition':'shape',  # what feature will mturk recognizers be asked to classify?\n",
    "                       'games':[],               # empty list to be filled with classification games as they happen    \n",
    "                       'meta':[]}                # the whole [unordered] trial list goes in this 'meta' structure\n",
    "\n",
    "    number_catches = catch_nums\n",
    "    animal_catches = catch_amls\n",
    "    random_seed = 619\n",
    "    for i in range(len(games)): # we want each rater to see [no more than] one sketch from each game\n",
    "        trial = {} # initialize a dictionary for this rater, 1 game per trial\n",
    "        \n",
    "        row = bag[bag['orig_gameid']==games[i]].sample(n=1,replace=False,random_state=random_seed) # sample a sketch at random from the game\n",
    "        bag = bag.drop(index = row.index) # remove it from the bag\n",
    "        \n",
    "        trial[\"orig_gameid\"] = row.iloc[0][\"orig_gameid\"]\n",
    "        trial[\"orig_animal\"] = row.iloc[0][\"orig_animal\"]\n",
    "        trial[\"orig_cardinality\"] = row.iloc[0][\"orig_cardinality\"]\n",
    "        trial[\"orig_trial\"] = row.iloc[0][\"orig_trial\"]\n",
    "        trial[\"orig_cond\"] = row.iloc[0][\"orig_cond\"]\n",
    "        trial[\"orig_version\"] = row.iloc[0][\"orig_version\"]\n",
    "        trial[\"sketch_url\"] = row.iloc[0][\"sketch_url\"]\n",
    "        trial[\"catchTrial\"] = False\n",
    "        \n",
    "        \n",
    "        number_paradigm['meta'].append(trial)\n",
    "        shape_paradigm['meta'].append(trial)\n",
    "        \n",
    "        # insert catch trials at regular intervals\n",
    "        if i in [0,1,2,3]:\n",
    "            np.random.seed(seed=random_seed + len(bag) + i)\n",
    "            catch_aml_trial = {}\n",
    "            catch_num_trial = {}\n",
    "            num_stim = np.random.choice(number_catches,replace=False)\n",
    "            aml_stim = np.random.choice(animal_catches,replace=False)\n",
    "            \n",
    "            \n",
    "            # first do the number one\n",
    "            catch_num_trial[\"orig_gameid\"] = np.nan\n",
    "            catch_num_trial[\"orig_animal\"] = np.nan\n",
    "            catch_num_trial[\"orig_cardinality\"] = num_stim.split('/')[-1].split('.')[0]\n",
    "            catch_num_trial[\"orig_trial\"] = np.nan\n",
    "            catch_num_trial[\"orig_cond\"] = np.nan\n",
    "            catch_num_trial[\"orig_version\"] = np.nan\n",
    "            catch_num_trial[\"sketch_url\"] = num_stim\n",
    "            catch_num_trial[\"catchTrial\"] = True\n",
    "            number_paradigm['meta'].append(catch_num_trial)\n",
    "            \n",
    "            # then do the animal one\n",
    "            catch_aml_trial[\"orig_gameid\"] = np.nan\n",
    "            catch_aml_trial[\"orig_animal\"] = aml_stim.split('/')[-1].split('.')[0]\n",
    "            catch_aml_trial[\"orig_cardinality\"] = np.nan\n",
    "            catch_aml_trial[\"orig_trial\"] = np.nan\n",
    "            catch_aml_trial[\"orig_cond\"] = np.nan\n",
    "            catch_aml_trial[\"orig_version\"] = np.nan\n",
    "            catch_aml_trial[\"sketch_url\"] = aml_stim\n",
    "            catch_aml_trial[\"catchTrial\"] = True\n",
    "            shape_paradigm['meta'].append(catch_aml_trial)\n",
    "            \n",
    "        \n",
    "        random_seed += 1 # this means that each paradigm is matched in its sequence for number and shape recognizers\n",
    "    \n",
    "    # when a paradigm is assembled, put it into the list:\n",
    "    paradigms.append(number_paradigm) # first put the version for people classifying the number info     \n",
    "    paradigms.append(shape_paradigm) # then store the exact same data structure but change the classification goal\n",
    "    \n",
    "    batch += 2\n",
    "    \n",
    "num_partitions = len(paradigms)    \n",
    "print('We have {} unique partitions.'.format(num_partitions)) # Should be 32*2=64 paradigms of 61 sketches; each rater sees one per game, requiring 64 raters        \n",
    "\n",
    "# print(paradigms[1].iloc[3,6])    # print one of the urls\n",
    "\n"
   ]
  },
  {
   "cell_type": "code",
   "execution_count": 76,
   "metadata": {},
   "outputs": [
    {
     "name": "stdout",
     "output_type": "stream",
     "text": [
      "0 number nan 3\n",
      "1 shape rabbit nan\n",
      "2 number nan 4\n",
      "3 shape bear nan\n",
      "4 number nan 4\n",
      "5 shape deer nan\n",
      "6 number nan 8\n",
      "7 shape bear nan\n",
      "8 number nan 1\n",
      "9 shape deer nan\n",
      "10 number nan 6\n",
      "11 shape deer nan\n",
      "12 number nan 5\n",
      "13 shape rabbit nan\n",
      "14 number nan 6\n",
      "15 shape owl nan\n",
      "16 number nan 5\n",
      "17 shape rabbit nan\n",
      "18 number nan 6\n",
      "19 shape rabbit nan\n",
      "20 number nan 2\n",
      "21 shape deer nan\n",
      "22 number nan 5\n",
      "23 shape bear nan\n",
      "24 number nan 5\n",
      "25 shape bear nan\n",
      "26 number nan 5\n",
      "27 shape deer nan\n",
      "28 number nan 6\n",
      "29 shape owl nan\n",
      "30 number nan 2\n",
      "31 shape bear nan\n",
      "32 number nan 7\n",
      "33 shape bear nan\n",
      "34 number nan 4\n",
      "35 shape bear nan\n",
      "36 number nan 6\n",
      "37 shape bear nan\n",
      "38 number nan 6\n",
      "39 shape owl nan\n",
      "40 number nan 8\n",
      "41 shape bear nan\n",
      "42 number nan 1\n",
      "43 shape bear nan\n",
      "44 number nan 1\n",
      "45 shape rabbit nan\n",
      "46 number nan 1\n",
      "47 shape owl nan\n",
      "48 number nan 7\n",
      "49 shape owl nan\n",
      "50 number nan 6\n",
      "51 shape bear nan\n",
      "52 number nan 1\n",
      "53 shape rabbit nan\n",
      "54 number nan 4\n",
      "55 shape bear nan\n",
      "56 number nan 4\n",
      "57 shape rabbit nan\n",
      "58 number nan 4\n",
      "59 shape bear nan\n",
      "60 number nan 7\n",
      "61 shape deer nan\n",
      "62 number nan 1\n",
      "63 shape rabbit nan\n"
     ]
    }
   ],
   "source": [
    "for i in paradigms:\n",
    "    print(i['versionID'], i['classify_condition'],i['meta'][5]['orig_animal'],i['meta'][5]['orig_cardinality'])\n",
    "\n",
    "# for thing in paradigms[0]['meta']:\n",
    "#     print(thing,'\\n')\n",
    "\n"
   ]
  },
  {
   "cell_type": "markdown",
   "metadata": {},
   "source": [
    "## Put that datastructure into Mongo"
   ]
  },
  {
   "cell_type": "code",
   "execution_count": 77,
   "metadata": {},
   "outputs": [],
   "source": [
    "# set vars \n",
    "auth = pd.read_csv('auth.txt', header = None) # this auth.txt file contains the password for the sketchloop user\n",
    "pswd = auth.values[0][0]\n",
    "user = 'sketchloop'\n",
    "host = 'cogtoolslab.org'\n",
    "\n",
    "import pymongo as pm\n",
    "import socket\n",
    "conn = pm.MongoClient('mongodb://sketchloop:' + pswd + '@127.0.0.1:27017') \n",
    "db = conn['stimuli']\n",
    "coll = db['iternum_classification']\n"
   ]
  },
  {
   "cell_type": "code",
   "execution_count": 78,
   "metadata": {},
   "outputs": [
    {
     "name": "stdout",
     "output_type": "stream",
     "text": [
      "Done!\n"
     ]
    }
   ],
   "source": [
    "## now really insert data\n",
    "# reallyDelete = False\n",
    "reallyRun = False\n",
    "\n",
    "## sometimes during beta testing we want to delete what's already in the collection\n",
    "# if reallyDelete:\n",
    "#     coll.delete_many({})\n",
    "\n",
    "## insert the data\n",
    "if reallyRun:\n",
    "    for (i,j) in enumerate(paradigms):\n",
    "        print ('%d of %d uploaded ...' % (i+1,len(paradigms)))\n",
    "        clear_output(wait=True)\n",
    "        coll.insert_one(j)\n",
    "\n",
    "print('Done!')\n"
   ]
  },
  {
   "cell_type": "code",
   "execution_count": 79,
   "metadata": {},
   "outputs": [],
   "source": [
    "# extra notes and things for remembering syntax:\n",
    "# coll.find_one()\n",
    "# len(list(coll.find({})))\n",
    "# print(db.command(\"collstats\", 'iternum_classification'))\n",
    "# list(coll.find({'games':'8067-374f2239-6bb9-4349-9786-afcfdc2ceb0c'}))[0]['versionID']\n"
   ]
  },
  {
   "cell_type": "markdown",
   "metadata": {},
   "source": [
    "## Patch for data lacunae (incomplete or invalid games)"
   ]
  },
  {
   "cell_type": "code",
   "execution_count": 82,
   "metadata": {},
   "outputs": [],
   "source": [
    "# figure out which partitions need to be done, because we forgot to store versionID in the recog data\n",
    "# get the list of valid games that form the complement to the set of games we still need to recruit\n",
    "validGamesList = np.load(\"../../analysis/datastructures/valid_game_ids.npy\",allow_pickle=True)\n",
    "\n",
    "# find out which games in each partition are actually valid and store them in a dictionary\n",
    "partitions_with_games = {}\n",
    "for partition in list(coll.find({})):\n",
    "    partitions_with_games[partition['versionID']] = list(set(partition['games']).intersection(validGamesList)) #partition['games']\n",
    "\n",
    "# copy the paradigms defined above for the original task\n",
    "patch_paradigms = paradigms\n",
    "\n",
    "# and then populate the copy with only the valid games that don't need to be done all over again\n",
    "for patch_paradigm in patch_paradigms:\n",
    "    patch_paradigm['games'] = partitions_with_games[patch_paradigm['versionID']]\n",
    "\n",
    "# check to see that it looks right:\n",
    "# for thing in patch_paradigms:\n",
    "#     print(len(thing['games']))"
   ]
  },
  {
   "cell_type": "code",
   "execution_count": 61,
   "metadata": {},
   "outputs": [],
   "source": [
    "# set vars \n",
    "auth = pd.read_csv('auth.txt', header = None) # this auth.txt file contains the password for the sketchloop user\n",
    "pswd = auth.values[0][0]\n",
    "user = 'sketchloop'\n",
    "host = 'cogtoolslab.org'\n",
    "\n",
    "import pymongo as pm\n",
    "import socket\n",
    "conn = pm.MongoClient('mongodb://sketchloop:' + pswd + '@127.0.0.1:27017') \n",
    "db = conn['stimuli']\n",
    "patch_coll = db['iternum_classification_patching']\n"
   ]
  },
  {
   "cell_type": "code",
   "execution_count": 86,
   "metadata": {},
   "outputs": [
    {
     "name": "stdout",
     "output_type": "stream",
     "text": [
      "Done!\n"
     ]
    }
   ],
   "source": [
    "## now really insert data\n",
    "# reallyDelete = False\n",
    "reallyRun = False\n",
    "\n",
    "## sometimes during beta testing we want to delete what's already in the collection\n",
    "# if reallyDelete:\n",
    "#     patch_coll.delete_many({})\n",
    "\n",
    "## insert the data\n",
    "if reallyRun:\n",
    "    for (i,j) in enumerate(patch_paradigms):\n",
    "        print ('%d of %d uploaded ...' % (i+1,len(patch_paradigms)))\n",
    "        clear_output(wait=True)\n",
    "        patch_coll.insert_one(j)\n",
    "\n",
    "print('Done!')\n"
   ]
  },
  {
   "cell_type": "code",
   "execution_count": 94,
   "metadata": {},
   "outputs": [],
   "source": [
    "# check to make sure it worked\n",
    "patch_coll.find_one()"
   ]
  },
  {
   "cell_type": "code",
   "execution_count": null,
   "metadata": {},
   "outputs": [],
   "source": []
  },
  {
   "cell_type": "code",
   "execution_count": null,
   "metadata": {},
   "outputs": [],
   "source": []
  }
 ],
 "metadata": {
  "kernelspec": {
   "display_name": "Python 3",
   "language": "python",
   "name": "python3"
  },
  "language_info": {
   "codemirror_mode": {
    "name": "ipython",
    "version": 3
   },
   "file_extension": ".py",
   "mimetype": "text/x-python",
   "name": "python",
   "nbconvert_exporter": "python",
   "pygments_lexer": "ipython3",
   "version": "3.7.2"
  }
 },
 "nbformat": 4,
 "nbformat_minor": 2
}
