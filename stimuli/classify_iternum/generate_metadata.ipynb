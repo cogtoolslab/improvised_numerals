{
 "cells": [
  {
   "cell_type": "markdown",
   "metadata": {},
   "source": [
    "# Getting Sketch Partitions for Rating Study"
   ]
  },
  {
   "cell_type": "markdown",
   "metadata": {},
   "source": [
    "## Fetch the sketch paths from that folder"
   ]
  },
  {
   "cell_type": "code",
   "execution_count": 44,
   "metadata": {},
   "outputs": [],
   "source": [
    "import os\n",
    "import json\n",
    "import pandas as pd\n",
    "import numpy as np"
   ]
  },
  {
   "cell_type": "code",
   "execution_count": 108,
   "metadata": {},
   "outputs": [],
   "source": [
    "proj_dir = os.path.abspath('../..')\n",
    "exp_name = 'classify_iternum'\n",
    "exp_dir = os.path.join(proj_dir,exp_name)\n",
    "sketch_dir = os.path.abspath(os.path.join(proj_dir,'sketches'))\n",
    "\n",
    "full_stim_paths = os.listdir(sketch_dir) # list out all the sketches in that directory\n",
    "sketches = [i for i in full_stim_paths if i.split('/')[-1] != '.DS_Store']\n",
    "\n",
    "stimListDir = os.path.abspath('../../experiments/classify_iternum/stimList')\n",
    "\n",
    "if not os.path.exists(stimListDir):\n",
    "    os.makedirs(stimListDir)"
   ]
  },
  {
   "cell_type": "markdown",
   "metadata": {},
   "source": [
    "## Assemble a dataframe from all the sketches"
   ]
  },
  {
   "cell_type": "code",
   "execution_count": 47,
   "metadata": {},
   "outputs": [
    {
     "data": {
      "text/html": [
       "<div>\n",
       "<style scoped>\n",
       "    .dataframe tbody tr th:only-of-type {\n",
       "        vertical-align: middle;\n",
       "    }\n",
       "\n",
       "    .dataframe tbody tr th {\n",
       "        vertical-align: top;\n",
       "    }\n",
       "\n",
       "    .dataframe thead th {\n",
       "        text-align: right;\n",
       "    }\n",
       "</style>\n",
       "<table border=\"1\" class=\"dataframe\">\n",
       "  <thead>\n",
       "    <tr style=\"text-align: right;\">\n",
       "      <th></th>\n",
       "      <th>GameId</th>\n",
       "      <th>Animal</th>\n",
       "      <th>Cardinality</th>\n",
       "      <th>Trial</th>\n",
       "      <th>Cond</th>\n",
       "      <th>Version</th>\n",
       "      <th>URL</th>\n",
       "    </tr>\n",
       "  </thead>\n",
       "  <tbody>\n",
       "    <tr>\n",
       "      <td>0</td>\n",
       "      <td>0074-988d4ee1-5766-47b5-bcbb-49a720aee30d</td>\n",
       "      <td>bear</td>\n",
       "      <td>1</td>\n",
       "      <td>22</td>\n",
       "      <td>number</td>\n",
       "      <td>057</td>\n",
       "      <td>https://iternum-sketches.s3.amazonaws.com/0074...</td>\n",
       "    </tr>\n",
       "    <tr>\n",
       "      <td>1</td>\n",
       "      <td>0074-988d4ee1-5766-47b5-bcbb-49a720aee30d</td>\n",
       "      <td>bear</td>\n",
       "      <td>2</td>\n",
       "      <td>31</td>\n",
       "      <td>number</td>\n",
       "      <td>051</td>\n",
       "      <td>https://iternum-sketches.s3.amazonaws.com/0074...</td>\n",
       "    </tr>\n",
       "    <tr>\n",
       "      <td>2</td>\n",
       "      <td>0074-988d4ee1-5766-47b5-bcbb-49a720aee30d</td>\n",
       "      <td>bear</td>\n",
       "      <td>3</td>\n",
       "      <td>25</td>\n",
       "      <td>number</td>\n",
       "      <td>062</td>\n",
       "      <td>https://iternum-sketches.s3.amazonaws.com/0074...</td>\n",
       "    </tr>\n",
       "    <tr>\n",
       "      <td>3</td>\n",
       "      <td>0074-988d4ee1-5766-47b5-bcbb-49a720aee30d</td>\n",
       "      <td>bear</td>\n",
       "      <td>4</td>\n",
       "      <td>14</td>\n",
       "      <td>number</td>\n",
       "      <td>009</td>\n",
       "      <td>https://iternum-sketches.s3.amazonaws.com/0074...</td>\n",
       "    </tr>\n",
       "    <tr>\n",
       "      <td>4</td>\n",
       "      <td>0074-988d4ee1-5766-47b5-bcbb-49a720aee30d</td>\n",
       "      <td>bear</td>\n",
       "      <td>5</td>\n",
       "      <td>6</td>\n",
       "      <td>number</td>\n",
       "      <td>073</td>\n",
       "      <td>https://iternum-sketches.s3.amazonaws.com/0074...</td>\n",
       "    </tr>\n",
       "    <tr>\n",
       "      <td>...</td>\n",
       "      <td>...</td>\n",
       "      <td>...</td>\n",
       "      <td>...</td>\n",
       "      <td>...</td>\n",
       "      <td>...</td>\n",
       "      <td>...</td>\n",
       "      <td>...</td>\n",
       "    </tr>\n",
       "    <tr>\n",
       "      <td>1947</td>\n",
       "      <td>9628-d7914c9d-2ee9-4706-8d26-93a3fa8008e3</td>\n",
       "      <td>rabbit</td>\n",
       "      <td>4</td>\n",
       "      <td>5</td>\n",
       "      <td>number</td>\n",
       "      <td>092</td>\n",
       "      <td>https://iternum-sketches.s3.amazonaws.com/9628...</td>\n",
       "    </tr>\n",
       "    <tr>\n",
       "      <td>1948</td>\n",
       "      <td>9628-d7914c9d-2ee9-4706-8d26-93a3fa8008e3</td>\n",
       "      <td>rabbit</td>\n",
       "      <td>5</td>\n",
       "      <td>16</td>\n",
       "      <td>number</td>\n",
       "      <td>059</td>\n",
       "      <td>https://iternum-sketches.s3.amazonaws.com/9628...</td>\n",
       "    </tr>\n",
       "    <tr>\n",
       "      <td>1949</td>\n",
       "      <td>9628-d7914c9d-2ee9-4706-8d26-93a3fa8008e3</td>\n",
       "      <td>rabbit</td>\n",
       "      <td>6</td>\n",
       "      <td>30</td>\n",
       "      <td>number</td>\n",
       "      <td>047</td>\n",
       "      <td>https://iternum-sketches.s3.amazonaws.com/9628...</td>\n",
       "    </tr>\n",
       "    <tr>\n",
       "      <td>1950</td>\n",
       "      <td>9628-d7914c9d-2ee9-4706-8d26-93a3fa8008e3</td>\n",
       "      <td>rabbit</td>\n",
       "      <td>7</td>\n",
       "      <td>21</td>\n",
       "      <td>number</td>\n",
       "      <td>081</td>\n",
       "      <td>https://iternum-sketches.s3.amazonaws.com/9628...</td>\n",
       "    </tr>\n",
       "    <tr>\n",
       "      <td>1951</td>\n",
       "      <td>9628-d7914c9d-2ee9-4706-8d26-93a3fa8008e3</td>\n",
       "      <td>rabbit</td>\n",
       "      <td>8</td>\n",
       "      <td>25</td>\n",
       "      <td>number</td>\n",
       "      <td>002</td>\n",
       "      <td>https://iternum-sketches.s3.amazonaws.com/9628...</td>\n",
       "    </tr>\n",
       "  </tbody>\n",
       "</table>\n",
       "<p>1952 rows × 7 columns</p>\n",
       "</div>"
      ],
      "text/plain": [
       "                                         GameId  Animal Cardinality Trial  \\\n",
       "0     0074-988d4ee1-5766-47b5-bcbb-49a720aee30d    bear           1    22   \n",
       "1     0074-988d4ee1-5766-47b5-bcbb-49a720aee30d    bear           2    31   \n",
       "2     0074-988d4ee1-5766-47b5-bcbb-49a720aee30d    bear           3    25   \n",
       "3     0074-988d4ee1-5766-47b5-bcbb-49a720aee30d    bear           4    14   \n",
       "4     0074-988d4ee1-5766-47b5-bcbb-49a720aee30d    bear           5     6   \n",
       "...                                         ...     ...         ...   ...   \n",
       "1947  9628-d7914c9d-2ee9-4706-8d26-93a3fa8008e3  rabbit           4     5   \n",
       "1948  9628-d7914c9d-2ee9-4706-8d26-93a3fa8008e3  rabbit           5    16   \n",
       "1949  9628-d7914c9d-2ee9-4706-8d26-93a3fa8008e3  rabbit           6    30   \n",
       "1950  9628-d7914c9d-2ee9-4706-8d26-93a3fa8008e3  rabbit           7    21   \n",
       "1951  9628-d7914c9d-2ee9-4706-8d26-93a3fa8008e3  rabbit           8    25   \n",
       "\n",
       "        Cond Version                                                URL  \n",
       "0     number     057  https://iternum-sketches.s3.amazonaws.com/0074...  \n",
       "1     number     051  https://iternum-sketches.s3.amazonaws.com/0074...  \n",
       "2     number     062  https://iternum-sketches.s3.amazonaws.com/0074...  \n",
       "3     number     009  https://iternum-sketches.s3.amazonaws.com/0074...  \n",
       "4     number     073  https://iternum-sketches.s3.amazonaws.com/0074...  \n",
       "...      ...     ...                                                ...  \n",
       "1947  number     092  https://iternum-sketches.s3.amazonaws.com/9628...  \n",
       "1948  number     059  https://iternum-sketches.s3.amazonaws.com/9628...  \n",
       "1949  number     047  https://iternum-sketches.s3.amazonaws.com/9628...  \n",
       "1950  number     081  https://iternum-sketches.s3.amazonaws.com/9628...  \n",
       "1951  number     002  https://iternum-sketches.s3.amazonaws.com/9628...  \n",
       "\n",
       "[1952 rows x 7 columns]"
      ]
     },
     "execution_count": 47,
     "metadata": {},
     "output_type": "execute_result"
    }
   ],
   "source": [
    "sketch_info = pd.DataFrame(columns = [\"GameId\",\"Animal\",\"Cardinality\",\"Trial\",\"Cond\",\"Version\",\"URL\"]) # initialize dataframe\n",
    "\n",
    "for i in range(len(sketches)): # for every sketch\n",
    "    name = sketches[i].split('_') # split up its metadata\n",
    "                                                        #    gameID         animal            cardinality               trialnum       condition      stim_version\n",
    "    stimurl = \"https://iternum-sketches.s3.amazonaws.com/\" + name[0] + '_' + name[1] + '_' + str(int(name[2])+1) + '_' + name[3] + '_' + name[4] + '_' + name[7]\n",
    "\n",
    "    # following two lines are dead:\n",
    "#     stimID = name[4].split('_') # ... by multiple delimiters\n",
    "#     stimurl = \"https://iternum-sketches.s3.amazonaws.com/\" + name[0] + '_' + stimID[0] + '_' + str(int(stimID[1])-1) + '_' + name[2] + '_' + name[3] + '_' + name[4]     \n",
    "    row = np.array([name[0],name[1],str(int(name[2])+1),name[3],name[4],name[7].split('.')[0],stimurl]) # put into relevant column\n",
    "    sketch_info.loc[len(sketch_info)] = row # now append that to the sketch info dataframe\n",
    "    \n",
    "sketch_info"
   ]
  },
  {
   "cell_type": "code",
   "execution_count": 48,
   "metadata": {},
   "outputs": [
    {
     "data": {
      "text/plain": [
       "'https://iternum-sketches.s3.amazonaws.com/0074-988d4ee1-5766-47b5-bcbb-49a720aee30d_bear_1_22_number_057.png'"
      ]
     },
     "execution_count": 48,
     "metadata": {},
     "output_type": "execute_result"
    }
   ],
   "source": [
    "sketch_info.iloc[0]['URL']"
   ]
  },
  {
   "cell_type": "markdown",
   "metadata": {},
   "source": [
    "## Assemble the partitions"
   ]
  },
  {
   "cell_type": "code",
   "execution_count": 94,
   "metadata": {},
   "outputs": [
    {
     "name": "stdout",
     "output_type": "stream",
     "text": [
      "We have 32 unique partitions.\n"
     ]
    }
   ],
   "source": [
    "bag = sketch_info    # the bag of sketches to sample, because sampling without replacement\n",
    "\n",
    "games = bag.GameId.unique() # we want this to be a unique list of all the games\n",
    "# paradigms = [] # this will be a list of dataframes, each dataframe containing the sketches to be rated by a rater\n",
    "paradigms = {} # actually, make that a dictionary\n",
    "\n",
    "\n",
    "batch = 1\n",
    "while len(bag) > 0: # sample from the bag without replacement\n",
    "    \n",
    "    paradigm = {} # initialize paradigm \n",
    "    # the following line is for if we want to dataframes, not dictionaries:\n",
    "#     paradigm = pd.DataFrame(columns = [\"GameId\",\"Animal\",\"Cardinality\",\"Trial\",\"Cond\",\"Version\",\"URL\"]) # initialize paradigm\n",
    "    \n",
    "    for i in range(len(games)): # we want each rater to see [no more than] one sketch from each game\n",
    "        paradigm[i+1] = {} # initialize a dictionary for this rater, 1 game per trial\n",
    "        \n",
    "        row = bag[bag['GameId']==games[i]].sample(n=1,replace=False,random_state=333) # sample a sketch at random from the game\n",
    "        bag = bag.drop(index = row.index) # remove it from the bag\n",
    "        \n",
    "        paradigm[i+1][\"GameId\"] = row.iloc[0][\"GameId\"]\n",
    "        paradigm[i+1][\"Animal\"] = row.iloc[0][\"Animal\"]\n",
    "        paradigm[i+1][\"Cardinality\"] = row.iloc[0][\"Cardinality\"]\n",
    "        paradigm[i+1][\"Trial\"] = row.iloc[0][\"Trial\"]\n",
    "        paradigm[i+1][\"Cond\"] = row.iloc[0][\"Cond\"]\n",
    "        paradigm[i+1][\"Version\"] = row.iloc[0][\"Version\"]\n",
    "        paradigm[i+1][\"URL\"] = row.iloc[0][\"URL\"]\n",
    "        # the following line is for if we want to dataframes, not dictionaries:\n",
    "#         paradigm = paradigm.append(row) # and tack on that sketch to this rater's paradigm\n",
    "        \n",
    "#     paradigms.append(paradigm.reset_index(drop=True)) # when a paradigm is assembled, but it into the list\n",
    "    paradigms[batch] = paradigm # rather than append to a list, add a key-value to a dictionary\n",
    "    batch += 1\n",
    "    \n",
    "num_partitions = len(paradigms.keys())    \n",
    "print('We have {} unique partitions.'.format(num_partitions)) # Should be 32 paradigms of 61 sketches; each rater sees one per game, requiring 32 raters\n",
    "\n",
    "# print(paradigms[1].iloc[3,6])    # print one of the urls\n",
    "    "
   ]
  },
  {
   "cell_type": "markdown",
   "metadata": {},
   "source": [
    "## Convert dictionary of dictionaries to an array of JSON objects"
   ]
  },
  {
   "cell_type": "code",
   "execution_count": 71,
   "metadata": {},
   "outputs": [],
   "source": [
    "# this_paradigm = paradigms[0]\n",
    "# this_paradigm.iloc[0]['URL']\n",
    "# this_paradigm.to_json(orient='records')"
   ]
  },
  {
   "cell_type": "code",
   "execution_count": null,
   "metadata": {
    "collapsed": true
   },
   "outputs": [],
   "source": [
    "## Objective: to save out a stimList.js that contain a dictionary of dictionaries\n",
    "## stimList = { {'versionID': 0, 'meta':{...}} , }\n",
    "## \"versionID\" refers to the specific partition ID\n",
    "## \"meta\" refers to the metadata corresponding to that partition, e.g., paradigms[0]"
   ]
  },
  {
   "cell_type": "code",
   "execution_count": 109,
   "metadata": {},
   "outputs": [],
   "source": [
    "filename = \"stimList.js\"\n",
    "pathname = os.path.join(stimListDir,filename)\n",
    "with open(pathname, 'w') as the_file:\n",
    "    the_file.write(str(paradigms)s)"
   ]
  },
  {
   "cell_type": "code",
   "execution_count": null,
   "metadata": {
    "collapsed": true
   },
   "outputs": [],
   "source": [
    "# the following block of code is no longer relevant:\n",
    "\n",
    "# for i in range(len(paradigms)):\n",
    "#     paradigm = paradigms[i]\n",
    "#     paradigm.to_csv(batchdir + '/batch_{}.csv'.format(str(i+1)))\n",
    "    \n",
    "    #had it saving to jsons earlier but I don't think it worked wells\n",
    "#     js = paradigm.to_json()\n",
    "#     with open(batchdir + '/batch_{}.csv'.format(str(i+1)), 'w') as outfile:\n",
    "#         json.dump(js, outfile)\n",
    "    \n",
    "    "
   ]
  }
 ],
 "metadata": {
  "kernelspec": {
   "display_name": "Python 3",
   "language": "python",
   "name": "python3"
  },
  "language_info": {
   "codemirror_mode": {
    "name": "ipython",
    "version": 3
   },
   "file_extension": ".py",
   "mimetype": "text/x-python",
   "name": "python",
   "nbconvert_exporter": "python",
   "pygments_lexer": "ipython3",
   "version": "3.7.2"
  }
 },
 "nbformat": 4,
 "nbformat_minor": 2
}
