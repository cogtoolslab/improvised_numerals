{
 "cells": [
  {
   "cell_type": "code",
   "execution_count": null,
   "metadata": {},
   "outputs": [],
   "source": [
    "from PIL import Image\n",
    "import PIL\n",
    "import png\n",
    "import numpy as np\n",
    "import random\n",
    "import os\n",
    "\n",
    "def load_images_from_folder(filename):\n",
    "    img = Image.open(filename)\n",
    "    return img\n",
    "\n",
    "def place_animals(big_backdrop,backdrop,animal,number,version=0):\n",
    "    big_background = Image.open(big_backdrop)\n",
    "    background = Image.open(backdrop)\n",
    "    foreground = Image.open('animal_silhouettes/' + animal)\n",
    "    \n",
    "    unoccupied = np.zeros(np.shape(background))\n",
    "    unoccupied = unoccupied[:,:,0]\n",
    "    \n",
    "    open_indices = {}\n",
    "    for i in range(np.shape(background)[1]-np.shape(foreground)[1]):\n",
    "        for j in range(np.shape(background)[0]-np.shape(foreground)[0]):\n",
    "            open_indices[(i,j)] = 0\n",
    "    \n",
    "    for i in range(number):\n",
    "        new_coord = random.choice(list(open_indices.keys()))\n",
    "        c = new_coord[0]\n",
    "        d = new_coord[1]\n",
    "        for p in range(np.shape(foreground)[1]): # [1] rather than [0]; I can't keep track of row vs column, but this is correct    \n",
    "            for q in range(np.shape(foreground)[0]): # ^ ditto\n",
    "                if (c+p,d+q) in open_indices:\n",
    "                    del open_indices[(c+p,d+q)]\n",
    "                if (c-p,d+q) in open_indices:\n",
    "                    del open_indices[(c-p,d+q)]\n",
    "                if (c+p,d-q) in open_indices:\n",
    "                    del open_indices[(c+p,d-q)]\n",
    "                if (c-p,d-q) in open_indices:\n",
    "                    del open_indices[(c-p,d-q)]\n",
    "        background.paste(foreground, new_coord, foreground)\n",
    "        \n",
    "    big_background.paste(background,(5,5),background)\n",
    "    image_name = str(number) + \"_\" + str(version) + \"_\" + animal\n",
    "    version_folder = 'v' + str(version)\n",
    "    if not os.path.exists(version_folder):\n",
    "        os.makedirs(version_folder)\n",
    "\n",
    "    big_background.save(version_folder + '/' + image_name)\n",
    "    "
   ]
  },
  {
   "cell_type": "code",
   "execution_count": null,
   "metadata": {},
   "outputs": [],
   "source": [
    "frame = 700*[700*[255,255,255,255]]\n",
    "big_frame = 710*[710*[0,0,0,255]]\n",
    "png.from_array(frame, 'RGBA').save('background.png')\n",
    "png.from_array(big_frame, 'RGBA').save('big_background.png')\n",
    "\n",
    "animals_path = ['rabbit.png',\n",
    "                'wolf.png',\n",
    "                'squirrel.png',\n",
    "                'bear.png',\n",
    "                'deer.png',\n",
    "                'owl.png']\n",
    "\n",
    "for i in range(len(animals_path)):\n",
    "    for num in range(1,9):\n",
    "        for v in range(1,3):\n",
    "            place_animals('big_background.png','background.png',animals_path[i],num,version = v)\n",
    "        "
   ]
  },
  {
   "cell_type": "code",
   "execution_count": null,
   "metadata": {},
   "outputs": [],
   "source": []
  }
 ],
 "metadata": {
  "kernelspec": {
   "display_name": "Python 3",
   "language": "python",
   "name": "python3"
  },
  "language_info": {
   "codemirror_mode": {
    "name": "ipython",
    "version": 3
   },
   "file_extension": ".py",
   "mimetype": "text/x-python",
   "name": "python",
   "nbconvert_exporter": "python",
   "pygments_lexer": "ipython3",
   "version": "3.7.2"
  }
 },
 "nbformat": 4,
 "nbformat_minor": 2
}
