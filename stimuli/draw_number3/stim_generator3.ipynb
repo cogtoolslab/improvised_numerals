{
 "cells": [
  {
   "cell_type": "code",
   "execution_count": 1,
   "metadata": {},
   "outputs": [],
   "source": [
    "from PIL import Image\n",
    "import PIL\n",
    "import png\n",
    "import numpy as np\n",
    "import random\n",
    "import os\n",
    "from IPython.display import clear_output\n",
    "import itertools\n",
    "from matplotlib.pyplot import imshow\n"
   ]
  },
  {
   "cell_type": "markdown",
   "metadata": {},
   "source": [
    "### set up paths, stim list, etc."
   ]
  },
  {
   "cell_type": "code",
   "execution_count": 2,
   "metadata": {},
   "outputs": [],
   "source": [
    "proj_dir = os.path.abspath('../..')\n",
    "stimuli_dir = os.path.join(proj_dir,'stimuli')\n",
    "data_dir = 'stim_silhouettes'\n",
    "out_dir = os.path.join(stimuli_dir,'stims')\n",
    "path_to_stims = os.path.join(stimuli_dir,'stims')\n",
    "\n",
    "if not os.path.exists(out_dir):\n",
    "    os.makedirs(out_dir)\n",
    "    \n",
    "if not os.path.exists(path_to_stims):\n",
    "    os.makedirs(path_to_stims)\n",
    "\n",
    "\n",
    "animals = sorted(['dot'])\n",
    "animal_paths = ['{}.png'.format(i) for i in animals]\n"
   ]
  },
  {
   "cell_type": "markdown",
   "metadata": {},
   "source": [
    "### helper functions"
   ]
  },
  {
   "cell_type": "code",
   "execution_count": 3,
   "metadata": {},
   "outputs": [],
   "source": [
    "def load_images_from_folder(filename):\n",
    "    img = Image.open(filename)\n",
    "    return img\n",
    "\n",
    "def place_animals(big_backdrop='big_background.png',\n",
    "                  backdrop='background.png',\n",
    "                  animal='dot',\n",
    "                  cardinality=1,\n",
    "                  version=0,\n",
    "                  padding=30,\n",
    "                  jitter=20,                  \n",
    "                  data_dir='stim_silhouettes',\n",
    "                  out_dir='stims',\n",
    "                  regular=False,\n",
    "                  save=True):\n",
    "    \n",
    "    '''\n",
    "    input: \n",
    "        big_backdrop = filename, a big black rectangle slightly larger than \"backdrop\" to provide an outline\n",
    "        backdrop = filename, a big white rectangle that serves as the main background for animal silhouettes\n",
    "        animal = str, name of animal\n",
    "        cardinality = int, how many animals to place on this image\n",
    "        version = int, which random seed to use? controls spatial distribution of animals on background\n",
    "        padding = int, how much padding between any edge of image and any stim\n",
    "        jitter = int, how much jitter to allow away from exact grid placement?\n",
    "        data_dir = dir to load in animal silhouette source files from\n",
    "        out_dir = dir to save rendered stims to\n",
    "    \n",
    "    output: \n",
    "        saves PIL Image file out to out_dir directory, named `image_name`\n",
    "    '''\n",
    "\n",
    "    ## generate background images if they don't already exist\n",
    "    if not os.path.exists(os.path.join(data_dir, 'background.png')):\n",
    "        frame = 800*[800*[255,255,255,255]]\n",
    "        big_frame = 810*[810*[0,0,0,255]]\n",
    "        png.from_array(frame, 'RGBA').save(os.path.join(data_dir, 'background.png'))\n",
    "        png.from_array(big_frame, 'RGBA').save(os.path.join(data_dir, 'big_background.png'))\n",
    "    \n",
    "    ## load in data\n",
    "    big_background = Image.open(os.path.join(data_dir,big_backdrop))\n",
    "    background = Image.open(os.path.join(data_dir,backdrop))\n",
    "    foreground = Image.open(os.path.join(data_dir,'{}.png'.format(animal)))\n",
    "\n",
    "    ## random seed? use version number to control random seed\n",
    "    random_seed = version\n",
    "\n",
    "    ## get whichever dim is longest for animal, width or height\n",
    "    maxdim_fore = np.max([np.shape(foreground)[0],np.shape(foreground)[1]])\n",
    "    maxdim_back = np.shape(background)[0] ## get dims of background\n",
    "    maxdim_back_padded = maxdim_back - padding*2\n",
    "\n",
    "    \n",
    "    num_cols = np.int(np.floor(maxdim_back_padded/maxdim_fore)) ## how many animals can we tile in that direction\n",
    "    ## make sure we have at least as many grid cells as we have cardinalities\n",
    "    assert num_cols**2 >= cardinality\n",
    "    \n",
    "#     ## for if we want animals to be maximally spaced regardless of the cardinality\n",
    "#     num_cols = np.int(np.ceil(np.sqrt(cardinality)))\n",
    "\n",
    "    ## lower bound on animal placement in either horiz/vertical dimension\n",
    "    lb = padding \n",
    "    ## upper bound on animal placement\n",
    "    ub = maxdim_back - padding - maxdim_fore \n",
    "    ## grid coordinates along one dimension\n",
    "    cols = [np.int(i) for i in np.linspace(lb,ub,num = num_cols)]\n",
    "\n",
    "    ## allowable grid locations to place animal\n",
    "    legal_locations = np.array([p for p in itertools.product(cols,repeat=2)])\n",
    "    \n",
    "    ## randomly sample a subset of these legal locations to be actual stim locations\n",
    "    \n",
    "    inds_ra = np.random.RandomState(random_seed).choice(np.arange(len(legal_locations)), size=cardinality, replace=False)\n",
    "    \n",
    "    nearest_multiple = num_cols * round(int(np.floor((len(legal_locations)-cardinality)/2)) / num_cols)\n",
    "    inds_re = np.arange(nearest_multiple,cardinality+nearest_multiple)\n",
    "#     inds = np.arange(cardinality)\n",
    "    inds = inds_re if regular == True else inds_ra\n",
    "    stim_locations = [tuple(i) for i in legal_locations[inds]]\n",
    "\n",
    "    ## get a bunch of random jitter magnitudes\n",
    "    jitter_mags = [np.int(i) for i in np.random.RandomState(random_seed).rand(len(stim_locations)*2)*jitter*2 - jitter]\n",
    "\n",
    "    ## get jittered stim_locations\n",
    "    jittered_stim_locations = [(tup[0] + jitter_mags[i], \n",
    "                                tup[1] + jitter_mags[i*2]) for (i,tup) in enumerate(stim_locations)]\n",
    "\n",
    "    ## now actually place the animals in those jittered_stim_locations to generate the stims\n",
    "    for new_coord in jittered_stim_locations:\n",
    "        background.paste(foreground, new_coord, foreground)\n",
    "\n",
    "    big_background.paste(background,(5,5),background)\n",
    "\n",
    "    ## save images as image_name out to out_dir\n",
    "    regularity = 'regular' if regular == True else 'random'\n",
    "    image_name = '{}_{}_{}_{}.png'.format(regularity,animal, str(cardinality),str(version).zfill(3))\n",
    "    \n",
    "    imshow(np.asarray(big_background))\n",
    "    if save == True:\n",
    "        big_background.save(os.path.join(out_dir,image_name))        \n",
    "    \n",
    "    \n"
   ]
  },
  {
   "cell_type": "code",
   "execution_count": 4,
   "metadata": {},
   "outputs": [
    {
     "name": "stderr",
     "output_type": "stream",
     "text": [
      "/Users/alles/anaconda3/lib/python3.7/site-packages/ipykernel_launcher.py:54: DeprecationWarning: `np.int` is a deprecated alias for the builtin `int`. To silence this warning, use `int` by itself. Doing this will not modify any behavior and is safe. When replacing `np.int`, you may wish to use e.g. `np.int64` or `np.int32` to specify the precision. If you wish to review your current use, check the release note link for additional information.\n",
      "Deprecated in NumPy 1.20; for more details and guidance: https://numpy.org/devdocs/release/1.20.0-notes.html#deprecations\n",
      "/Users/alles/anaconda3/lib/python3.7/site-packages/ipykernel_launcher.py:66: DeprecationWarning: `np.int` is a deprecated alias for the builtin `int`. To silence this warning, use `int` by itself. Doing this will not modify any behavior and is safe. When replacing `np.int`, you may wish to use e.g. `np.int64` or `np.int32` to specify the precision. If you wish to review your current use, check the release note link for additional information.\n",
      "Deprecated in NumPy 1.20; for more details and guidance: https://numpy.org/devdocs/release/1.20.0-notes.html#deprecations\n",
      "/Users/alles/anaconda3/lib/python3.7/site-packages/ipykernel_launcher.py:82: DeprecationWarning: `np.int` is a deprecated alias for the builtin `int`. To silence this warning, use `int` by itself. Doing this will not modify any behavior and is safe. When replacing `np.int`, you may wish to use e.g. `np.int64` or `np.int32` to specify the precision. If you wish to review your current use, check the release note link for additional information.\n",
      "Deprecated in NumPy 1.20; for more details and guidance: https://numpy.org/devdocs/release/1.20.0-notes.html#deprecations\n"
     ]
    },
    {
     "data": {
      "image/png": "[encoded data removed]",
      "text/plain": [
       "<Figure size 432x288 with 1 Axes>"
      ]
     },
     "metadata": {
      "needs_background": "light"
     },
     "output_type": "display_data"
    }
   ],
   "source": [
    "place_animals(big_backdrop='big_background.png',\n",
    "              backdrop='background.png',\n",
    "              animal='dot',\n",
    "              cardinality=24,\n",
    "              version=1,\n",
    "              padding=30,\n",
    "              jitter=20,\n",
    "              data_dir='stim_silhouettes',\n",
    "              out_dir=out_dir,\n",
    "              regular=True,\n",
    "              save=False)    "
   ]
  },
  {
   "cell_type": "code",
   "execution_count": 7,
   "metadata": {},
   "outputs": [
    {
     "name": "stdout",
     "output_type": "stream",
     "text": [
      "Done!\n"
     ]
    },
    {
     "data": {
      "image/png": "[encoded data removed]",
      "text/plain": [
       "<Figure size 432x288 with 1 Axes>"
      ]
     },
     "metadata": {
      "needs_background": "light"
     },
     "output_type": "display_data"
    }
   ],
   "source": [
    "## display params\n",
    "cardinalities = np.arange(1,21) # np.append(np.arange(1,7),np.arange(15,21))\n",
    "num_versions = 100\n",
    "\n",
    "for i,animal in enumerate(animals):\n",
    "    for num in cardinalities:\n",
    "        for v in np.arange(num_versions):\n",
    "            print('generating animal: {} | cardinality: {} | version: {}'.format(animal, num, v))\n",
    "            clear_output(wait=True)\n",
    "            place_animals(big_backdrop='big_background.png',\n",
    "                          backdrop='background.png',\n",
    "                          animal=animal,\n",
    "                          cardinality=num,\n",
    "                          version=v, # we want each cardinality to have a different kernel\n",
    "                          padding=30,\n",
    "                          jitter=0,\n",
    "                          data_dir='stim_silhouettes',\n",
    "                          out_dir=out_dir,\n",
    "                          regular=False)        \n",
    "print('Done!')"
   ]
  },
  {
   "cell_type": "code",
   "execution_count": 5,
   "metadata": {},
   "outputs": [],
   "source": [
    "blah = 500*[500*[255,255,255,255]]\n",
    "png.from_array(blah, 'RGBA').save(os.path.join(data_dir, 'blah.png'))"
   ]
  },
  {
   "cell_type": "code",
   "execution_count": null,
   "metadata": {},
   "outputs": [],
   "source": []
  },
  {
   "cell_type": "code",
   "execution_count": null,
   "metadata": {},
   "outputs": [],
   "source": []
  },
  {
   "cell_type": "code",
   "execution_count": null,
   "metadata": {},
   "outputs": [],
   "source": []
  },
  {
   "cell_type": "code",
   "execution_count": null,
   "metadata": {},
   "outputs": [],
   "source": []
  },
  {
   "cell_type": "code",
   "execution_count": null,
   "metadata": {},
   "outputs": [],
   "source": []
  },
  {
   "cell_type": "code",
   "execution_count": null,
   "metadata": {},
   "outputs": [],
   "source": []
  },
  {
   "cell_type": "code",
   "execution_count": null,
   "metadata": {},
   "outputs": [],
   "source": []
  },
  {
   "cell_type": "code",
   "execution_count": null,
   "metadata": {},
   "outputs": [],
   "source": []
  },
  {
   "cell_type": "code",
   "execution_count": null,
   "metadata": {},
   "outputs": [],
   "source": []
  }
 ],
 "metadata": {
  "kernelspec": {
   "display_name": "Python 3",
   "language": "python",
   "name": "python3"
  },
  "language_info": {
   "codemirror_mode": {
    "name": "ipython",
    "version": 3
   },
   "file_extension": ".py",
   "mimetype": "text/x-python",
   "name": "python",
   "nbconvert_exporter": "python",
   "pygments_lexer": "ipython3",
   "version": "3.7.2"
  }
 },
 "nbformat": 4,
 "nbformat_minor": 2
}
