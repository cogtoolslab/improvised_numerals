{
 "cells": [
  {
   "cell_type": "code",
   "execution_count": 149,
   "metadata": {},
   "outputs": [],
   "source": [
    "import os, sys\n",
    "\n",
    "import pymongo as pm\n",
    "import numpy as np\n",
    "import scipy.stats as stats\n",
    "import math\n",
    "import pandas as pd\n",
    "import json\n",
    "import re\n",
    "from io import BytesIO\n",
    "from PIL import Image\n",
    "import requests # this is to access the stim urls from the notebook\n",
    "from IPython.display import SVG, display # need for showing stims with sketches side by side\n",
    "import base64\n",
    "import PIL\n",
    "\n",
    "import matplotlib\n",
    "from matplotlib import pylab, mlab, pyplot\n",
    "import matplotlib.patches as mpatches\n",
    "%matplotlib inline\n",
    "from IPython.core.pylabtools import figsize, getfigs\n",
    "plt = pyplot\n",
    "import seaborn as sns\n",
    "sns.set_context('talk')\n",
    "sns.set_style('white')\n",
    "from matplotlib import rcParams\n",
    "matplotlib.rcParams['pdf.fonttype'] = 42\n",
    "\n",
    "from IPython.display import clear_output\n",
    "import importlib\n",
    "\n",
    "import warnings\n",
    "warnings.filterwarnings(\"ignore\", category=DeprecationWarning)\n",
    "warnings.filterwarnings(\"ignore\", message=\"numpy.dtype size changed\")\n",
    "warnings.filterwarnings(\"ignore\", message=\"numpy.ufunc size changed\")\n",
    "\n",
    "# so dataframes don't get cut off in display:\n",
    "pd.set_option(\"display.max_rows\", None, \"display.max_columns\", None)\n",
    "\n",
    "import ast  # for interpreting strings as dictionary objects\n"
   ]
  },
  {
   "cell_type": "markdown",
   "metadata": {},
   "source": [
    "### establish connection to mongo\n",
    "first thing you need to do is to establish an ssh tunnel (aka remote port forwarding) to the server, so that requests to the mongodb can be made \"as if\" the mongodb server is running on your local computer. Run this from the command line before you begin data analysis if you plan to fetch data from mongo:\n",
    "\n",
    "ssh -fNL 27020:127.0.0.1:27017 USER@cogtoolslab.org"
   ]
  },
  {
   "cell_type": "code",
   "execution_count": 150,
   "metadata": {},
   "outputs": [],
   "source": [
    "! ssh -fNL 27020:127.0.0.1:27017 sholt@cogtoolslab.org"
   ]
  },
  {
   "cell_type": "code",
   "execution_count": 195,
   "metadata": {},
   "outputs": [
    {
     "data": {
      "text/plain": [
       "Index([], dtype='object')"
      ]
     },
     "execution_count": 195,
     "metadata": {},
     "output_type": "execute_result"
    }
   ],
   "source": [
    "# set vars \n",
    "auth = pd.read_csv(os.path.join(os.getcwd(),'auth.txt'), header = None) # this auth.txt file contains the password for the sketchloop user\n",
    "pswd = auth.values[0][0]\n",
    "user = 'sketchloop'\n",
    "host = 'cogtoolslab.org'\n",
    "\n",
    "# have to fix this to be able to analyze from local\n",
    "import pymongo as pm\n",
    "import socket\n",
    "conn = pm.MongoClient('mongodb://sketchloop:' + pswd + '@127.0.0.1:27017')\n",
    "db = conn['num_syn']\n",
    "coll = db['proof_of_concept']\n",
    "\n",
    "# which iteration name(s) should we use?\n",
    "iterationName = 'sandbox'  # 'sandbox', 'friends1' (Leo & Emily), 'pilot1' was more people we know, \n",
    "\n",
    "# w = coll.remove({'iterationName':'sandbox'})\n",
    "\n",
    "w = coll.find({'iterationName':iterationName})\n",
    "W = pd.DataFrame(w)\n",
    "# W.to_csv(\"pilotData.csv\")\n",
    "W.columns"
   ]
  },
  {
   "cell_type": "code",
   "execution_count": 196,
   "metadata": {
    "scrolled": true
   },
   "outputs": [
    {
     "data": {
      "text/html": [
       "<div>\n",
       "<style scoped>\n",
       "    .dataframe tbody tr th:only-of-type {\n",
       "        vertical-align: middle;\n",
       "    }\n",
       "\n",
       "    .dataframe tbody tr th {\n",
       "        vertical-align: top;\n",
       "    }\n",
       "\n",
       "    .dataframe thead th {\n",
       "        text-align: right;\n",
       "    }\n",
       "</style>\n",
       "<table border=\"1\" class=\"dataframe\">\n",
       "  <thead>\n",
       "    <tr style=\"text-align: right;\">\n",
       "      <th></th>\n",
       "    </tr>\n",
       "  </thead>\n",
       "  <tbody>\n",
       "  </tbody>\n",
       "</table>\n",
       "</div>"
      ],
      "text/plain": [
       "Empty DataFrame\n",
       "Columns: []\n",
       "Index: []"
      ]
     },
     "execution_count": 196,
     "metadata": {},
     "output_type": "execute_result"
    }
   ],
   "source": [
    "W"
   ]
  },
  {
   "cell_type": "code",
   "execution_count": 146,
   "metadata": {},
   "outputs": [
    {
     "data": {
      "text/html": [
       "<div>\n",
       "<style scoped>\n",
       "    .dataframe tbody tr th:only-of-type {\n",
       "        vertical-align: middle;\n",
       "    }\n",
       "\n",
       "    .dataframe tbody tr th {\n",
       "        vertical-align: top;\n",
       "    }\n",
       "\n",
       "    .dataframe thead th {\n",
       "        text-align: right;\n",
       "    }\n",
       "</style>\n",
       "<table border=\"1\" class=\"dataframe\">\n",
       "  <thead>\n",
       "    <tr style=\"text-align: right;\">\n",
       "      <th></th>\n",
       "    </tr>\n",
       "  </thead>\n",
       "  <tbody>\n",
       "  </tbody>\n",
       "</table>\n",
       "</div>"
      ],
      "text/plain": [
       "Empty DataFrame\n",
       "Columns: []\n",
       "Index: []"
      ]
     },
     "execution_count": 146,
     "metadata": {},
     "output_type": "execute_result"
    }
   ],
   "source": [
    "W[['eventType','target','response','correct','score','RT','take','base']]"
   ]
  },
  {
   "cell_type": "code",
   "execution_count": null,
   "metadata": {},
   "outputs": [],
   "source": []
  },
  {
   "cell_type": "code",
   "execution_count": 9,
   "metadata": {},
   "outputs": [
    {
     "data": {
      "text/html": [
       "<div>\n",
       "<style scoped>\n",
       "    .dataframe tbody tr th:only-of-type {\n",
       "        vertical-align: middle;\n",
       "    }\n",
       "\n",
       "    .dataframe tbody tr th {\n",
       "        vertical-align: top;\n",
       "    }\n",
       "\n",
       "    .dataframe thead th {\n",
       "        text-align: right;\n",
       "    }\n",
       "</style>\n",
       "<table border=\"1\" class=\"dataframe\">\n",
       "  <thead>\n",
       "    <tr style=\"text-align: right;\">\n",
       "      <th></th>\n",
       "      <th>index</th>\n",
       "      <th>_id</th>\n",
       "      <th>iterationName</th>\n",
       "      <th>eventType</th>\n",
       "      <th>gameID</th>\n",
       "      <th>workerID</th>\n",
       "      <th>assignmentID</th>\n",
       "      <th>hitID</th>\n",
       "      <th>score</th>\n",
       "      <th>trialNum</th>\n",
       "      <th>sectionTrial</th>\n",
       "      <th>target</th>\n",
       "      <th>response</th>\n",
       "      <th>correct</th>\n",
       "      <th>take</th>\n",
       "      <th>block</th>\n",
       "      <th>trialStartTime</th>\n",
       "      <th>trialTime</th>\n",
       "      <th>takeTime</th>\n",
       "      <th>RT</th>\n",
       "      <th>initTime</th>\n",
       "      <th>endTime</th>\n",
       "    </tr>\n",
       "  </thead>\n",
       "  <tbody>\n",
       "    <tr>\n",
       "      <th>0</th>\n",
       "      <td>69</td>\n",
       "      <td>61a03fb040a9bd7fc1e6a524</td>\n",
       "      <td>pilot1</td>\n",
       "      <td>test</td>\n",
       "      <td>0</td>\n",
       "      <td>0</td>\n",
       "      <td>0</td>\n",
       "      <td>0</td>\n",
       "      <td>53</td>\n",
       "      <td>55.0</td>\n",
       "      <td>1.0</td>\n",
       "      <td>ha-to-ha</td>\n",
       "      <td>hatoha</td>\n",
       "      <td>False</td>\n",
       "      <td>1.0</td>\n",
       "      <td>test</td>\n",
       "      <td>1.637892e+12</td>\n",
       "      <td>4034.0</td>\n",
       "      <td>4034.0</td>\n",
       "      <td>2139</td>\n",
       "      <td>1.637892e+12</td>\n",
       "      <td>NaN</td>\n",
       "    </tr>\n",
       "    <tr>\n",
       "      <th>1</th>\n",
       "      <td>150</td>\n",
       "      <td>61a041db40a9bd7fc1e6a575</td>\n",
       "      <td>pilot1</td>\n",
       "      <td>test</td>\n",
       "      <td>0</td>\n",
       "      <td>0</td>\n",
       "      <td>0</td>\n",
       "      <td>0</td>\n",
       "      <td>50</td>\n",
       "      <td>55.0</td>\n",
       "      <td>1.0</td>\n",
       "      <td>mo-ku</td>\n",
       "      <td>moku</td>\n",
       "      <td>False</td>\n",
       "      <td>1.0</td>\n",
       "      <td>test</td>\n",
       "      <td>1.637893e+12</td>\n",
       "      <td>1887.0</td>\n",
       "      <td>1887.0</td>\n",
       "      <td>897</td>\n",
       "      <td>1.637892e+12</td>\n",
       "      <td>NaN</td>\n",
       "    </tr>\n",
       "    <tr>\n",
       "      <th>2</th>\n",
       "      <td>219</td>\n",
       "      <td>61a043a540a9bd7fc1e6a5ba</td>\n",
       "      <td>pilot1</td>\n",
       "      <td>test</td>\n",
       "      <td>0</td>\n",
       "      <td>0</td>\n",
       "      <td>0</td>\n",
       "      <td>0</td>\n",
       "      <td>54</td>\n",
       "      <td>55.0</td>\n",
       "      <td>1.0</td>\n",
       "      <td>ke-to</td>\n",
       "      <td>keto</td>\n",
       "      <td>False</td>\n",
       "      <td>1.0</td>\n",
       "      <td>test</td>\n",
       "      <td>1.637893e+12</td>\n",
       "      <td>2323.0</td>\n",
       "      <td>2323.0</td>\n",
       "      <td>1981</td>\n",
       "      <td>1.637893e+12</td>\n",
       "      <td>NaN</td>\n",
       "    </tr>\n",
       "    <tr>\n",
       "      <th>3</th>\n",
       "      <td>335</td>\n",
       "      <td>61a0a14340a9bd7fc1e6a62e</td>\n",
       "      <td>pilot1</td>\n",
       "      <td>test</td>\n",
       "      <td>0</td>\n",
       "      <td>0</td>\n",
       "      <td>0</td>\n",
       "      <td>0</td>\n",
       "      <td>51</td>\n",
       "      <td>55.0</td>\n",
       "      <td>1.0</td>\n",
       "      <td>ka-sa</td>\n",
       "      <td>kasa</td>\n",
       "      <td>False</td>\n",
       "      <td>1.0</td>\n",
       "      <td>test</td>\n",
       "      <td>1.637917e+12</td>\n",
       "      <td>2792.0</td>\n",
       "      <td>2792.0</td>\n",
       "      <td>1218</td>\n",
       "      <td>1.637917e+12</td>\n",
       "      <td>NaN</td>\n",
       "    </tr>\n",
       "  </tbody>\n",
       "</table>\n",
       "</div>"
      ],
      "text/plain": [
       "   index                       _id iterationName eventType  gameID  workerID  \\\n",
       "0     69  61a03fb040a9bd7fc1e6a524        pilot1      test       0         0   \n",
       "1    150  61a041db40a9bd7fc1e6a575        pilot1      test       0         0   \n",
       "2    219  61a043a540a9bd7fc1e6a5ba        pilot1      test       0         0   \n",
       "3    335  61a0a14340a9bd7fc1e6a62e        pilot1      test       0         0   \n",
       "\n",
       "   assignmentID  hitID  score  trialNum  sectionTrial    target response  \\\n",
       "0             0      0     53      55.0           1.0  ha-to-ha   hatoha   \n",
       "1             0      0     50      55.0           1.0     mo-ku     moku   \n",
       "2             0      0     54      55.0           1.0     ke-to     keto   \n",
       "3             0      0     51      55.0           1.0     ka-sa     kasa   \n",
       "\n",
       "  correct  take block  trialStartTime  trialTime  takeTime    RT  \\\n",
       "0   False   1.0  test    1.637892e+12     4034.0    4034.0  2139   \n",
       "1   False   1.0  test    1.637893e+12     1887.0    1887.0   897   \n",
       "2   False   1.0  test    1.637893e+12     2323.0    2323.0  1981   \n",
       "3   False   1.0  test    1.637917e+12     2792.0    2792.0  1218   \n",
       "\n",
       "       initTime  endTime  \n",
       "0  1.637892e+12      NaN  \n",
       "1  1.637892e+12      NaN  \n",
       "2  1.637893e+12      NaN  \n",
       "3  1.637917e+12      NaN  "
      ]
     },
     "execution_count": 9,
     "metadata": {},
     "output_type": "execute_result"
    }
   ],
   "source": [
    "# How many games do we have?\n",
    "W[W['block'] == 'tutorial']['target'].reset_index()\n",
    "W[W['block'] == 'test'].reset_index()"
   ]
  },
  {
   "cell_type": "code",
   "execution_count": 10,
   "metadata": {},
   "outputs": [
    {
     "data": {
      "text/plain": [
       "array([1.63789161e+12, 1.63789216e+12, 1.63789226e+12, 1.63789266e+12,\n",
       "       1.63789360e+12, 1.63791677e+12])"
      ]
     },
     "execution_count": 10,
     "metadata": {},
     "output_type": "execute_result"
    }
   ],
   "source": [
    "W.initTime.unique()"
   ]
  },
  {
   "cell_type": "code",
   "execution_count": 11,
   "metadata": {},
   "outputs": [
    {
     "data": {
      "text/plain": [
       "array(['tutorial', 'quiz', 'test', nan], dtype=object)"
      ]
     },
     "execution_count": 11,
     "metadata": {},
     "output_type": "execute_result"
    }
   ],
   "source": [
    "W.block.unique()"
   ]
  },
  {
   "cell_type": "code",
   "execution_count": 12,
   "metadata": {},
   "outputs": [
    {
     "data": {
      "text/plain": [
       "0.5255255255255256"
      ]
     },
     "execution_count": 12,
     "metadata": {},
     "output_type": "execute_result"
    }
   ],
   "source": [
    "W.correct.mean()"
   ]
  },
  {
   "cell_type": "code",
   "execution_count": 91,
   "metadata": {},
   "outputs": [
    {
     "data": {
      "text/plain": [
       "70     {'1': [3944], '2': [14481], '3': [3593, 411], ...\n",
       "151    {'1': [9271], '2': [3190], '3': [1451], '4': [...\n",
       "220    {'1': [9728], '2': [2530], '3': [2207], '4': [...\n",
       "336    {'1': [2426], '2': [5060], '3': [5268], '4': [...\n",
       "Name: RT, dtype: object"
      ]
     },
     "execution_count": 91,
     "metadata": {},
     "output_type": "execute_result"
    }
   ],
   "source": [
    "W[W['eventType']=='generalization'].RT"
   ]
  },
  {
   "cell_type": "code",
   "execution_count": null,
   "metadata": {},
   "outputs": [],
   "source": []
  },
  {
   "cell_type": "code",
   "execution_count": 82,
   "metadata": {
    "scrolled": false
   },
   "outputs": [
    {
     "data": {
      "text/html": [
       "<style  type=\"text/css\" >\n",
       "    #T_e8ca6_ td:hover {\n",
       "          background-color: #ffffb3;\n",
       "    }</style><table id=\"T_e8ca6_\" ><caption>Generalizations</caption><thead>    <tr>        <th class=\"blank level0\" ></th>        <th class=\"col_heading level0 col0\" >#</th>        <th class=\"col_heading level0 col1\" >Targs1</th>        <th class=\"col_heading level0 col2\" >Resps1</th>        <th class=\"col_heading level0 col3\" >Targs2</th>        <th class=\"col_heading level0 col4\" >Resps2</th>        <th class=\"col_heading level0 col5\" >Targs3</th>        <th class=\"col_heading level0 col6\" >Resps3</th>        <th class=\"col_heading level0 col7\" >Targs4</th>        <th class=\"col_heading level0 col8\" >Resps4</th>    </tr></thead><tbody>\n",
       "                <tr>\n",
       "                        <th id=\"T_e8ca6_level0_row0\" class=\"row_heading level0 row0\" >0</th>\n",
       "                        <td id=\"T_e8ca6_row0_col0\" class=\"data row0 col0\" >1</td>\n",
       "                        <td id=\"T_e8ca6_row0_col1\" class=\"data row0 col1\" >tu</td>\n",
       "                        <td id=\"T_e8ca6_row0_col2\" class=\"data row0 col2\" >['ha']</td>\n",
       "                        <td id=\"T_e8ca6_row0_col3\" class=\"data row0 col3\" >ti</td>\n",
       "                        <td id=\"T_e8ca6_row0_col4\" class=\"data row0 col4\" >['ti']</td>\n",
       "                        <td id=\"T_e8ca6_row0_col5\" class=\"data row0 col5\" >ti</td>\n",
       "                        <td id=\"T_e8ca6_row0_col6\" class=\"data row0 col6\" >['ti']</td>\n",
       "                        <td id=\"T_e8ca6_row0_col7\" class=\"data row0 col7\" >ne</td>\n",
       "                        <td id=\"T_e8ca6_row0_col8\" class=\"data row0 col8\" >['ne']</td>\n",
       "            </tr>\n",
       "            <tr>\n",
       "                        <th id=\"T_e8ca6_level0_row1\" class=\"row_heading level0 row1\" >1</th>\n",
       "                        <td id=\"T_e8ca6_row1_col0\" class=\"data row1 col0\" >2</td>\n",
       "                        <td id=\"T_e8ca6_row1_col1\" class=\"data row1 col1\" >ha</td>\n",
       "                        <td id=\"T_e8ca6_row1_col2\" class=\"data row1 col2\" >['ha']</td>\n",
       "                        <td id=\"T_e8ca6_row1_col3\" class=\"data row1 col3\" >mo</td>\n",
       "                        <td id=\"T_e8ca6_row1_col4\" class=\"data row1 col4\" >['ko']</td>\n",
       "                        <td id=\"T_e8ca6_row1_col5\" class=\"data row1 col5\" >ke</td>\n",
       "                        <td id=\"T_e8ca6_row1_col6\" class=\"data row1 col6\" >['ke']</td>\n",
       "                        <td id=\"T_e8ca6_row1_col7\" class=\"data row1 col7\" >sa</td>\n",
       "                        <td id=\"T_e8ca6_row1_col8\" class=\"data row1 col8\" >['sa']</td>\n",
       "            </tr>\n",
       "            <tr>\n",
       "                        <th id=\"T_e8ca6_level0_row2\" class=\"row_heading level0 row2\" >2</th>\n",
       "                        <td id=\"T_e8ca6_row2_col0\" class=\"data row2 col0\" >3</td>\n",
       "                        <td id=\"T_e8ca6_row2_col1\" class=\"data row2 col1\" >ku</td>\n",
       "                        <td id=\"T_e8ca6_row2_col2\" class=\"data row2 col2\" >['ku']</td>\n",
       "                        <td id=\"T_e8ca6_row2_col3\" class=\"data row2 col3\" >no</td>\n",
       "                        <td id=\"T_e8ca6_row2_col4\" class=\"data row2 col4\" >['no']</td>\n",
       "                        <td id=\"T_e8ca6_row2_col5\" class=\"data row2 col5\" >mu</td>\n",
       "                        <td id=\"T_e8ca6_row2_col6\" class=\"data row2 col6\" >['mu']</td>\n",
       "                        <td id=\"T_e8ca6_row2_col7\" class=\"data row2 col7\" >sa-ne</td>\n",
       "                        <td id=\"T_e8ca6_row2_col8\" class=\"data row2 col8\" >['sane']</td>\n",
       "            </tr>\n",
       "            <tr>\n",
       "                        <th id=\"T_e8ca6_level0_row3\" class=\"row_heading level0 row3\" >3</th>\n",
       "                        <td id=\"T_e8ca6_row3_col0\" class=\"data row3 col0\" >4</td>\n",
       "                        <td id=\"T_e8ca6_row3_col1\" class=\"data row3 col1\" >to</td>\n",
       "                        <td id=\"T_e8ca6_row3_col2\" class=\"data row3 col2\" >['to']</td>\n",
       "                        <td id=\"T_e8ca6_row3_col3\" class=\"data row3 col3\" >he</td>\n",
       "                        <td id=\"T_e8ca6_row3_col4\" class=\"data row3 col4\" >['ku']</td>\n",
       "                        <td id=\"T_e8ca6_row3_col5\" class=\"data row3 col5\" >te</td>\n",
       "                        <td id=\"T_e8ca6_row3_col6\" class=\"data row3 col6\" >['te']</td>\n",
       "                        <td id=\"T_e8ca6_row3_col7\" class=\"data row3 col7\" >mu</td>\n",
       "                        <td id=\"T_e8ca6_row3_col8\" class=\"data row3 col8\" >['mu']</td>\n",
       "            </tr>\n",
       "            <tr>\n",
       "                        <th id=\"T_e8ca6_level0_row4\" class=\"row_heading level0 row4\" >4</th>\n",
       "                        <td id=\"T_e8ca6_row4_col0\" class=\"data row4 col0\" >5</td>\n",
       "                        <td id=\"T_e8ca6_row4_col1\" class=\"data row4 col1\" >to-tu</td>\n",
       "                        <td id=\"T_e8ca6_row4_col2\" class=\"data row4 col2\" >['totu']</td>\n",
       "                        <td id=\"T_e8ca6_row4_col3\" class=\"data row4 col3\" >ku</td>\n",
       "                        <td id=\"T_e8ca6_row4_col4\" class=\"data row4 col4\" >['he']</td>\n",
       "                        <td id=\"T_e8ca6_row4_col5\" class=\"data row4 col5\" >to</td>\n",
       "                        <td id=\"T_e8ca6_row4_col6\" class=\"data row4 col6\" >['ti']</td>\n",
       "                        <td id=\"T_e8ca6_row4_col7\" class=\"data row4 col7\" >mu-ne</td>\n",
       "                        <td id=\"T_e8ca6_row4_col8\" class=\"data row4 col8\" >['mune']</td>\n",
       "            </tr>\n",
       "            <tr>\n",
       "                        <th id=\"T_e8ca6_level0_row5\" class=\"row_heading level0 row5\" >5</th>\n",
       "                        <td id=\"T_e8ca6_row5_col0\" class=\"data row5 col0\" >6</td>\n",
       "                        <td id=\"T_e8ca6_row5_col1\" class=\"data row5 col1\" >to-ha</td>\n",
       "                        <td id=\"T_e8ca6_row5_col2\" class=\"data row5 col2\" >['toha']</td>\n",
       "                        <td id=\"T_e8ca6_row5_col3\" class=\"data row5 col3\" >ku-ti</td>\n",
       "                        <td id=\"T_e8ca6_row5_col4\" class=\"data row5 col4\" >['kuti']</td>\n",
       "                        <td id=\"T_e8ca6_row5_col5\" class=\"data row5 col5\" >to-ti</td>\n",
       "                        <td id=\"T_e8ca6_row5_col6\" class=\"data row5 col6\" >['toti']</td>\n",
       "                        <td id=\"T_e8ca6_row5_col7\" class=\"data row5 col7\" >mu-sa</td>\n",
       "                        <td id=\"T_e8ca6_row5_col8\" class=\"data row5 col8\" >['musa']</td>\n",
       "            </tr>\n",
       "            <tr>\n",
       "                        <th id=\"T_e8ca6_level0_row6\" class=\"row_heading level0 row6\" >6</th>\n",
       "                        <td id=\"T_e8ca6_row6_col0\" class=\"data row6 col0\" >7</td>\n",
       "                        <td id=\"T_e8ca6_row6_col1\" class=\"data row6 col1\" >to-ku</td>\n",
       "                        <td id=\"T_e8ca6_row6_col2\" class=\"data row6 col2\" >['toku']</td>\n",
       "                        <td id=\"T_e8ca6_row6_col3\" class=\"data row6 col3\" >ku-mo</td>\n",
       "                        <td id=\"T_e8ca6_row6_col4\" class=\"data row6 col4\" >['kumo']</td>\n",
       "                        <td id=\"T_e8ca6_row6_col5\" class=\"data row6 col5\" >to-ke</td>\n",
       "                        <td id=\"T_e8ca6_row6_col6\" class=\"data row6 col6\" >['toke']</td>\n",
       "                        <td id=\"T_e8ca6_row6_col7\" class=\"data row6 col7\" >mu-sa-ne</td>\n",
       "                        <td id=\"T_e8ca6_row6_col8\" class=\"data row6 col8\" >['musane']</td>\n",
       "            </tr>\n",
       "            <tr>\n",
       "                        <th id=\"T_e8ca6_level0_row7\" class=\"row_heading level0 row7\" >7</th>\n",
       "                        <td id=\"T_e8ca6_row7_col0\" class=\"data row7 col0\" >8</td>\n",
       "                        <td id=\"T_e8ca6_row7_col1\" class=\"data row7 col1\" >ha-to</td>\n",
       "                        <td id=\"T_e8ca6_row7_col2\" class=\"data row7 col2\" >['hato']</td>\n",
       "                        <td id=\"T_e8ca6_row7_col3\" class=\"data row7 col3\" >ku-no</td>\n",
       "                        <td id=\"T_e8ca6_row7_col4\" class=\"data row7 col4\" >['kuni']</td>\n",
       "                        <td id=\"T_e8ca6_row7_col5\" class=\"data row7 col5\" >to-mu</td>\n",
       "                        <td id=\"T_e8ca6_row7_col6\" class=\"data row7 col6\" >['tomu']</td>\n",
       "                        <td id=\"T_e8ca6_row7_col7\" class=\"data row7 col7\" >ka</td>\n",
       "                        <td id=\"T_e8ca6_row7_col8\" class=\"data row7 col8\" >['ka']</td>\n",
       "            </tr>\n",
       "            <tr>\n",
       "                        <th id=\"T_e8ca6_level0_row8\" class=\"row_heading level0 row8\" >8</th>\n",
       "                        <td id=\"T_e8ca6_row8_col0\" class=\"data row8 col0\" >9</td>\n",
       "                        <td id=\"T_e8ca6_row8_col1\" class=\"data row8 col1\" >ha-to-tu</td>\n",
       "                        <td id=\"T_e8ca6_row8_col2\" class=\"data row8 col2\" >['hatotu']</td>\n",
       "                        <td id=\"T_e8ca6_row8_col3\" class=\"data row8 col3\" >ku-he</td>\n",
       "                        <td id=\"T_e8ca6_row8_col4\" class=\"data row8 col4\" >['r']</td>\n",
       "                        <td id=\"T_e8ca6_row8_col5\" class=\"data row8 col5\" >to-te</td>\n",
       "                        <td id=\"T_e8ca6_row8_col6\" class=\"data row8 col6\" >['tote']</td>\n",
       "                        <td id=\"T_e8ca6_row8_col7\" class=\"data row8 col7\" >ka-ne</td>\n",
       "                        <td id=\"T_e8ca6_row8_col8\" class=\"data row8 col8\" >['kane']</td>\n",
       "            </tr>\n",
       "            <tr>\n",
       "                        <th id=\"T_e8ca6_level0_row9\" class=\"row_heading level0 row9\" >9</th>\n",
       "                        <td id=\"T_e8ca6_row9_col0\" class=\"data row9 col0\" >10</td>\n",
       "                        <td id=\"T_e8ca6_row9_col1\" class=\"data row9 col1\" >ha-to-ha</td>\n",
       "                        <td id=\"T_e8ca6_row9_col2\" class=\"data row9 col2\" >['hatoha']</td>\n",
       "                        <td id=\"T_e8ca6_row9_col3\" class=\"data row9 col3\" >mo-ku</td>\n",
       "                        <td id=\"T_e8ca6_row9_col4\" class=\"data row9 col4\" >['o']</td>\n",
       "                        <td id=\"T_e8ca6_row9_col5\" class=\"data row9 col5\" >ke-to</td>\n",
       "                        <td id=\"T_e8ca6_row9_col6\" class=\"data row9 col6\" >['keto']</td>\n",
       "                        <td id=\"T_e8ca6_row9_col7\" class=\"data row9 col7\" >ka-sa</td>\n",
       "                        <td id=\"T_e8ca6_row9_col8\" class=\"data row9 col8\" >['kasane']</td>\n",
       "            </tr>\n",
       "            <tr>\n",
       "                        <th id=\"T_e8ca6_level0_row10\" class=\"row_heading level0 row10\" >10</th>\n",
       "                        <td id=\"T_e8ca6_row10_col0\" class=\"data row10 col0\" >11</td>\n",
       "                        <td id=\"T_e8ca6_row10_col1\" class=\"data row10 col1\" >  </td>\n",
       "                        <td id=\"T_e8ca6_row10_col2\" class=\"data row10 col2\" >['hatoku']</td>\n",
       "                        <td id=\"T_e8ca6_row10_col3\" class=\"data row10 col3\" >  </td>\n",
       "                        <td id=\"T_e8ca6_row10_col4\" class=\"data row10 col4\" >['p']</td>\n",
       "                        <td id=\"T_e8ca6_row10_col5\" class=\"data row10 col5\" >  </td>\n",
       "                        <td id=\"T_e8ca6_row10_col6\" class=\"data row10 col6\" >['titi']</td>\n",
       "                        <td id=\"T_e8ca6_row10_col7\" class=\"data row10 col7\" >  </td>\n",
       "                        <td id=\"T_e8ca6_row10_col8\" class=\"data row10 col8\" >['kamu']</td>\n",
       "            </tr>\n",
       "            <tr>\n",
       "                        <th id=\"T_e8ca6_level0_row11\" class=\"row_heading level0 row11\" >11</th>\n",
       "                        <td id=\"T_e8ca6_row11_col0\" class=\"data row11 col0\" >12</td>\n",
       "                        <td id=\"T_e8ca6_row11_col1\" class=\"data row11 col1\" >  </td>\n",
       "                        <td id=\"T_e8ca6_row11_col2\" class=\"data row11 col2\" >['kuto']</td>\n",
       "                        <td id=\"T_e8ca6_row11_col3\" class=\"data row11 col3\" >  </td>\n",
       "                        <td id=\"T_e8ca6_row11_col4\" class=\"data row11 col4\" >['i']</td>\n",
       "                        <td id=\"T_e8ca6_row11_col5\" class=\"data row11 col5\" >  </td>\n",
       "                        <td id=\"T_e8ca6_row11_col6\" class=\"data row11 col6\" >['tike']</td>\n",
       "                        <td id=\"T_e8ca6_row11_col7\" class=\"data row11 col7\" >  </td>\n",
       "                        <td id=\"T_e8ca6_row11_col8\" class=\"data row11 col8\" >['kamune']</td>\n",
       "            </tr>\n",
       "            <tr>\n",
       "                        <th id=\"T_e8ca6_level0_row12\" class=\"row_heading level0 row12\" >12</th>\n",
       "                        <td id=\"T_e8ca6_row12_col0\" class=\"data row12 col0\" >13</td>\n",
       "                        <td id=\"T_e8ca6_row12_col1\" class=\"data row12 col1\" >  </td>\n",
       "                        <td id=\"T_e8ca6_row12_col2\" class=\"data row12 col2\" >['kutotu']</td>\n",
       "                        <td id=\"T_e8ca6_row12_col3\" class=\"data row12 col3\" >  </td>\n",
       "                        <td id=\"T_e8ca6_row12_col4\" class=\"data row12 col4\" >['d']</td>\n",
       "                        <td id=\"T_e8ca6_row12_col5\" class=\"data row12 col5\" >  </td>\n",
       "                        <td id=\"T_e8ca6_row12_col6\" class=\"data row12 col6\" >['timu']</td>\n",
       "                        <td id=\"T_e8ca6_row12_col7\" class=\"data row12 col7\" >  </td>\n",
       "                        <td id=\"T_e8ca6_row12_col8\" class=\"data row12 col8\" >['kamusa']</td>\n",
       "            </tr>\n",
       "            <tr>\n",
       "                        <th id=\"T_e8ca6_level0_row13\" class=\"row_heading level0 row13\" >13</th>\n",
       "                        <td id=\"T_e8ca6_row13_col0\" class=\"data row13 col0\" >14</td>\n",
       "                        <td id=\"T_e8ca6_row13_col1\" class=\"data row13 col1\" >  </td>\n",
       "                        <td id=\"T_e8ca6_row13_col2\" class=\"data row13 col2\" >['kutoha']</td>\n",
       "                        <td id=\"T_e8ca6_row13_col3\" class=\"data row13 col3\" >  </td>\n",
       "                        <td id=\"T_e8ca6_row13_col4\" class=\"data row13 col4\" >['k']</td>\n",
       "                        <td id=\"T_e8ca6_row13_col5\" class=\"data row13 col5\" >  </td>\n",
       "                        <td id=\"T_e8ca6_row13_col6\" class=\"data row13 col6\" >['tite']</td>\n",
       "                        <td id=\"T_e8ca6_row13_col7\" class=\"data row13 col7\" >  </td>\n",
       "                        <td id=\"T_e8ca6_row13_col8\" class=\"data row13 col8\" >['kamusane']</td>\n",
       "            </tr>\n",
       "            <tr>\n",
       "                        <th id=\"T_e8ca6_level0_row14\" class=\"row_heading level0 row14\" >14</th>\n",
       "                        <td id=\"T_e8ca6_row14_col0\" class=\"data row14 col0\" >15</td>\n",
       "                        <td id=\"T_e8ca6_row14_col1\" class=\"data row14 col1\" >  </td>\n",
       "                        <td id=\"T_e8ca6_row14_col2\" class=\"data row14 col2\" >['kutoku']</td>\n",
       "                        <td id=\"T_e8ca6_row14_col3\" class=\"data row14 col3\" >  </td>\n",
       "                        <td id=\"T_e8ca6_row14_col4\" class=\"data row14 col4\" >['lol']</td>\n",
       "                        <td id=\"T_e8ca6_row14_col5\" class=\"data row14 col5\" >  </td>\n",
       "                        <td id=\"T_e8ca6_row14_col6\" class=\"data row14 col6\" >['tito']</td>\n",
       "                        <td id=\"T_e8ca6_row14_col7\" class=\"data row14 col7\" >  </td>\n",
       "                        <td id=\"T_e8ca6_row14_col8\" class=\"data row14 col8\" >['kamumu']</td>\n",
       "            </tr>\n",
       "    </tbody></table>"
      ],
      "text/plain": [
       "<pandas.io.formats.style.Styler at 0x7fdc74ea7f98>"
      ]
     },
     "execution_count": 82,
     "metadata": {},
     "output_type": "execute_result"
    }
   ],
   "source": [
    "generalizations = W[W['eventType'] == 'generalization'].reset_index()['target']\n",
    "\n",
    "G = pd.DataFrame(range(1,16),columns=['#'])\n",
    "for j,g in enumerate(generalizations):\n",
    "#     print(\"\\033[1mGeneralization #{}\\033[0m\".format(j+1))\n",
    "    gDF = pd.DataFrame(columns=['#','Targs{}'.format(j+1),'Resps{}'.format(j+1)])\n",
    "    \n",
    "    for i in range(15):\n",
    "        targ = g[i] if i < len(g) else \"  \"\n",
    "        resp = W[W['eventType'] == 'generalization'].reset_index()['response'][j][str(i+1)]\n",
    "#         print(i+1,targ,resp)\n",
    "        newRow = pd.DataFrame([[i+1,targ,resp]], columns=gDF.columns)\n",
    "        gDF = gDF.append(newRow)\n",
    "    G = G.merge(gDF,on='#')\n",
    "#     print('')\n",
    "G = G.style.set_caption(\"Generalizations\")\n",
    "cell_hover = {  # for row hover use <tr> instead of <td>\n",
    "    'selector': 'td:hover',\n",
    "    'props': [('background-color', '#ffffb3')]\n",
    "}\n",
    "G.set_table_styles([cell_hover])\n",
    "\n",
    "G"
   ]
  },
  {
   "cell_type": "code",
   "execution_count": null,
   "metadata": {},
   "outputs": [],
   "source": []
  },
  {
   "cell_type": "code",
   "execution_count": null,
   "metadata": {},
   "outputs": [],
   "source": [
    "\n",
    "\n",
    "# exclusion criteria:\n",
    "# 1. tutorial trials should almost all be correct\n",
    "# 2. exclude people if they use too many characters not in the count list (up )\n",
    "\n",
    "# how much to bonus people? 3¢, or 2 or 1 depending on the take\n",
    "\n",
    "\n",
    "# staged/tiered analysis for the generalization phase:\n",
    "#     1. see if there are group differences with all the data\n",
    "#     2. if not, then exclude all of what looks like garbage data, and do secondary analysis"
   ]
  },
  {
   "cell_type": "code",
   "execution_count": null,
   "metadata": {},
   "outputs": [],
   "source": []
  },
  {
   "cell_type": "code",
   "execution_count": null,
   "metadata": {},
   "outputs": [],
   "source": [
    "# # to do:\n",
    "### 1. make it so that people have to delete TWICE to get to the previous generalization field # DON'T NEED\n",
    "### 2. fix the 'correct' classification that forgets about hyphens ('score' is working fine)\n",
    "### 3. sample consonants and vowels without replacement independently of each other\n",
    "### 4. add in the final count to ten of quiz trials\n",
    "### 5. store surveyData\n",
    "# 5.1. also store number of syllables (# of hyphens + 1)\n",
    "### 6. get rid of 'test' trials, make trials start at the correct number\n",
    "### 7. INTEGRATE IT WITH PROLIFIC!"
   ]
  }
 ],
 "metadata": {
  "kernelspec": {
   "display_name": "Python 3",
   "language": "python",
   "name": "python3"
  },
  "language_info": {
   "codemirror_mode": {
    "name": "ipython",
    "version": 3
   },
   "file_extension": ".py",
   "mimetype": "text/x-python",
   "name": "python",
   "nbconvert_exporter": "python",
   "pygments_lexer": "ipython3",
   "version": "3.7.2"
  }
 },
 "nbformat": 4,
 "nbformat_minor": 2
}
