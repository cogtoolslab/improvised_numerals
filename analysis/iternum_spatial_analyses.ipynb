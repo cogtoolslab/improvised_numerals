{
 "cells": [
  {
   "cell_type": "code",
   "execution_count": 1,
   "metadata": {},
   "outputs": [],
   "source": [
    "import os, sys\n",
    "\n",
    "import pymongo as pm\n",
    "import numpy as np\n",
    "import scipy.stats as stats\n",
    "import pandas as pd\n",
    "import json\n",
    "import math\n",
    "\n",
    "import matplotlib\n",
    "from matplotlib import pylab, mlab, pyplot\n",
    "import matplotlib.patches as mpatches\n",
    "%matplotlib inline\n",
    "from IPython.core.pylabtools import figsize, getfigs\n",
    "plt = pyplot\n",
    "import seaborn as sns\n",
    "sns.set_context('talk')\n",
    "sns.set_style('white')\n",
    "from matplotlib import rcParams\n",
    "from PIL import Image\n",
    "\n",
    "from IPython.display import clear_output\n",
    "import importlib\n",
    "\n",
    "import warnings\n",
    "warnings.filterwarnings(\"ignore\", category=DeprecationWarning)\n",
    "warnings.filterwarnings(\"ignore\", message=\"numpy.dtype size changed\")\n",
    "warnings.filterwarnings(\"ignore\", message=\"numpy.ufunc size changed\")\n",
    "warnings.filterwarnings(\"ignore\")\n"
   ]
  },
  {
   "cell_type": "markdown",
   "metadata": {},
   "source": [
    "### Purpose of this notebook"
   ]
  },
  {
   "cell_type": "markdown",
   "metadata": {},
   "source": [
    "The purpose of this notebook is to understand how much information each sketch produced in the `iterated_number` experiment contained information about the spatial layout of objects in the target array."
   ]
  },
  {
   "cell_type": "markdown",
   "metadata": {},
   "source": [
    "### set up file paths"
   ]
  },
  {
   "cell_type": "code",
   "execution_count": 2,
   "metadata": {},
   "outputs": [],
   "source": [
    "# directory & file hierarchy\n",
    "proj_dir = os.path.abspath('..')\n",
    "analysis_dir = os.getcwd()\n",
    "results_dir = os.path.join(proj_dir,'results')\n",
    "plot_dir = os.path.join(results_dir,'plots')\n",
    "csv_dir = os.path.join(results_dir,'csv')\n",
    "exp_dir = os.path.abspath(os.path.join(proj_dir,'experiments'))\n",
    "stim_dir = os.path.abspath(os.path.join(proj_dir,'stimuli'))\n",
    "sketch_dir = os.path.abspath(os.path.join(proj_dir,'sketches'))\n",
    "datastructures_dir = os.path.join(analysis_dir,'datastructures')\n",
    "\n",
    "## add helpers to python path\n",
    "if os.path.join(proj_dir,'utils') not in sys.path:\n",
    "    sys.path.append(os.path.join(proj_dir,'utils'))   \n",
    "\n",
    "def make_dir_if_not_exists(dir_name):   \n",
    "    if not os.path.exists(dir_name):\n",
    "        os.makedirs(dir_name)\n",
    "    return dir_name\n",
    "\n",
    "## create directories that don't already exist        \n",
    "result = [make_dir_if_not_exists(x) for x in [results_dir,plot_dir,csv_dir,datastructures_dir]]\n",
    "\n",
    "## add utils to python path\n",
    "import sys\n",
    "if os.path.join(proj_dir,'utils') not in sys.path:\n",
    "    sys.path.append(os.path.join(proj_dir,'utils'))\n",
    "import utils"
   ]
  },
  {
   "cell_type": "markdown",
   "metadata": {},
   "source": [
    "### Load in example data"
   ]
  },
  {
   "cell_type": "code",
   "execution_count": 4,
   "metadata": {},
   "outputs": [],
   "source": [
    "path_to_sketches = sketch_dir\n",
    "sketch_paths = [os.path.join(path_to_sketches,i) for i in os.listdir(path_to_sketches)]\n",
    "\n",
    "# path_to_stims = stim_dir\n",
    "# stim_paths = [os.path.join(stim_dir, 'stims', i) for i in os.listdir(os.path.join(stim_dir, 'stims'))]\n",
    "# stim_paths = [i for i in stim_paths if i.split('/')[-1] != '.DS_Store'] ## deborkify"
   ]
  },
  {
   "cell_type": "code",
   "execution_count": 5,
   "metadata": {},
   "outputs": [],
   "source": [
    "# stim_paths"
   ]
  },
  {
   "cell_type": "code",
   "execution_count": 6,
   "metadata": {},
   "outputs": [
    {
     "data": {
      "text/plain": [
       "['/Users/alles/repos/iterated_number/sketches/4019-010d3cc5-821a-4dae-981f-e81171af1699_owl_17_1_large_regular_17',\n",
       " '/Users/alles/repos/iterated_number/sketches/5257-896f3783-ecda-4daa-8ba0-1a976b05bcea_bear_2_2_small_regular_2',\n",
       " '/Users/alles/repos/iterated_number/sketches/5257-896f3783-ecda-4daa-8ba0-1a976b05bcea_bear_6_1_small_regular_6',\n",
       " '/Users/alles/repos/iterated_number/sketches/4019-010d3cc5-821a-4dae-981f-e81171af1699_owl_16_2_large_regular_16',\n",
       " '/Users/alles/repos/iterated_number/sketches/5257-896f3783-ecda-4daa-8ba0-1a976b05bcea_bear_5_3_small_regular_5']"
      ]
     },
     "execution_count": 6,
     "metadata": {},
     "output_type": "execute_result"
    }
   ],
   "source": [
    "sketch_paths"
   ]
  },
  {
   "cell_type": "code",
   "execution_count": 7,
   "metadata": {},
   "outputs": [],
   "source": [
    "## TODO: create a dictionary/dataframe that generates ..."
   ]
  },
  {
   "cell_type": "code",
   "execution_count": 248,
   "metadata": {},
   "outputs": [
    {
     "name": "stdout",
     "output_type": "stream",
     "text": [
      "['owl', '16', '2', 'large', 'regular', '16']\n"
     ]
    },
    {
     "data": {
      "image/png": "[encoded data removed]",
      "text/plain": [
       "<PIL.PngImagePlugin.PngImageFile image mode=RGBA size=300x300 at 0x7FA4968C5278>"
      ]
     },
     "execution_count": 248,
     "metadata": {},
     "output_type": "execute_result"
    }
   ],
   "source": [
    "sampleNum = 3\n",
    "## visualize sample image\n",
    "this_sketch_path = sketch_paths[sampleNum]\n",
    "cardinality = int(sketch_paths[sampleNum].split('/')[-1].split('_')[2])\n",
    "im = Image.open(sketch_paths[sampleNum])\n",
    "print(sketch_paths[sampleNum].split('/')[-1].split('_')[1:])\n",
    "im"
   ]
  },
  {
   "cell_type": "markdown",
   "metadata": {},
   "source": [
    "### very naive clustering method\n",
    "* Convert image to numPy array\n",
    "* Identify x,y coordinates of above-threshold pixels\n",
    "* Apply k-means clustering (this is the \"naive\" part)\n",
    "* Create reconstruction of cluster-segmented image\n",
    "* Validate the segmentation results (via visual inspection for now)\n",
    "* Extract centroid of each cluster in sketch\n",
    "* Extract centroid of each cluster in stim\n",
    "* Find 1-1 correspondence between centroids in sketch & stim\n",
    "* Compute Euclidean distance between corresponding marks"
   ]
  },
  {
   "cell_type": "code",
   "execution_count": 249,
   "metadata": {},
   "outputs": [],
   "source": [
    "## convert image to numPy array\n",
    "im_flattened = np.array(im).mean(2)"
   ]
  },
  {
   "cell_type": "code",
   "execution_count": 250,
   "metadata": {},
   "outputs": [],
   "source": [
    "## identify x,y coordinates of above-threshold pixels\n",
    "pix_thresh = 10 #(this is a somewhat arbitrary choice of hyperparam)\n",
    "coords = np.array(np.where(im_flattened>pix_thresh)).transpose()"
   ]
  },
  {
   "cell_type": "code",
   "execution_count": 251,
   "metadata": {},
   "outputs": [],
   "source": [
    "## apply k-means clustering\n",
    "from sklearn.cluster import KMeans\n",
    "X = coords\n",
    "num_clusters = cardinality\n",
    "kmeans = KMeans(num_clusters, random_state=0).fit(X)\n",
    "cluster_inds = kmeans.labels_ ## get cluster indices\n",
    "assert len(cluster_inds)==len(coords) ## sanity check"
   ]
  },
  {
   "cell_type": "code",
   "execution_count": 252,
   "metadata": {},
   "outputs": [],
   "source": [
    "## reconstruction of cluster-segmented image (initialize)\n",
    "recon = np.zeros(im_flattened.shape) \n",
    "\n",
    "## create segmentation mask (where each pixel value is assigned the cluster index)\n",
    "for ind, coord in enumerate(coords):\n",
    "    recon[tuple(coord)]=cluster_inds[ind]+1 ## assign cluster index to that coord\n",
    "    \n",
    "assert len(np.unique(recon))==num_clusters+1 ## sanity check  \n",
    "\n",
    "## construct rgb version of recon array\n",
    "recon_rgb = np.dstack([recon]*3)"
   ]
  },
  {
   "cell_type": "code",
   "execution_count": 253,
   "metadata": {},
   "outputs": [
    {
     "name": "stderr",
     "output_type": "stream",
     "text": [
      "Clipping input data to the valid range for imshow with RGB data ([0..1] for floats or [0..255] for integers).\n"
     ]
    },
    {
     "data": {
      "text/plain": [
       "<matplotlib.image.AxesImage at 0x7fa49698fda0>"
      ]
     },
     "execution_count": 253,
     "metadata": {},
     "output_type": "execute_result"
    },
    {
     "data": {
      "image/png": "[encoded data removed]",
      "text/plain": [
       "<Figure size 432x288 with 1 Axes>"
      ]
     },
     "metadata": {},
     "output_type": "display_data"
    }
   ],
   "source": [
    "plt.imshow(recon_rgb*50)"
   ]
  },
  {
   "cell_type": "code",
   "execution_count": 254,
   "metadata": {},
   "outputs": [],
   "source": [
    "## painting in coords with viridis colors\n",
    "from matplotlib import cm\n",
    "viridis = cm.get_cmap('viridis', num_clusters) ## color map\n",
    "for this_cluster_ind in np.unique(cluster_inds):\n",
    "    ## get matching coords\n",
    "    row = np.where(recon_rgb==this_cluster_ind+1)[0] ## add one so that 1-indexed cluster inds match on recon_rgb\n",
    "    col = np.where(recon_rgb==this_cluster_ind+1)[1]\n",
    "    key_coords = list(set(zip(row, col)))\n",
    "    \n",
    "    ## paint in coords\n",
    "    for coord in key_coords:\n",
    "        recon_rgb[coord[0], coord[1], 0] = np.floor(viridis.colors[this_cluster_ind][0]*255) ## red channel\n",
    "        recon_rgb[coord[0], coord[1], 1] = np.floor(viridis.colors[this_cluster_ind][1]*255) ## green channel\n",
    "        recon_rgb[coord[0], coord[1], 2] = np.floor(viridis.colors[this_cluster_ind][2]*255) ## blue channel"
   ]
  },
  {
   "cell_type": "code",
   "execution_count": 255,
   "metadata": {},
   "outputs": [
    {
     "data": {
      "image/png": "[encoded data removed]",
      "text/plain": [
       "<PIL.Image.Image image mode=RGB size=300x300 at 0x7FA495A578D0>"
      ]
     },
     "execution_count": 255,
     "metadata": {},
     "output_type": "execute_result"
    }
   ],
   "source": [
    "## visualize clusters\n",
    "Image.fromarray(np.uint8(recon_rgb))"
   ]
  },
  {
   "cell_type": "code",
   "execution_count": null,
   "metadata": {},
   "outputs": [],
   "source": []
  },
  {
   "cell_type": "markdown",
   "metadata": {},
   "source": [
    "### next clustering method\n",
    "* Convert image to numPy array\n",
    "* Identify x,y coordinates of above-threshold pixels\n",
    "* \n",
    "* Create reconstruction of cluster-segmented image\n",
    "* Validate the segmentation results (via visual inspection for now)\n",
    "* Extract centroid of each cluster in sketch\n",
    "* Extract centroid of each cluster in stim\n",
    "* Find 1-1 correspondence between centroids in sketch & stim\n",
    "* Compute Euclidean distance between corresponding marks"
   ]
  },
  {
   "cell_type": "code",
   "execution_count": 256,
   "metadata": {},
   "outputs": [],
   "source": [
    "## convert image to numPy array\n",
    "im_flattened = np.array(im).mean(2)\n",
    "\n",
    "## identify x,y coordinates of above-threshold pixels\n",
    "pix_thresh = 10 #(this is a somewhat arbitrary choice of hyperparam)\n",
    "coords = np.array(np.where(im_flattened>pix_thresh)).transpose()"
   ]
  },
  {
   "cell_type": "code",
   "execution_count": 257,
   "metadata": {},
   "outputs": [],
   "source": [
    "# method 1 (not good)\n",
    "\n",
    "continuousGroups = {}\n",
    "currCoord = coords[0]\n",
    "currGroup = []\n",
    "groupInd = 0\n",
    "continuous = True\n",
    "\n",
    "for i,coord in enumerate(coords):\n",
    "    \n",
    "    diff = coord - currCoord\n",
    "    continuous = np.sqrt(diff[0]**2 + diff[1]**2) < 80 # are we less than a pixel away?    \n",
    "    currCoord = coord\n",
    "        \n",
    "    if continuous or (len(currGroup) == 0):\n",
    "        currGroup.append(coord)\n",
    "    else:\n",
    "        continuousGroups[groupInd] = np.array(currGroup)\n",
    "        currGroup = []\n",
    "        groupInd += 1"
   ]
  },
  {
   "cell_type": "code",
   "execution_count": 258,
   "metadata": {},
   "outputs": [
    {
     "data": {
      "text/plain": [
       "dict_keys([0, 1, 2, 3, 4, 5, 6, 7, 8, 9, 10, 11, 12, 13, 14, 15, 16, 17, 18, 19, 20, 21, 22, 23, 24, 25, 26, 27, 28, 29, 30, 31, 32, 33, 34, 35, 36, 37, 38, 39, 40, 41, 42, 43, 44, 45, 46, 47, 48, 49, 50, 51, 52, 53, 54, 55, 56, 57, 58, 59, 60, 61, 62, 63, 64, 65, 66, 67, 68, 69, 70, 71, 72, 73, 74, 75, 76, 77, 78, 79, 80, 81, 82, 83, 84, 85, 86, 87, 88, 89, 90, 91, 92, 93, 94, 95, 96, 97, 98, 99, 100, 101, 102, 103, 104, 105, 106, 107, 108, 109, 110, 111, 112, 113, 114, 115, 116, 117, 118, 119, 120, 121, 122, 123, 124, 125, 126, 127, 128, 129, 130, 131, 132, 133, 134, 135, 136, 137, 138, 139, 140, 141, 142, 143, 144, 145, 146, 147, 148, 149, 150, 151, 152, 153, 154, 155, 156, 157, 158, 159, 160, 161, 162, 163, 164, 165, 166, 167, 168, 169, 170, 171, 172, 173, 174, 175, 176, 177, 178, 179, 180, 181, 182, 183, 184, 185, 186, 187, 188, 189, 190, 191, 192, 193, 194, 195, 196, 197, 198, 199, 200, 201, 202, 203, 204, 205, 206, 207, 208, 209, 210, 211, 212, 213, 214, 215, 216, 217, 218, 219, 220, 221, 222, 223, 224, 225, 226, 227, 228, 229, 230, 231, 232, 233, 234, 235, 236, 237, 238, 239, 240, 241, 242, 243, 244, 245, 246, 247, 248, 249, 250, 251, 252, 253, 254, 255, 256, 257, 258, 259, 260, 261])"
      ]
     },
     "execution_count": 258,
     "metadata": {},
     "output_type": "execute_result"
    }
   ],
   "source": [
    "continuousGroups.keys()"
   ]
  },
  {
   "cell_type": "code",
   "execution_count": 259,
   "metadata": {},
   "outputs": [
    {
     "data": {
      "text/plain": [
       "(300, 300)"
      ]
     },
     "execution_count": 259,
     "metadata": {},
     "output_type": "execute_result"
    }
   ],
   "source": [
    "np.shape(im_flattened)"
   ]
  },
  {
   "cell_type": "code",
   "execution_count": null,
   "metadata": {},
   "outputs": [],
   "source": []
  },
  {
   "cell_type": "code",
   "execution_count": 280,
   "metadata": {},
   "outputs": [
    {
     "ename": "KeyError",
     "evalue": "15",
     "output_type": "error",
     "traceback": [
      "\u001b[0;31m---------------------------------------------------------------------------\u001b[0m",
      "\u001b[0;31mKeyError\u001b[0m                                  Traceback (most recent call last)",
      "\u001b[0;32m<ipython-input-280-1469f9b9e4b0>\u001b[0m in \u001b[0;36m<module>\u001b[0;34m()\u001b[0m\n\u001b[1;32m     21\u001b[0m \u001b[0;34m\u001b[0m\u001b[0m\n\u001b[1;32m     22\u001b[0m     \u001b[0;32mif\u001b[0m \u001b[0mdist\u001b[0m \u001b[0;34m<\u001b[0m \u001b[0;36m1.5\u001b[0m\u001b[0;34m:\u001b[0m\u001b[0;34m\u001b[0m\u001b[0;34m\u001b[0m\u001b[0m\n\u001b[0;32m---> 23\u001b[0;31m         \u001b[0mcandidateCluster\u001b[0m \u001b[0;34m=\u001b[0m \u001b[0mcoordDict\u001b[0m\u001b[0;34m[\u001b[0m\u001b[0mnearest\u001b[0m\u001b[0;34m]\u001b[0m \u001b[0;31m# what cluster are we considering adding it to? That of the nearest pixel\u001b[0m\u001b[0;34m\u001b[0m\u001b[0;34m\u001b[0m\u001b[0m\n\u001b[0m\u001b[1;32m     24\u001b[0m         \u001b[0mcoordDict\u001b[0m\u001b[0;34m[\u001b[0m\u001b[0mi\u001b[0m\u001b[0;34m]\u001b[0m \u001b[0;34m=\u001b[0m \u001b[0mcandidateCluster\u001b[0m\u001b[0;34m\u001b[0m\u001b[0;34m\u001b[0m\u001b[0m\n\u001b[1;32m     25\u001b[0m \u001b[0;34m\u001b[0m\u001b[0m\n",
      "\u001b[0;31mKeyError\u001b[0m: 15"
     ]
    }
   ],
   "source": [
    "# method 2 (seems better, still need to have it refer to 'all coords but this one' rather than 'previous')\n",
    "\n",
    "\n",
    "previousCoords = []\n",
    "coordDict = {0:0} # key is index in previousCoords; value is candidate cluster\n",
    "ClusterIDs = [0]\n",
    "nearest,dist = 0,0\n",
    "\n",
    "for i,coord in enumerate(coords):\n",
    "#     if len(previousCoords) > 0:\n",
    "#         nearest = np.argmin(np.sum(np.abs(coord - np.array(previousCoords)),axis=1)) # which pixel is closest?\n",
    "#         dist = np.min(np.sum(np.abs(coord - np.array(previousCoords)),axis=1)) # how far is that pixel?\n",
    "        \n",
    "        \n",
    "    coords_del = np.delete(coords, i, 0)\n",
    "    nearest = np.argmin(np.sum(np.abs(coord - coords_del),axis=1)) # which pixel is closest?\n",
    "    dist = np.min(np.sum(np.abs(coord - coords_del),axis=1)) # how far is that pixel?\n",
    "    \n",
    "     \n",
    "#     previousCoords.append(coord) # add current coord to list of what we've gone through    \n",
    "    \n",
    "    if dist < 1.5:\n",
    "        candidateCluster = coordDict[nearest] # what cluster are we considering adding it to? That of the nearest pixel\n",
    "        coordDict[i] = candidateCluster\n",
    "        \n",
    "    else:\n",
    "        candidateCluster = np.max(ClusterIDs) + 1 # what cluster are we considering\n",
    "        coordDict[i] = np.max(ClusterIDs) + 1\n",
    "        ClusterIDs.append(np.max(ClusterIDs) + 1)"
   ]
  },
  {
   "cell_type": "code",
   "execution_count": 276,
   "metadata": {},
   "outputs": [
    {
     "data": {
      "text/plain": [
       "False"
      ]
     },
     "execution_count": 276,
     "metadata": {},
     "output_type": "execute_result"
    }
   ],
   "source": [
    "clusterInds = list(coordDict.values())\n",
    "len(np.unique(clusterInds))\n",
    "np.min(np.sum(np.abs(coord - coords),axis=1))\n",
    "\n",
    "15 in coordDict.keys()"
   ]
  },
  {
   "cell_type": "code",
   "execution_count": 268,
   "metadata": {},
   "outputs": [
    {
     "name": "stderr",
     "output_type": "stream",
     "text": [
      "Clipping input data to the valid range for imshow with RGB data ([0..1] for floats or [0..255] for integers).\n"
     ]
    },
    {
     "data": {
      "image/png": "[encoded data removed]",
      "text/plain": [
       "<PIL.Image.Image image mode=RGB size=300x300 at 0x7FA496C889B0>"
      ]
     },
     "execution_count": 268,
     "metadata": {},
     "output_type": "execute_result"
    },
    {
     "data": {
      "image/png": "[encoded data removed]",
      "text/plain": [
       "<Figure size 432x288 with 1 Axes>"
      ]
     },
     "metadata": {},
     "output_type": "display_data"
    }
   ],
   "source": [
    "## reconstruction of cluster-segmented image (initialize)\n",
    "recon = np.zeros(im_flattened.shape) \n",
    "\n",
    "## create segmentation mask (where each pixel value is assigned the cluster index)\n",
    "for ind, coord in enumerate(coords):\n",
    "    recon[tuple(coord)]=clusterInds[ind]+1 ## assign cluster index to that coord\n",
    "    \n",
    "assert len(np.unique(recon))==len(np.unique(clusterInds))+1 ## sanity check  \n",
    "\n",
    "## construct rgb version of recon array\n",
    "recon_rgb = np.dstack([recon]*3)\n",
    "\n",
    "plt.imshow(recon_rgb*50)\n",
    "\n",
    "## painting in coords with viridis colors\n",
    "from matplotlib import cm\n",
    "viridis = cm.get_cmap('viridis', len(np.unique(clusterInds))) ## color map\n",
    "for this_cluster_ind in np.unique(clusterInds):\n",
    "    ## get matching coords\n",
    "    row = np.where(recon_rgb==this_cluster_ind+1)[0] ## add one so that 1-indexed cluster inds match on recon_rgb\n",
    "    col = np.where(recon_rgb==this_cluster_ind+1)[1]\n",
    "    key_coords = list(set(zip(row, col)))\n",
    "    \n",
    "    ## paint in coords\n",
    "    for coord in key_coords:\n",
    "        recon_rgb[coord[0], coord[1], 0] = np.floor(viridis.colors[this_cluster_ind][0]*255) ## red channel\n",
    "        recon_rgb[coord[0], coord[1], 1] = np.floor(viridis.colors[this_cluster_ind][1]*255) ## green channel\n",
    "        recon_rgb[coord[0], coord[1], 2] = np.floor(viridis.colors[this_cluster_ind][2]*255) ## blue channel\n",
    "\n",
    "## visualize clusters\n",
    "Image.fromarray(np.uint8(recon_rgb))"
   ]
  },
  {
   "cell_type": "code",
   "execution_count": null,
   "metadata": {},
   "outputs": [],
   "source": []
  },
  {
   "cell_type": "code",
   "execution_count": null,
   "metadata": {},
   "outputs": [],
   "source": []
  },
  {
   "cell_type": "code",
   "execution_count": null,
   "metadata": {},
   "outputs": [],
   "source": []
  },
  {
   "cell_type": "code",
   "execution_count": null,
   "metadata": {},
   "outputs": [],
   "source": []
  },
  {
   "cell_type": "code",
   "execution_count": null,
   "metadata": {},
   "outputs": [],
   "source": []
  },
  {
   "cell_type": "code",
   "execution_count": null,
   "metadata": {},
   "outputs": [],
   "source": []
  }
 ],
 "metadata": {
  "kernelspec": {
   "display_name": "Python 3",
   "language": "python",
   "name": "python3"
  },
  "language_info": {
   "codemirror_mode": {
    "name": "ipython",
    "version": 3
   },
   "file_extension": ".py",
   "mimetype": "text/x-python",
   "name": "python",
   "nbconvert_exporter": "python",
   "pygments_lexer": "ipython3",
   "version": "3.7.2"
  }
 },
 "nbformat": 4,
 "nbformat_minor": 4
}
