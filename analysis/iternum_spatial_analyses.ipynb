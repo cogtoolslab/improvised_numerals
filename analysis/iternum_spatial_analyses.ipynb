{
 "cells": [
  {
   "cell_type": "code",
   "execution_count": 1,
   "metadata": {},
   "outputs": [],
   "source": [
    "import os, sys\n",
    "\n",
    "import pymongo as pm\n",
    "import numpy as np\n",
    "import scipy.stats as stats\n",
    "import pandas as pd\n",
    "import json\n",
    "import math\n",
    "\n",
    "import matplotlib\n",
    "from matplotlib import pylab, mlab, pyplot\n",
    "import matplotlib.patches as mpatches\n",
    "%matplotlib inline\n",
    "from IPython.core.pylabtools import figsize, getfigs\n",
    "plt = pyplot\n",
    "import seaborn as sns\n",
    "sns.set_context('talk')\n",
    "sns.set_style('white')\n",
    "from matplotlib import rcParams\n",
    "from PIL import Image\n",
    "\n",
    "from IPython.display import clear_output\n",
    "import importlib\n",
    "\n",
    "import warnings\n",
    "warnings.filterwarnings(\"ignore\", category=DeprecationWarning)\n",
    "warnings.filterwarnings(\"ignore\", message=\"numpy.dtype size changed\")\n",
    "warnings.filterwarnings(\"ignore\", message=\"numpy.ufunc size changed\")\n",
    "warnings.filterwarnings(\"ignore\")\n"
   ]
  },
  {
   "cell_type": "markdown",
   "metadata": {},
   "source": [
    "### Purpose of this notebook"
   ]
  },
  {
   "cell_type": "markdown",
   "metadata": {},
   "source": [
    "The purpose of this notebook is to understand how much information each sketch produced in the `iterated_number` experiment contained information about the spatial layout of objects in the target array."
   ]
  },
  {
   "cell_type": "markdown",
   "metadata": {},
   "source": [
    "### set up file paths"
   ]
  },
  {
   "cell_type": "code",
   "execution_count": 2,
   "metadata": {},
   "outputs": [],
   "source": [
    "# directory & file hierarchy\n",
    "proj_dir = os.path.abspath('..')\n",
    "analysis_dir = os.getcwd()\n",
    "results_dir = os.path.join(proj_dir,'results')\n",
    "plot_dir = os.path.join(results_dir,'plots')\n",
    "csv_dir = os.path.join(results_dir,'csv')\n",
    "exp_dir = os.path.abspath(os.path.join(proj_dir,'experiments'))\n",
    "stim_dir = os.path.abspath(os.path.join(proj_dir,'stimuli'))\n",
    "sketch_dir = os.path.abspath(os.path.join(proj_dir,'sketches'))\n",
    "datastructures_dir = os.path.join(analysis_dir,'datastructures')\n",
    "\n",
    "## add helpers to python path\n",
    "if os.path.join(proj_dir,'utils') not in sys.path:\n",
    "    sys.path.append(os.path.join(proj_dir,'utils'))   \n",
    "\n",
    "def make_dir_if_not_exists(dir_name):   \n",
    "    if not os.path.exists(dir_name):\n",
    "        os.makedirs(dir_name)\n",
    "    return dir_name\n",
    "\n",
    "## create directories that don't already exist        \n",
    "result = [make_dir_if_not_exists(x) for x in [results_dir,plot_dir,csv_dir,datastructures_dir]]\n",
    "\n",
    "## add utils to python path\n",
    "import sys\n",
    "if os.path.join(proj_dir,'utils') not in sys.path:\n",
    "    sys.path.append(os.path.join(proj_dir,'utils'))\n",
    "import utils"
   ]
  },
  {
   "cell_type": "markdown",
   "metadata": {},
   "source": [
    "### Load in example data"
   ]
  },
  {
   "cell_type": "code",
   "execution_count": 3,
   "metadata": {},
   "outputs": [],
   "source": [
    "path_to_sketches = sketch_dir\n",
    "sketch_paths = [os.path.join(path_to_sketches,i) for i in os.listdir(path_to_sketches)]\n",
    "\n",
    "# path_to_stims = stim_dir\n",
    "# stim_paths = [os.path.join(stim_dir, 'stims', i) for i in os.listdir(os.path.join(stim_dir, 'stims'))]\n",
    "# stim_paths = [i for i in stim_paths if i.split('/')[-1] != '.DS_Store'] ## deborkify"
   ]
  },
  {
   "cell_type": "code",
   "execution_count": 4,
   "metadata": {},
   "outputs": [],
   "source": [
    "# stim_paths"
   ]
  },
  {
   "cell_type": "code",
   "execution_count": 5,
   "metadata": {},
   "outputs": [
    {
     "data": {
      "text/plain": [
       "['/Users/alles/repos/iterated_number/sketches/0997-30047f9c-96a1-4875-8da3-2ddd4ff649e7_deer_19_13_large_random_19',\n",
       " '/Users/alles/repos/iterated_number/sketches/6095-2fa6036a-9bf3-4ab0-a37f-50938523a5f8_deer_19_32_large_random_19',\n",
       " '/Users/alles/repos/iterated_number/sketches/6544-a49c2957-61d9-40e0-b7db-734f45322f6b_deer_18_12_large_regular_18',\n",
       " '/Users/alles/repos/iterated_number/sketches/6544-a49c2957-61d9-40e0-b7db-734f45322f6b_bear_17_31_large_regular_17',\n",
       " '/Users/alles/repos/iterated_number/sketches/6002-83e30f60-27c5-4677-a5be-2dc4cef969e2_bear_18_29_large_regular_18',\n",
       " '/Users/alles/repos/iterated_number/sketches/0997-30047f9c-96a1-4875-8da3-2ddd4ff649e7_owl_15_16_large_random_15',\n",
       " '/Users/alles/repos/iterated_number/sketches/6544-a49c2957-61d9-40e0-b7db-734f45322f6b_deer_19_19_large_regular_19',\n",
       " '/Users/alles/repos/iterated_number/sketches/6544-a49c2957-61d9-40e0-b7db-734f45322f6b_bear_17_10_large_regular_17',\n",
       " '/Users/alles/repos/iterated_number/sketches/0997-30047f9c-96a1-4875-8da3-2ddd4ff649e7_owl_20_26_large_random_20',\n",
       " '/Users/alles/repos/iterated_number/sketches/7919-3b01f5d5-343e-4dd4-a3f3-da5504807930_bear_17_23_large_random_17',\n",
       " '/Users/alles/repos/iterated_number/sketches/0997-30047f9c-96a1-4875-8da3-2ddd4ff649e7_deer_15_20_large_random_15',\n",
       " '/Users/alles/repos/iterated_number/sketches/2590-5c03c7de-2316-42ef-917e-75dcf4ea3d70_bear_20_1_large_random_20',\n",
       " '/Users/alles/repos/iterated_number/sketches/4524-713015ff-0bab-43e4-96a8-3d8468270e9d_deer_18_15_large_random_18',\n",
       " '/Users/alles/repos/iterated_number/sketches/6095-2fa6036a-9bf3-4ab0-a37f-50938523a5f8_deer_17_11_large_random_17',\n",
       " '/Users/alles/repos/iterated_number/sketches/6544-a49c2957-61d9-40e0-b7db-734f45322f6b_owl_16_17_large_regular_16',\n",
       " '/Users/alles/repos/iterated_number/sketches/7919-3b01f5d5-343e-4dd4-a3f3-da5504807930_bear_17_11_large_random_17',\n",
       " '/Users/alles/repos/iterated_number/sketches/0997-30047f9c-96a1-4875-8da3-2ddd4ff649e7_deer_18_19_large_random_18',\n",
       " '/Users/alles/repos/iterated_number/sketches/7462-94159d36-e5ca-4119-9f71-810bf48f6c6b_owl_19_2_large_random_19',\n",
       " '/Users/alles/repos/iterated_number/sketches/7919-3b01f5d5-343e-4dd4-a3f3-da5504807930_bear_20_15_large_random_20',\n",
       " '/Users/alles/repos/iterated_number/sketches/6544-a49c2957-61d9-40e0-b7db-734f45322f6b_owl_19_33_large_regular_19',\n",
       " '/Users/alles/repos/iterated_number/sketches/6095-2fa6036a-9bf3-4ab0-a37f-50938523a5f8_deer_18_3_large_random_18',\n",
       " '/Users/alles/repos/iterated_number/sketches/7919-3b01f5d5-343e-4dd4-a3f3-da5504807930_deer_17_14_large_random_17',\n",
       " '/Users/alles/repos/iterated_number/sketches/0997-30047f9c-96a1-4875-8da3-2ddd4ff649e7_deer_18_3_large_random_18',\n",
       " '/Users/alles/repos/iterated_number/sketches/6095-2fa6036a-9bf3-4ab0-a37f-50938523a5f8_owl_17_2_large_random_17',\n",
       " '/Users/alles/repos/iterated_number/sketches/7919-3b01f5d5-343e-4dd4-a3f3-da5504807930_bear_18_8_large_random_18',\n",
       " '/Users/alles/repos/iterated_number/sketches/6095-2fa6036a-9bf3-4ab0-a37f-50938523a5f8_bear_20_5_large_random_20',\n",
       " '/Users/alles/repos/iterated_number/sketches/7919-3b01f5d5-343e-4dd4-a3f3-da5504807930_deer_20_10_large_random_20',\n",
       " '/Users/alles/repos/iterated_number/sketches/2590-5c03c7de-2316-42ef-917e-75dcf4ea3d70_deer_18_8_large_random_18',\n",
       " '/Users/alles/repos/iterated_number/sketches/2590-5c03c7de-2316-42ef-917e-75dcf4ea3d70_owl_17_4_large_random_17',\n",
       " '/Users/alles/repos/iterated_number/sketches/7919-3b01f5d5-343e-4dd4-a3f3-da5504807930_deer_20_34_large_random_20',\n",
       " '/Users/alles/repos/iterated_number/sketches/7919-3b01f5d5-343e-4dd4-a3f3-da5504807930_owl_16_12_large_random_16',\n",
       " '/Users/alles/repos/iterated_number/sketches/7919-3b01f5d5-343e-4dd4-a3f3-da5504807930_owl_15_5_large_random_15',\n",
       " '/Users/alles/repos/iterated_number/sketches/2590-5c03c7de-2316-42ef-917e-75dcf4ea3d70_bear_19_3_large_random_19',\n",
       " '/Users/alles/repos/iterated_number/sketches/6002-83e30f60-27c5-4677-a5be-2dc4cef969e2_owl_18_33_large_regular_18',\n",
       " '/Users/alles/repos/iterated_number/sketches/2590-5c03c7de-2316-42ef-917e-75dcf4ea3d70_deer_15_6_large_random_15',\n",
       " '/Users/alles/repos/iterated_number/sketches/4524-713015ff-0bab-43e4-96a8-3d8468270e9d_owl_18_11_large_random_18',\n",
       " '/Users/alles/repos/iterated_number/sketches/.DS_Store',\n",
       " '/Users/alles/repos/iterated_number/sketches/6002-83e30f60-27c5-4677-a5be-2dc4cef969e2_deer_20_1_large_regular_20',\n",
       " '/Users/alles/repos/iterated_number/sketches/7919-3b01f5d5-343e-4dd4-a3f3-da5504807930_owl_16_31_large_random_16',\n",
       " '/Users/alles/repos/iterated_number/sketches/7919-3b01f5d5-343e-4dd4-a3f3-da5504807930_deer_18_3_large_random_18',\n",
       " '/Users/alles/repos/iterated_number/sketches/6002-83e30f60-27c5-4677-a5be-2dc4cef969e2_deer_15_32_large_regular_15',\n",
       " '/Users/alles/repos/iterated_number/sketches/6544-a49c2957-61d9-40e0-b7db-734f45322f6b_deer_15_30_large_regular_15',\n",
       " '/Users/alles/repos/iterated_number/sketches/6095-2fa6036a-9bf3-4ab0-a37f-50938523a5f8_bear_20_25_large_random_20',\n",
       " '/Users/alles/repos/iterated_number/sketches/0326-4c44297a-fe08-4e67-9575-7bfe54c67f58_owl_17_7_large_regular_17',\n",
       " '/Users/alles/repos/iterated_number/sketches/0997-30047f9c-96a1-4875-8da3-2ddd4ff649e7_deer_19_30_large_random_19',\n",
       " '/Users/alles/repos/iterated_number/sketches/6002-83e30f60-27c5-4677-a5be-2dc4cef969e2_bear_17_4_large_regular_17',\n",
       " '/Users/alles/repos/iterated_number/sketches/4524-713015ff-0bab-43e4-96a8-3d8468270e9d_bear_18_3_large_random_18',\n",
       " '/Users/alles/repos/iterated_number/sketches/6095-2fa6036a-9bf3-4ab0-a37f-50938523a5f8_bear_18_7_large_random_18',\n",
       " '/Users/alles/repos/iterated_number/sketches/6002-83e30f60-27c5-4677-a5be-2dc4cef969e2_bear_20_34_large_regular_20',\n",
       " '/Users/alles/repos/iterated_number/sketches/4524-713015ff-0bab-43e4-96a8-3d8468270e9d_bear_17_7_large_random_17',\n",
       " '/Users/alles/repos/iterated_number/sketches/6002-83e30f60-27c5-4677-a5be-2dc4cef969e2_owl_19_16_large_regular_19',\n",
       " '/Users/alles/repos/iterated_number/sketches/6544-a49c2957-61d9-40e0-b7db-734f45322f6b_owl_17_4_large_regular_17',\n",
       " '/Users/alles/repos/iterated_number/sketches/0997-30047f9c-96a1-4875-8da3-2ddd4ff649e7_deer_15_2_large_random_15',\n",
       " '/Users/alles/repos/iterated_number/sketches/6095-2fa6036a-9bf3-4ab0-a37f-50938523a5f8_bear_19_30_large_random_19',\n",
       " '/Users/alles/repos/iterated_number/sketches/6002-83e30f60-27c5-4677-a5be-2dc4cef969e2_owl_17_9_large_regular_17',\n",
       " '/Users/alles/repos/iterated_number/sketches/2590-5c03c7de-2316-42ef-917e-75dcf4ea3d70_deer_19_7_large_random_19',\n",
       " '/Users/alles/repos/iterated_number/sketches/6544-a49c2957-61d9-40e0-b7db-734f45322f6b_owl_20_6_large_regular_20',\n",
       " '/Users/alles/repos/iterated_number/sketches/0997-30047f9c-96a1-4875-8da3-2ddd4ff649e7_bear_20_12_large_random_20',\n",
       " '/Users/alles/repos/iterated_number/sketches/6002-83e30f60-27c5-4677-a5be-2dc4cef969e2_bear_18_13_large_regular_18',\n",
       " '/Users/alles/repos/iterated_number/sketches/0326-4c44297a-fe08-4e67-9575-7bfe54c67f58_owl_18_4_large_regular_18',\n",
       " '/Users/alles/repos/iterated_number/sketches/0997-30047f9c-96a1-4875-8da3-2ddd4ff649e7_deer_20_17_large_random_20',\n",
       " '/Users/alles/repos/iterated_number/sketches/6095-2fa6036a-9bf3-4ab0-a37f-50938523a5f8_deer_15_22_large_random_15',\n",
       " '/Users/alles/repos/iterated_number/sketches/6544-a49c2957-61d9-40e0-b7db-734f45322f6b_deer_17_16_large_regular_17',\n",
       " '/Users/alles/repos/iterated_number/sketches/7123-0bb91d31-fc54-4000-bd32-04fbd7370563_owl_19_1_large_random_19',\n",
       " '/Users/alles/repos/iterated_number/sketches/6095-2fa6036a-9bf3-4ab0-a37f-50938523a5f8_owl_15_9_large_random_15',\n",
       " '/Users/alles/repos/iterated_number/sketches/0997-30047f9c-96a1-4875-8da3-2ddd4ff649e7_owl_18_14_large_random_18',\n",
       " '/Users/alles/repos/iterated_number/sketches/7123-0bb91d31-fc54-4000-bd32-04fbd7370563_bear_18_8_large_random_18',\n",
       " '/Users/alles/repos/iterated_number/sketches/6095-2fa6036a-9bf3-4ab0-a37f-50938523a5f8_bear_15_29_large_random_15',\n",
       " '/Users/alles/repos/iterated_number/sketches/7919-3b01f5d5-343e-4dd4-a3f3-da5504807930_owl_19_32_large_random_19',\n",
       " '/Users/alles/repos/iterated_number/sketches/7123-0bb91d31-fc54-4000-bd32-04fbd7370563_owl_16_5_large_random_16',\n",
       " '/Users/alles/repos/iterated_number/sketches/0997-30047f9c-96a1-4875-8da3-2ddd4ff649e7_bear_17_18_large_random_17',\n",
       " '/Users/alles/repos/iterated_number/sketches/7123-0bb91d31-fc54-4000-bd32-04fbd7370563_owl_18_6_large_random_18',\n",
       " '/Users/alles/repos/iterated_number/sketches/0326-4c44297a-fe08-4e67-9575-7bfe54c67f58_deer_15_2_large_regular_15',\n",
       " '/Users/alles/repos/iterated_number/sketches/4524-713015ff-0bab-43e4-96a8-3d8468270e9d_deer_17_5_large_random_17',\n",
       " '/Users/alles/repos/iterated_number/sketches/6095-2fa6036a-9bf3-4ab0-a37f-50938523a5f8_deer_20_21_large_random_20',\n",
       " '/Users/alles/repos/iterated_number/sketches/0326-4c44297a-fe08-4e67-9575-7bfe54c67f58_owl_16_5_large_regular_16',\n",
       " '/Users/alles/repos/iterated_number/sketches/6002-83e30f60-27c5-4677-a5be-2dc4cef969e2_owl_15_21_large_regular_15',\n",
       " '/Users/alles/repos/iterated_number/sketches/6002-83e30f60-27c5-4677-a5be-2dc4cef969e2_deer_19_11_large_regular_19',\n",
       " '/Users/alles/repos/iterated_number/sketches/4524-713015ff-0bab-43e4-96a8-3d8468270e9d_owl_17_20_large_random_17',\n",
       " '/Users/alles/repos/iterated_number/sketches/6095-2fa6036a-9bf3-4ab0-a37f-50938523a5f8_owl_19_23_large_random_19',\n",
       " '/Users/alles/repos/iterated_number/sketches/6095-2fa6036a-9bf3-4ab0-a37f-50938523a5f8_owl_15_34_large_random_15',\n",
       " '/Users/alles/repos/iterated_number/sketches/6095-2fa6036a-9bf3-4ab0-a37f-50938523a5f8_bear_19_15_large_random_19',\n",
       " '/Users/alles/repos/iterated_number/sketches/7123-0bb91d31-fc54-4000-bd32-04fbd7370563_owl_20_3_large_random_20',\n",
       " '/Users/alles/repos/iterated_number/sketches/7919-3b01f5d5-343e-4dd4-a3f3-da5504807930_owl_20_27_large_random_20',\n",
       " '/Users/alles/repos/iterated_number/sketches/4524-713015ff-0bab-43e4-96a8-3d8468270e9d_owl_20_19_large_random_20',\n",
       " '/Users/alles/repos/iterated_number/sketches/6544-a49c2957-61d9-40e0-b7db-734f45322f6b_deer_17_23_large_regular_17',\n",
       " '/Users/alles/repos/iterated_number/sketches/7919-3b01f5d5-343e-4dd4-a3f3-da5504807930_owl_17_1_large_random_17',\n",
       " '/Users/alles/repos/iterated_number/sketches/0997-30047f9c-96a1-4875-8da3-2ddd4ff649e7_bear_18_28_large_random_18',\n",
       " '/Users/alles/repos/iterated_number/sketches/6095-2fa6036a-9bf3-4ab0-a37f-50938523a5f8_owl_18_26_large_random_18',\n",
       " '/Users/alles/repos/iterated_number/sketches/6544-a49c2957-61d9-40e0-b7db-734f45322f6b_bear_16_11_large_regular_16',\n",
       " '/Users/alles/repos/iterated_number/sketches/7919-3b01f5d5-343e-4dd4-a3f3-da5504807930_owl_18_21_large_random_18',\n",
       " '/Users/alles/repos/iterated_number/sketches/4524-713015ff-0bab-43e4-96a8-3d8468270e9d_bear_16_1_large_random_16',\n",
       " '/Users/alles/repos/iterated_number/sketches/6544-a49c2957-61d9-40e0-b7db-734f45322f6b_bear_15_32_large_regular_15',\n",
       " '/Users/alles/repos/iterated_number/sketches/7919-3b01f5d5-343e-4dd4-a3f3-da5504807930_deer_18_25_large_random_18',\n",
       " '/Users/alles/repos/iterated_number/sketches/0997-30047f9c-96a1-4875-8da3-2ddd4ff649e7_bear_19_6_large_random_19',\n",
       " '/Users/alles/repos/iterated_number/sketches/4524-713015ff-0bab-43e4-96a8-3d8468270e9d_deer_20_12_large_random_20',\n",
       " '/Users/alles/repos/iterated_number/sketches/6095-2fa6036a-9bf3-4ab0-a37f-50938523a5f8_deer_16_28_large_random_16',\n",
       " '/Users/alles/repos/iterated_number/sketches/6002-83e30f60-27c5-4677-a5be-2dc4cef969e2_deer_18_20_large_regular_18',\n",
       " '/Users/alles/repos/iterated_number/sketches/6095-2fa6036a-9bf3-4ab0-a37f-50938523a5f8_bear_16_10_large_random_16',\n",
       " '/Users/alles/repos/iterated_number/sketches/6544-a49c2957-61d9-40e0-b7db-734f45322f6b_bear_18_25_large_regular_18',\n",
       " '/Users/alles/repos/iterated_number/sketches/2590-5c03c7de-2316-42ef-917e-75dcf4ea3d70_deer_16_5_large_random_16',\n",
       " '/Users/alles/repos/iterated_number/sketches/6002-83e30f60-27c5-4677-a5be-2dc4cef969e2_deer_16_10_large_regular_16',\n",
       " '/Users/alles/repos/iterated_number/sketches/0997-30047f9c-96a1-4875-8da3-2ddd4ff649e7_owl_17_9_large_random_17',\n",
       " '/Users/alles/repos/iterated_number/sketches/7919-3b01f5d5-343e-4dd4-a3f3-da5504807930_deer_19_20_large_random_19',\n",
       " '/Users/alles/repos/iterated_number/sketches/6002-83e30f60-27c5-4677-a5be-2dc4cef969e2_bear_16_2_large_regular_16',\n",
       " '/Users/alles/repos/iterated_number/sketches/6095-2fa6036a-9bf3-4ab0-a37f-50938523a5f8_deer_20_14_large_random_20',\n",
       " '/Users/alles/repos/iterated_number/sketches/6095-2fa6036a-9bf3-4ab0-a37f-50938523a5f8_bear_18_33_large_random_18',\n",
       " '/Users/alles/repos/iterated_number/sketches/7919-3b01f5d5-343e-4dd4-a3f3-da5504807930_bear_19_18_large_random_19',\n",
       " '/Users/alles/repos/iterated_number/sketches/6544-a49c2957-61d9-40e0-b7db-734f45322f6b_owl_17_27_large_regular_17',\n",
       " '/Users/alles/repos/iterated_number/sketches/0997-30047f9c-96a1-4875-8da3-2ddd4ff649e7_owl_19_24_large_random_19',\n",
       " '/Users/alles/repos/iterated_number/sketches/4524-713015ff-0bab-43e4-96a8-3d8468270e9d_owl_16_8_large_random_16',\n",
       " '/Users/alles/repos/iterated_number/sketches/7919-3b01f5d5-343e-4dd4-a3f3-da5504807930_bear_18_36_large_random_18',\n",
       " '/Users/alles/repos/iterated_number/sketches/6002-83e30f60-27c5-4677-a5be-2dc4cef969e2_bear_17_36_large_regular_17',\n",
       " '/Users/alles/repos/iterated_number/sketches/4524-713015ff-0bab-43e4-96a8-3d8468270e9d_bear_16_24_large_random_16',\n",
       " '/Users/alles/repos/iterated_number/sketches/7123-0bb91d31-fc54-4000-bd32-04fbd7370563_owl_17_10_large_random_17',\n",
       " '/Users/alles/repos/iterated_number/sketches/0997-30047f9c-96a1-4875-8da3-2ddd4ff649e7_owl_16_1_large_random_16',\n",
       " '/Users/alles/repos/iterated_number/sketches/6095-2fa6036a-9bf3-4ab0-a37f-50938523a5f8_owl_20_31_large_random_20',\n",
       " '/Users/alles/repos/iterated_number/sketches/0997-30047f9c-96a1-4875-8da3-2ddd4ff649e7_bear_15_7_large_random_15',\n",
       " '/Users/alles/repos/iterated_number/sketches/6095-2fa6036a-9bf3-4ab0-a37f-50938523a5f8_bear_15_13_large_random_15',\n",
       " '/Users/alles/repos/iterated_number/sketches/7919-3b01f5d5-343e-4dd4-a3f3-da5504807930_bear_15_24_large_random_15',\n",
       " '/Users/alles/repos/iterated_number/sketches/6002-83e30f60-27c5-4677-a5be-2dc4cef969e2_owl_17_27_large_regular_17',\n",
       " '/Users/alles/repos/iterated_number/sketches/7123-0bb91d31-fc54-4000-bd32-04fbd7370563_deer_20_9_large_random_20',\n",
       " '/Users/alles/repos/iterated_number/sketches/0997-30047f9c-96a1-4875-8da3-2ddd4ff649e7_owl_17_29_large_random_17',\n",
       " '/Users/alles/repos/iterated_number/sketches/6095-2fa6036a-9bf3-4ab0-a37f-50938523a5f8_owl_20_8_large_random_20',\n",
       " '/Users/alles/repos/iterated_number/sketches/4524-713015ff-0bab-43e4-96a8-3d8468270e9d_owl_20_14_large_random_20',\n",
       " '/Users/alles/repos/iterated_number/sketches/6002-83e30f60-27c5-4677-a5be-2dc4cef969e2_bear_15_8_large_regular_15',\n",
       " '/Users/alles/repos/iterated_number/sketches/6002-83e30f60-27c5-4677-a5be-2dc4cef969e2_owl_19_25_large_regular_19',\n",
       " '/Users/alles/repos/iterated_number/sketches/4524-713015ff-0bab-43e4-96a8-3d8468270e9d_owl_19_6_large_random_19',\n",
       " '/Users/alles/repos/iterated_number/sketches/6002-83e30f60-27c5-4677-a5be-2dc4cef969e2_deer_15_15_large_regular_15',\n",
       " '/Users/alles/repos/iterated_number/sketches/6002-83e30f60-27c5-4677-a5be-2dc4cef969e2_owl_15_5_large_regular_15',\n",
       " '/Users/alles/repos/iterated_number/sketches/6544-a49c2957-61d9-40e0-b7db-734f45322f6b_deer_16_2_large_regular_16',\n",
       " '/Users/alles/repos/iterated_number/sketches/6095-2fa6036a-9bf3-4ab0-a37f-50938523a5f8_owl_18_16_large_random_18',\n",
       " '/Users/alles/repos/iterated_number/sketches/6095-2fa6036a-9bf3-4ab0-a37f-50938523a5f8_owl_16_1_large_random_16',\n",
       " '/Users/alles/repos/iterated_number/sketches/7123-0bb91d31-fc54-4000-bd32-04fbd7370563_deer_17_2_large_random_17',\n",
       " '/Users/alles/repos/iterated_number/sketches/6544-a49c2957-61d9-40e0-b7db-734f45322f6b_deer_20_7_large_regular_20',\n",
       " '/Users/alles/repos/iterated_number/sketches/6544-a49c2957-61d9-40e0-b7db-734f45322f6b_bear_15_8_large_regular_15',\n",
       " '/Users/alles/repos/iterated_number/sketches/6544-a49c2957-61d9-40e0-b7db-734f45322f6b_owl_15_22_large_regular_15',\n",
       " '/Users/alles/repos/iterated_number/sketches/0997-30047f9c-96a1-4875-8da3-2ddd4ff649e7_deer_16_31_large_random_16',\n",
       " '/Users/alles/repos/iterated_number/sketches/7919-3b01f5d5-343e-4dd4-a3f3-da5504807930_bear_15_13_large_random_15',\n",
       " '/Users/alles/repos/iterated_number/sketches/0997-30047f9c-96a1-4875-8da3-2ddd4ff649e7_deer_16_15_large_random_16',\n",
       " '/Users/alles/repos/iterated_number/sketches/0997-30047f9c-96a1-4875-8da3-2ddd4ff649e7_bear_16_10_large_random_16',\n",
       " '/Users/alles/repos/iterated_number/sketches/4524-713015ff-0bab-43e4-96a8-3d8468270e9d_deer_16_16_large_random_16',\n",
       " '/Users/alles/repos/iterated_number/sketches/6002-83e30f60-27c5-4677-a5be-2dc4cef969e2_owl_20_23_large_regular_20',\n",
       " '/Users/alles/repos/iterated_number/sketches/6095-2fa6036a-9bf3-4ab0-a37f-50938523a5f8_deer_19_12_large_random_19',\n",
       " '/Users/alles/repos/iterated_number/sketches/2590-5c03c7de-2316-42ef-917e-75dcf4ea3d70_deer_20_9_large_random_20',\n",
       " '/Users/alles/repos/iterated_number/sketches/6002-83e30f60-27c5-4677-a5be-2dc4cef969e2_deer_18_12_large_regular_18',\n",
       " '/Users/alles/repos/iterated_number/sketches/6095-2fa6036a-9bf3-4ab0-a37f-50938523a5f8_bear_16_36_large_random_16',\n",
       " '/Users/alles/repos/iterated_number/sketches/6544-a49c2957-61d9-40e0-b7db-734f45322f6b_deer_16_24_large_regular_16',\n",
       " '/Users/alles/repos/iterated_number/sketches/4524-713015ff-0bab-43e4-96a8-3d8468270e9d_bear_15_18_large_random_15',\n",
       " '/Users/alles/repos/iterated_number/sketches/7919-3b01f5d5-343e-4dd4-a3f3-da5504807930_deer_15_35_large_random_15',\n",
       " '/Users/alles/repos/iterated_number/sketches/4524-713015ff-0bab-43e4-96a8-3d8468270e9d_owl_19_22_large_random_19',\n",
       " '/Users/alles/repos/iterated_number/sketches/6544-a49c2957-61d9-40e0-b7db-734f45322f6b_bear_20_15_large_regular_20',\n",
       " '/Users/alles/repos/iterated_number/sketches/7919-3b01f5d5-343e-4dd4-a3f3-da5504807930_owl_17_26_large_random_17',\n",
       " '/Users/alles/repos/iterated_number/sketches/6002-83e30f60-27c5-4677-a5be-2dc4cef969e2_bear_20_17_large_regular_20',\n",
       " '/Users/alles/repos/iterated_number/sketches/4524-713015ff-0bab-43e4-96a8-3d8468270e9d_deer_15_2_large_random_15',\n",
       " '/Users/alles/repos/iterated_number/sketches/6544-a49c2957-61d9-40e0-b7db-734f45322f6b_bear_19_26_large_regular_19',\n",
       " '/Users/alles/repos/iterated_number/sketches/4524-713015ff-0bab-43e4-96a8-3d8468270e9d_deer_19_13_large_random_19',\n",
       " '/Users/alles/repos/iterated_number/sketches/6095-2fa6036a-9bf3-4ab0-a37f-50938523a5f8_deer_15_6_large_random_15',\n",
       " '/Users/alles/repos/iterated_number/sketches/6095-2fa6036a-9bf3-4ab0-a37f-50938523a5f8_deer_16_17_large_random_16',\n",
       " '/Users/alles/repos/iterated_number/sketches/6095-2fa6036a-9bf3-4ab0-a37f-50938523a5f8_owl_16_19_large_random_16',\n",
       " '/Users/alles/repos/iterated_number/sketches/6544-a49c2957-61d9-40e0-b7db-734f45322f6b_bear_19_9_large_regular_19',\n",
       " '/Users/alles/repos/iterated_number/sketches/0997-30047f9c-96a1-4875-8da3-2ddd4ff649e7_owl_19_8_large_random_19',\n",
       " '/Users/alles/repos/iterated_number/sketches/0997-30047f9c-96a1-4875-8da3-2ddd4ff649e7_owl_15_27_large_random_15',\n",
       " '/Users/alles/repos/iterated_number/sketches/6544-a49c2957-61d9-40e0-b7db-734f45322f6b_bear_16_28_large_regular_16',\n",
       " '/Users/alles/repos/iterated_number/sketches/6544-a49c2957-61d9-40e0-b7db-734f45322f6b_bear_20_20_large_regular_20',\n",
       " '/Users/alles/repos/iterated_number/sketches/4524-713015ff-0bab-43e4-96a8-3d8468270e9d_deer_17_26_large_random_17',\n",
       " '/Users/alles/repos/iterated_number/sketches/6544-a49c2957-61d9-40e0-b7db-734f45322f6b_owl_18_21_large_regular_18',\n",
       " '/Users/alles/repos/iterated_number/sketches/6544-a49c2957-61d9-40e0-b7db-734f45322f6b_bear_18_18_large_regular_18',\n",
       " '/Users/alles/repos/iterated_number/sketches/7919-3b01f5d5-343e-4dd4-a3f3-da5504807930_bear_16_17_large_random_16',\n",
       " '/Users/alles/repos/iterated_number/sketches/7919-3b01f5d5-343e-4dd4-a3f3-da5504807930_deer_17_33_large_random_17',\n",
       " '/Users/alles/repos/iterated_number/sketches/7919-3b01f5d5-343e-4dd4-a3f3-da5504807930_owl_18_16_large_random_18',\n",
       " '/Users/alles/repos/iterated_number/sketches/6544-a49c2957-61d9-40e0-b7db-734f45322f6b_deer_19_14_large_regular_19',\n",
       " '/Users/alles/repos/iterated_number/sketches/6095-2fa6036a-9bf3-4ab0-a37f-50938523a5f8_deer_17_20_large_random_17',\n",
       " '/Users/alles/repos/iterated_number/sketches/6544-a49c2957-61d9-40e0-b7db-734f45322f6b_owl_18_5_large_regular_18',\n",
       " '/Users/alles/repos/iterated_number/sketches/0326-4c44297a-fe08-4e67-9575-7bfe54c67f58_bear_17_3_large_regular_17',\n",
       " '/Users/alles/repos/iterated_number/sketches/4524-713015ff-0bab-43e4-96a8-3d8468270e9d_bear_18_21_large_random_18',\n",
       " '/Users/alles/repos/iterated_number/sketches/6544-a49c2957-61d9-40e0-b7db-734f45322f6b_owl_15_13_large_regular_15',\n",
       " '/Users/alles/repos/iterated_number/sketches/7123-0bb91d31-fc54-4000-bd32-04fbd7370563_bear_15_4_large_random_15',\n",
       " '/Users/alles/repos/iterated_number/sketches/6002-83e30f60-27c5-4677-a5be-2dc4cef969e2_deer_17_18_large_regular_17',\n",
       " '/Users/alles/repos/iterated_number/sketches/6095-2fa6036a-9bf3-4ab0-a37f-50938523a5f8_bear_17_18_large_random_17',\n",
       " '/Users/alles/repos/iterated_number/sketches/4524-713015ff-0bab-43e4-96a8-3d8468270e9d_owl_17_17_large_random_17',\n",
       " '/Users/alles/repos/iterated_number/sketches/7919-3b01f5d5-343e-4dd4-a3f3-da5504807930_bear_19_28_large_random_19',\n",
       " '/Users/alles/repos/iterated_number/sketches/6002-83e30f60-27c5-4677-a5be-2dc4cef969e2_deer_16_28_large_regular_16',\n",
       " '/Users/alles/repos/iterated_number/sketches/7462-94159d36-e5ca-4119-9f71-810bf48f6c6b_owl_15_1_large_random_15',\n",
       " '/Users/alles/repos/iterated_number/sketches/0997-30047f9c-96a1-4875-8da3-2ddd4ff649e7_owl_20_4_large_random_20',\n",
       " '/Users/alles/repos/iterated_number/sketches/0997-30047f9c-96a1-4875-8da3-2ddd4ff649e7_bear_18_11_large_random_18',\n",
       " '/Users/alles/repos/iterated_number/sketches/6002-83e30f60-27c5-4677-a5be-2dc4cef969e2_bear_19_35_large_regular_19',\n",
       " '/Users/alles/repos/iterated_number/sketches/0997-30047f9c-96a1-4875-8da3-2ddd4ff649e7_owl_16_25_large_random_16',\n",
       " '/Users/alles/repos/iterated_number/sketches/7919-3b01f5d5-343e-4dd4-a3f3-da5504807930_owl_19_6_large_random_19',\n",
       " '/Users/alles/repos/iterated_number/sketches/6002-83e30f60-27c5-4677-a5be-2dc4cef969e2_owl_20_7_large_regular_20',\n",
       " '/Users/alles/repos/iterated_number/sketches/7919-3b01f5d5-343e-4dd4-a3f3-da5504807930_bear_16_19_large_random_16',\n",
       " '/Users/alles/repos/iterated_number/sketches/6002-83e30f60-27c5-4677-a5be-2dc4cef969e2_bear_16_24_large_regular_16',\n",
       " '/Users/alles/repos/iterated_number/sketches/6002-83e30f60-27c5-4677-a5be-2dc4cef969e2_owl_16_14_large_regular_16',\n",
       " '/Users/alles/repos/iterated_number/sketches/6002-83e30f60-27c5-4677-a5be-2dc4cef969e2_owl_18_6_large_regular_18',\n",
       " '/Users/alles/repos/iterated_number/sketches/0997-30047f9c-96a1-4875-8da3-2ddd4ff649e7_bear_17_21_large_random_17',\n",
       " '/Users/alles/repos/iterated_number/sketches/6544-a49c2957-61d9-40e0-b7db-734f45322f6b_owl_20_29_large_regular_20',\n",
       " '/Users/alles/repos/iterated_number/sketches/2590-5c03c7de-2316-42ef-917e-75dcf4ea3d70_owl_18_2_large_random_18',\n",
       " '/Users/alles/repos/iterated_number/sketches/7919-3b01f5d5-343e-4dd4-a3f3-da5504807930_owl_20_4_large_random_20',\n",
       " '/Users/alles/repos/iterated_number/sketches/0997-30047f9c-96a1-4875-8da3-2ddd4ff649e7_deer_17_5_large_random_17',\n",
       " '/Users/alles/repos/iterated_number/sketches/6002-83e30f60-27c5-4677-a5be-2dc4cef969e2_bear_15_26_large_regular_15',\n",
       " '/Users/alles/repos/iterated_number/sketches/7123-0bb91d31-fc54-4000-bd32-04fbd7370563_deer_19_7_large_random_19',\n",
       " '/Users/alles/repos/iterated_number/sketches/4524-713015ff-0bab-43e4-96a8-3d8468270e9d_deer_18_25_large_random_18',\n",
       " '/Users/alles/repos/iterated_number/sketches/4524-713015ff-0bab-43e4-96a8-3d8468270e9d_owl_15_9_large_random_15',\n",
       " '/Users/alles/repos/iterated_number/sketches/6002-83e30f60-27c5-4677-a5be-2dc4cef969e2_deer_20_30_large_regular_20',\n",
       " '/Users/alles/repos/iterated_number/sketches/0997-30047f9c-96a1-4875-8da3-2ddd4ff649e7_bear_16_23_large_random_16',\n",
       " '/Users/alles/repos/iterated_number/sketches/4524-713015ff-0bab-43e4-96a8-3d8468270e9d_bear_20_4_large_random_20',\n",
       " '/Users/alles/repos/iterated_number/sketches/6002-83e30f60-27c5-4677-a5be-2dc4cef969e2_deer_19_22_large_regular_19',\n",
       " '/Users/alles/repos/iterated_number/sketches/6544-a49c2957-61d9-40e0-b7db-734f45322f6b_owl_19_3_large_regular_19',\n",
       " '/Users/alles/repos/iterated_number/sketches/7919-3b01f5d5-343e-4dd4-a3f3-da5504807930_deer_16_30_large_random_16',\n",
       " '/Users/alles/repos/iterated_number/sketches/6002-83e30f60-27c5-4677-a5be-2dc4cef969e2_bear_19_3_large_regular_19',\n",
       " '/Users/alles/repos/iterated_number/sketches/6002-83e30f60-27c5-4677-a5be-2dc4cef969e2_owl_16_31_large_regular_16',\n",
       " '/Users/alles/repos/iterated_number/sketches/0326-4c44297a-fe08-4e67-9575-7bfe54c67f58_deer_19_1_large_regular_19',\n",
       " '/Users/alles/repos/iterated_number/sketches/0997-30047f9c-96a1-4875-8da3-2ddd4ff649e7_bear_20_22_large_random_20',\n",
       " '/Users/alles/repos/iterated_number/sketches/6544-a49c2957-61d9-40e0-b7db-734f45322f6b_deer_15_1_large_regular_15',\n",
       " '/Users/alles/repos/iterated_number/sketches/6095-2fa6036a-9bf3-4ab0-a37f-50938523a5f8_deer_18_24_large_random_18',\n",
       " '/Users/alles/repos/iterated_number/sketches/6095-2fa6036a-9bf3-4ab0-a37f-50938523a5f8_owl_19_4_large_random_19',\n",
       " '/Users/alles/repos/iterated_number/sketches/7919-3b01f5d5-343e-4dd4-a3f3-da5504807930_deer_16_2_large_random_16',\n",
       " '/Users/alles/repos/iterated_number/sketches/0326-4c44297a-fe08-4e67-9575-7bfe54c67f58_owl_20_6_large_regular_20',\n",
       " '/Users/alles/repos/iterated_number/sketches/6095-2fa6036a-9bf3-4ab0-a37f-50938523a5f8_bear_17_35_large_random_17',\n",
       " '/Users/alles/repos/iterated_number/sketches/7919-3b01f5d5-343e-4dd4-a3f3-da5504807930_deer_19_9_large_random_19',\n",
       " '/Users/alles/repos/iterated_number/sketches/6002-83e30f60-27c5-4677-a5be-2dc4cef969e2_deer_17_19_large_regular_17',\n",
       " '/Users/alles/repos/iterated_number/sketches/7919-3b01f5d5-343e-4dd4-a3f3-da5504807930_owl_15_29_large_random_15',\n",
       " '/Users/alles/repos/iterated_number/sketches/7919-3b01f5d5-343e-4dd4-a3f3-da5504807930_deer_15_7_large_random_15',\n",
       " '/Users/alles/repos/iterated_number/sketches/2590-5c03c7de-2316-42ef-917e-75dcf4ea3d70_bear_16_10_large_random_16',\n",
       " '/Users/alles/repos/iterated_number/sketches/4524-713015ff-0bab-43e4-96a8-3d8468270e9d_bear_19_10_large_random_19',\n",
       " '/Users/alles/repos/iterated_number/sketches/5033-b03d2fd9-e806-4b48-90b4-104526272179_bear_15_1_large_random_15',\n",
       " '/Users/alles/repos/iterated_number/sketches/4524-713015ff-0bab-43e4-96a8-3d8468270e9d_bear_15_23_large_random_15',\n",
       " '/Users/alles/repos/iterated_number/sketches/7919-3b01f5d5-343e-4dd4-a3f3-da5504807930_bear_20_22_large_random_20',\n",
       " '/Users/alles/repos/iterated_number/sketches/6095-2fa6036a-9bf3-4ab0-a37f-50938523a5f8_owl_17_27_large_random_17']"
      ]
     },
     "execution_count": 5,
     "metadata": {},
     "output_type": "execute_result"
    }
   ],
   "source": [
    "sketch_paths"
   ]
  },
  {
   "cell_type": "code",
   "execution_count": 7,
   "metadata": {},
   "outputs": [],
   "source": [
    "## TODO: create a dictionary/dataframe that generates ..."
   ]
  },
  {
   "cell_type": "code",
   "execution_count": 7,
   "metadata": {},
   "outputs": [
    {
     "name": "stdout",
     "output_type": "stream",
     "text": [
      "['owl', '15', '16', 'large', 'random', '15']\n"
     ]
    },
    {
     "data": {
      "image/png": "[encoded data removed]",
      "text/plain": [
       "<PIL.PngImagePlugin.PngImageFile image mode=RGBA size=300x300 at 0x7FD3B34CA2E8>"
      ]
     },
     "execution_count": 7,
     "metadata": {},
     "output_type": "execute_result"
    }
   ],
   "source": [
    "sampleNum = 5\n",
    "## visualize sample image\n",
    "this_sketch_path = sketch_paths[sampleNum]\n",
    "cardinality = int(sketch_paths[sampleNum].split('/')[-1].split('_')[2])\n",
    "im = Image.open(sketch_paths[sampleNum])\n",
    "print(sketch_paths[sampleNum].split('/')[-1].split('_')[1:])\n",
    "im"
   ]
  },
  {
   "cell_type": "markdown",
   "metadata": {},
   "source": [
    "### very naive clustering method\n",
    "* Convert image to numPy array\n",
    "* Identify x,y coordinates of above-threshold pixels\n",
    "* Apply k-means clustering (this is the \"naive\" part)\n",
    "* Create reconstruction of cluster-segmented image\n",
    "* Validate the segmentation results (via visual inspection for now)\n",
    "* Extract centroid of each cluster in sketch\n",
    "* Extract centroid of each cluster in stim\n",
    "* Find 1-1 correspondence between centroids in sketch & stim\n",
    "* Compute Euclidean distance between corresponding marks"
   ]
  },
  {
   "cell_type": "code",
   "execution_count": 8,
   "metadata": {},
   "outputs": [],
   "source": [
    "## convert image to numPy array\n",
    "im_flattened = np.array(im).mean(2)"
   ]
  },
  {
   "cell_type": "code",
   "execution_count": 9,
   "metadata": {},
   "outputs": [],
   "source": [
    "## identify x,y coordinates of above-threshold pixels\n",
    "pix_thresh = 10 #(this is a somewhat arbitrary choice of hyperparam)\n",
    "coords = np.array(np.where(im_flattened>pix_thresh)).transpose()"
   ]
  },
  {
   "cell_type": "code",
   "execution_count": 10,
   "metadata": {},
   "outputs": [],
   "source": [
    "## apply k-means clustering\n",
    "from sklearn.cluster import KMeans\n",
    "X = coords\n",
    "num_clusters = cardinality\n",
    "kmeans = KMeans(num_clusters, random_state=0).fit(X)\n",
    "cluster_inds = kmeans.labels_ ## get cluster indices\n",
    "assert len(cluster_inds)==len(coords) ## sanity check"
   ]
  },
  {
   "cell_type": "code",
   "execution_count": 11,
   "metadata": {},
   "outputs": [],
   "source": [
    "## reconstruction of cluster-segmented image (initialize)\n",
    "recon = np.zeros(im_flattened.shape) \n",
    "\n",
    "## create segmentation mask (where each pixel value is assigned the cluster index)\n",
    "for ind, coord in enumerate(coords):\n",
    "    recon[tuple(coord)]=cluster_inds[ind]+1 ## assign cluster index to that coord\n",
    "    \n",
    "assert len(np.unique(recon))==num_clusters+1 ## sanity check  \n",
    "\n",
    "## construct rgb version of recon array\n",
    "recon_rgb = np.dstack([recon]*3)"
   ]
  },
  {
   "cell_type": "code",
   "execution_count": 12,
   "metadata": {},
   "outputs": [
    {
     "name": "stderr",
     "output_type": "stream",
     "text": [
      "Clipping input data to the valid range for imshow with RGB data ([0..1] for floats or [0..255] for integers).\n"
     ]
    },
    {
     "data": {
      "text/plain": [
       "<matplotlib.image.AxesImage at 0x7fd3b8e24860>"
      ]
     },
     "execution_count": 12,
     "metadata": {},
     "output_type": "execute_result"
    },
    {
     "data": {
      "image/png": "[encoded data removed]",
      "text/plain": [
       "<Figure size 432x288 with 1 Axes>"
      ]
     },
     "metadata": {},
     "output_type": "display_data"
    }
   ],
   "source": [
    "plt.imshow(recon_rgb*50)"
   ]
  },
  {
   "cell_type": "code",
   "execution_count": 13,
   "metadata": {},
   "outputs": [],
   "source": [
    "## painting in coords with viridis colors\n",
    "from matplotlib import cm\n",
    "viridis = cm.get_cmap('viridis', num_clusters) ## color map\n",
    "for this_cluster_ind in np.unique(cluster_inds):\n",
    "    ## get matching coords\n",
    "    row = np.where(recon_rgb==this_cluster_ind+1)[0] ## add one so that 1-indexed cluster inds match on recon_rgb\n",
    "    col = np.where(recon_rgb==this_cluster_ind+1)[1]\n",
    "    key_coords = list(set(zip(row, col)))\n",
    "    \n",
    "    ## paint in coords\n",
    "    for coord in key_coords:\n",
    "        recon_rgb[coord[0], coord[1], 0] = np.floor(viridis.colors[this_cluster_ind][0]*255) ## red channel\n",
    "        recon_rgb[coord[0], coord[1], 1] = np.floor(viridis.colors[this_cluster_ind][1]*255) ## green channel\n",
    "        recon_rgb[coord[0], coord[1], 2] = np.floor(viridis.colors[this_cluster_ind][2]*255) ## blue channel"
   ]
  },
  {
   "cell_type": "code",
   "execution_count": 14,
   "metadata": {},
   "outputs": [
    {
     "data": {
      "image/png": "[encoded data removed]",
      "text/plain": [
       "<PIL.Image.Image image mode=RGB size=300x300 at 0x7FD3B92A57F0>"
      ]
     },
     "execution_count": 14,
     "metadata": {},
     "output_type": "execute_result"
    }
   ],
   "source": [
    "## visualize clusters\n",
    "Image.fromarray(np.uint8(recon_rgb))"
   ]
  },
  {
   "cell_type": "code",
   "execution_count": 66,
   "metadata": {},
   "outputs": [
    {
     "data": {
      "text/plain": [
       "array([[ 60, 127],\n",
       "       [ 60, 128],\n",
       "       [ 60, 129],\n",
       "       ...,\n",
       "       [156, 157],\n",
       "       [156, 158],\n",
       "       [156, 159]])"
      ]
     },
     "execution_count": 66,
     "metadata": {},
     "output_type": "execute_result"
    }
   ],
   "source": [
    "len(np.where(im_flattened > 1)[0])\n",
    "coords"
   ]
  },
  {
   "cell_type": "markdown",
   "metadata": {},
   "source": [
    "### next clustering method\n",
    "* Convert image to numPy array\n",
    "* Identify x,y coordinates of above-threshold pixels\n",
    "* \n",
    "* Create reconstruction of cluster-segmented image\n",
    "* Validate the segmentation results (via visual inspection for now)\n",
    "* Extract centroid of each cluster in sketch\n",
    "* Extract centroid of each cluster in stim\n",
    "* Find 1-1 correspondence between centroids in sketch & stim\n",
    "* Compute Euclidean distance between corresponding marks"
   ]
  },
  {
   "cell_type": "code",
   "execution_count": 15,
   "metadata": {},
   "outputs": [],
   "source": [
    "## convert image to numPy array\n",
    "im_flattened = np.array(im).mean(2)\n",
    "\n",
    "## identify x,y coordinates of above-threshold pixels\n",
    "pix_thresh = 10 #(this is a somewhat arbitrary choice of hyperparam)\n",
    "coords = np.array(np.where(im_flattened>pix_thresh)).transpose()"
   ]
  },
  {
   "cell_type": "code",
   "execution_count": 16,
   "metadata": {},
   "outputs": [],
   "source": [
    "# method 1 (not good)\n",
    "\n",
    "continuousGroups = {}\n",
    "currCoord = coords[0]\n",
    "currGroup = []\n",
    "groupInd = 0\n",
    "continuous = True\n",
    "\n",
    "for i,coord in enumerate(coords):\n",
    "    \n",
    "    diff = coord - currCoord\n",
    "    continuous = np.sqrt(diff[0]**2 + diff[1]**2) < 80 # are we less than a pixel away?    \n",
    "    currCoord = coord\n",
    "        \n",
    "    if continuous or (len(currGroup) == 0):\n",
    "        currGroup.append(coord)\n",
    "    else:\n",
    "        continuousGroups[groupInd] = np.array(currGroup)\n",
    "        currGroup = []\n",
    "        groupInd += 1"
   ]
  },
  {
   "cell_type": "code",
   "execution_count": 65,
   "metadata": {},
   "outputs": [
    {
     "data": {
      "text/plain": [
       "array([ 60, 127])"
      ]
     },
     "execution_count": 65,
     "metadata": {},
     "output_type": "execute_result"
    }
   ],
   "source": [
    "coords[0]"
   ]
  },
  {
   "cell_type": "code",
   "execution_count": 64,
   "metadata": {},
   "outputs": [
    {
     "data": {
      "text/plain": [
       "array([[ 60, 127],\n",
       "       [ 60, 128],\n",
       "       [ 60, 129],\n",
       "       ...,\n",
       "       [156, 157],\n",
       "       [156, 158],\n",
       "       [156, 159]])"
      ]
     },
     "execution_count": 64,
     "metadata": {},
     "output_type": "execute_result"
    }
   ],
   "source": [
    "# method 3\n",
    "continuousGroups = {}\n",
    "currCoord = coords[0]\n",
    "currGroup = []\n",
    "groupInd = 0\n",
    "continuous = True\n",
    "\n",
    "for i,coord in enumerate(coords):\n",
    "    \n",
    "    diff = coord - currCoord\n",
    "    continuous = np.sqrt(diff[0]**2 + diff[1]**2) < 80 # are we less than a pixel away?    \n",
    "    currCoord = coord\n",
    "        \n",
    "    if continuous or (len(currGroup) == 0):\n",
    "        currGroup.append(coord)\n",
    "    else:\n",
    "        continuousGroups[groupInd] = np.array(currGroup)\n",
    "        currGroup = []\n",
    "        groupInd += 1"
   ]
  },
  {
   "cell_type": "code",
   "execution_count": null,
   "metadata": {},
   "outputs": [],
   "source": []
  },
  {
   "cell_type": "code",
   "execution_count": 19,
   "metadata": {},
   "outputs": [
    {
     "ename": "KeyError",
     "evalue": "48",
     "output_type": "error",
     "traceback": [
      "\u001b[0;31m--------------------\u001b[0m",
      "\u001b[0;31mKeyError\u001b[0mTraceback (most recent call last)",
      "\u001b[0;32m<ipython-input-19-1469f9b9e4b0>\u001b[0m in \u001b[0;36m<module>\u001b[0;34m()\u001b[0m\n\u001b[1;32m     21\u001b[0m \u001b[0;34m\u001b[0m\u001b[0m\n\u001b[1;32m     22\u001b[0m     \u001b[0;32mif\u001b[0m \u001b[0mdist\u001b[0m \u001b[0;34m<\u001b[0m \u001b[0;36m1.5\u001b[0m\u001b[0;34m:\u001b[0m\u001b[0;34m\u001b[0m\u001b[0;34m\u001b[0m\u001b[0m\n\u001b[0;32m---> 23\u001b[0;31m         \u001b[0mcandidateCluster\u001b[0m \u001b[0;34m=\u001b[0m \u001b[0mcoordDict\u001b[0m\u001b[0;34m[\u001b[0m\u001b[0mnearest\u001b[0m\u001b[0;34m]\u001b[0m \u001b[0;31m# what cluster are we considering adding it to? That of the nearest pixel\u001b[0m\u001b[0;34m\u001b[0m\u001b[0;34m\u001b[0m\u001b[0m\n\u001b[0m\u001b[1;32m     24\u001b[0m         \u001b[0mcoordDict\u001b[0m\u001b[0;34m[\u001b[0m\u001b[0mi\u001b[0m\u001b[0;34m]\u001b[0m \u001b[0;34m=\u001b[0m \u001b[0mcandidateCluster\u001b[0m\u001b[0;34m\u001b[0m\u001b[0;34m\u001b[0m\u001b[0m\n\u001b[1;32m     25\u001b[0m \u001b[0;34m\u001b[0m\u001b[0m\n",
      "\u001b[0;31mKeyError\u001b[0m: 48"
     ]
    }
   ],
   "source": [
    "# method 2 (seems better, still need to have it refer to 'all coords but this one' rather than 'previous')\n",
    "\n",
    "\n",
    "previousCoords = []\n",
    "coordDict = {0:0} # key is index in previousCoords; value is candidate cluster\n",
    "ClusterIDs = [0]\n",
    "nearest,dist = 0,0\n",
    "\n",
    "for i,coord in enumerate(coords):\n",
    "#     if len(previousCoords) > 0:\n",
    "#         nearest = np.argmin(np.sum(np.abs(coord - np.array(previousCoords)),axis=1)) # which pixel is closest?\n",
    "#         dist = np.min(np.sum(np.abs(coord - np.array(previousCoords)),axis=1)) # how far is that pixel?\n",
    "        \n",
    "        \n",
    "    coords_del = np.delete(coords, i, 0)\n",
    "    nearest = np.argmin(np.sum(np.abs(coord - coords_del),axis=1)) # which pixel is closest?\n",
    "    dist = np.min(np.sum(np.abs(coord - coords_del),axis=1)) # how far is that pixel?\n",
    "    \n",
    "     \n",
    "#     previousCoords.append(coord) # add current coord to list of what we've gone through    \n",
    "    \n",
    "    if dist < 1.5:\n",
    "        candidateCluster = coordDict[nearest] # what cluster are we considering adding it to? That of the nearest pixel\n",
    "        coordDict[i] = candidateCluster\n",
    "        \n",
    "    else:\n",
    "        candidateCluster = np.max(ClusterIDs) + 1 # what cluster are we considering\n",
    "        coordDict[i] = np.max(ClusterIDs) + 1\n",
    "        ClusterIDs.append(np.max(ClusterIDs) + 1)"
   ]
  },
  {
   "cell_type": "code",
   "execution_count": 20,
   "metadata": {},
   "outputs": [
    {
     "data": {
      "text/plain": [
       "True"
      ]
     },
     "execution_count": 20,
     "metadata": {},
     "output_type": "execute_result"
    }
   ],
   "source": [
    "clusterInds = list(coordDict.values())\n",
    "len(np.unique(clusterInds))\n",
    "np.min(np.sum(np.abs(coord - coords),axis=1))\n",
    "\n",
    "15 in coordDict.keys()"
   ]
  },
  {
   "cell_type": "code",
   "execution_count": 21,
   "metadata": {},
   "outputs": [
    {
     "ename": "IndexError",
     "evalue": "list index out of range",
     "output_type": "error",
     "traceback": [
      "\u001b[0;31m--------------------\u001b[0m",
      "\u001b[0;31mIndexError\u001b[0mTraceback (most recent call last)",
      "\u001b[0;32m<ipython-input-21-02f466c72c96>\u001b[0m in \u001b[0;36m<module>\u001b[0;34m()\u001b[0m\n\u001b[1;32m      4\u001b[0m \u001b[0;31m## create segmentation mask (where each pixel value is assigned the cluster index)\u001b[0m\u001b[0;34m\u001b[0m\u001b[0;34m\u001b[0m\u001b[0;34m\u001b[0m\u001b[0m\n\u001b[1;32m      5\u001b[0m \u001b[0;32mfor\u001b[0m \u001b[0mind\u001b[0m\u001b[0;34m,\u001b[0m \u001b[0mcoord\u001b[0m \u001b[0;32min\u001b[0m \u001b[0menumerate\u001b[0m\u001b[0;34m(\u001b[0m\u001b[0mcoords\u001b[0m\u001b[0;34m)\u001b[0m\u001b[0;34m:\u001b[0m\u001b[0;34m\u001b[0m\u001b[0;34m\u001b[0m\u001b[0m\n\u001b[0;32m----> 6\u001b[0;31m     \u001b[0mrecon\u001b[0m\u001b[0;34m[\u001b[0m\u001b[0mtuple\u001b[0m\u001b[0;34m(\u001b[0m\u001b[0mcoord\u001b[0m\u001b[0;34m)\u001b[0m\u001b[0;34m]\u001b[0m\u001b[0;34m=\u001b[0m\u001b[0mclusterInds\u001b[0m\u001b[0;34m[\u001b[0m\u001b[0mind\u001b[0m\u001b[0;34m]\u001b[0m\u001b[0;34m+\u001b[0m\u001b[0;36m1\u001b[0m \u001b[0;31m## assign cluster index to that coord\u001b[0m\u001b[0;34m\u001b[0m\u001b[0;34m\u001b[0m\u001b[0m\n\u001b[0m\u001b[1;32m      7\u001b[0m \u001b[0;34m\u001b[0m\u001b[0m\n\u001b[1;32m      8\u001b[0m \u001b[0;32massert\u001b[0m \u001b[0mlen\u001b[0m\u001b[0;34m(\u001b[0m\u001b[0mnp\u001b[0m\u001b[0;34m.\u001b[0m\u001b[0munique\u001b[0m\u001b[0;34m(\u001b[0m\u001b[0mrecon\u001b[0m\u001b[0;34m)\u001b[0m\u001b[0;34m)\u001b[0m\u001b[0;34m==\u001b[0m\u001b[0mlen\u001b[0m\u001b[0;34m(\u001b[0m\u001b[0mnp\u001b[0m\u001b[0;34m.\u001b[0m\u001b[0munique\u001b[0m\u001b[0;34m(\u001b[0m\u001b[0mclusterInds\u001b[0m\u001b[0;34m)\u001b[0m\u001b[0;34m)\u001b[0m\u001b[0;34m+\u001b[0m\u001b[0;36m1\u001b[0m \u001b[0;31m## sanity check\u001b[0m\u001b[0;34m\u001b[0m\u001b[0;34m\u001b[0m\u001b[0m\n",
      "\u001b[0;31mIndexError\u001b[0m: list index out of range"
     ]
    }
   ],
   "source": [
    "## reconstruction of cluster-segmented image (initialize)\n",
    "recon = np.zeros(im_flattened.shape) \n",
    "\n",
    "## create segmentation mask (where each pixel value is assigned the cluster index)\n",
    "for ind, coord in enumerate(coords):\n",
    "    recon[tuple(coord)]=clusterInds[ind]+1 ## assign cluster index to that coord\n",
    "    \n",
    "assert len(np.unique(recon))==len(np.unique(clusterInds))+1 ## sanity check  \n",
    "\n",
    "## construct rgb version of recon array\n",
    "recon_rgb = np.dstack([recon]*3)\n",
    "\n",
    "plt.imshow(recon_rgb*50)\n",
    "\n",
    "## painting in coords with viridis colors\n",
    "from matplotlib import cm\n",
    "viridis = cm.get_cmap('viridis', len(np.unique(clusterInds))) ## color map\n",
    "for this_cluster_ind in np.unique(clusterInds):\n",
    "    ## get matching coords\n",
    "    row = np.where(recon_rgb==this_cluster_ind+1)[0] ## add one so that 1-indexed cluster inds match on recon_rgb\n",
    "    col = np.where(recon_rgb==this_cluster_ind+1)[1]\n",
    "    key_coords = list(set(zip(row, col)))\n",
    "    \n",
    "    ## paint in coords\n",
    "    for coord in key_coords:\n",
    "        recon_rgb[coord[0], coord[1], 0] = np.floor(viridis.colors[this_cluster_ind][0]*255) ## red channel\n",
    "        recon_rgb[coord[0], coord[1], 1] = np.floor(viridis.colors[this_cluster_ind][1]*255) ## green channel\n",
    "        recon_rgb[coord[0], coord[1], 2] = np.floor(viridis.colors[this_cluster_ind][2]*255) ## blue channel\n",
    "\n",
    "## visualize clusters\n",
    "Image.fromarray(np.uint8(recon_rgb))"
   ]
  },
  {
   "cell_type": "code",
   "execution_count": null,
   "metadata": {},
   "outputs": [],
   "source": []
  },
  {
   "cell_type": "code",
   "execution_count": null,
   "metadata": {},
   "outputs": [],
   "source": []
  },
  {
   "cell_type": "code",
   "execution_count": null,
   "metadata": {},
   "outputs": [],
   "source": []
  },
  {
   "cell_type": "code",
   "execution_count": null,
   "metadata": {},
   "outputs": [],
   "source": []
  },
  {
   "cell_type": "code",
   "execution_count": null,
   "metadata": {},
   "outputs": [],
   "source": []
  },
  {
   "cell_type": "code",
   "execution_count": null,
   "metadata": {},
   "outputs": [],
   "source": []
  }
 ],
 "metadata": {
  "kernelspec": {
   "display_name": "Python 3",
   "language": "python",
   "name": "python3"
  },
  "language_info": {
   "codemirror_mode": {
    "name": "ipython",
    "version": 3
   },
   "file_extension": ".py",
   "mimetype": "text/x-python",
   "name": "python",
   "nbconvert_exporter": "python",
   "pygments_lexer": "ipython3",
   "version": "3.7.2"
  }
 },
 "nbformat": 4,
 "nbformat_minor": 4
}
