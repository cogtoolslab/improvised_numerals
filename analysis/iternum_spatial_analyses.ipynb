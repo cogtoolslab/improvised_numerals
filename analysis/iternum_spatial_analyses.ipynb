{
 "cells": [
  {
   "cell_type": "code",
   "execution_count": 1,
   "metadata": {},
   "outputs": [],
   "source": [
    "import os, sys\n",
    "\n",
    "import pymongo as pm\n",
    "import numpy as np\n",
    "import scipy.stats as stats\n",
    "import pandas as pd\n",
    "import json\n",
    "import math\n",
    "\n",
    "import matplotlib\n",
    "from matplotlib import pylab, mlab, pyplot\n",
    "import matplotlib.patches as mpatches\n",
    "%matplotlib inline\n",
    "from IPython.core.pylabtools import figsize, getfigs\n",
    "plt = pyplot\n",
    "import seaborn as sns\n",
    "sns.set_context('talk')\n",
    "sns.set_style('white')\n",
    "from matplotlib import rcParams\n",
    "from PIL import Image\n",
    "\n",
    "from IPython.display import clear_output\n",
    "import importlib\n",
    "\n",
    "import warnings\n",
    "warnings.filterwarnings(\"ignore\", category=DeprecationWarning)\n",
    "warnings.filterwarnings(\"ignore\", message=\"numpy.dtype size changed\")\n",
    "warnings.filterwarnings(\"ignore\", message=\"numpy.ufunc size changed\")\n",
    "warnings.filterwarnings(\"ignore\")\n"
   ]
  },
  {
   "cell_type": "markdown",
   "metadata": {},
   "source": [
    "### Purpose of this notebook"
   ]
  },
  {
   "cell_type": "markdown",
   "metadata": {},
   "source": [
    "The purpose of this notebook is to understand how much information each sketch produced in the `iterated_number` experiment contained information about the spatial layout of objects in the target array."
   ]
  },
  {
   "cell_type": "markdown",
   "metadata": {},
   "source": [
    "### set up file paths"
   ]
  },
  {
   "cell_type": "code",
   "execution_count": 2,
   "metadata": {},
   "outputs": [
    {
     "name": "stdout",
     "output_type": "stream",
     "text": [
      "Something went wrong while trying to import bezier and svg modules, sorry!\n"
     ]
    }
   ],
   "source": [
    "# directory & file hierarchy\n",
    "proj_dir = os.path.abspath('..')\n",
    "analysis_dir = os.getcwd()\n",
    "results_dir = os.path.join(proj_dir,'results')\n",
    "plot_dir = os.path.join(results_dir,'plots')\n",
    "csv_dir = os.path.join(results_dir,'csv')\n",
    "exp_dir = os.path.abspath(os.path.join(proj_dir,'experiments'))\n",
    "stim_dir = os.path.abspath(os.path.join(proj_dir,'stimuli'))\n",
    "sketch_dir = os.path.abspath(os.path.join(proj_dir,'sketches'))\n",
    "datastructures_dir = os.path.join(analysis_dir,'datastructures')\n",
    "\n",
    "## add helpers to python path\n",
    "if os.path.join(proj_dir,'utils') not in sys.path:\n",
    "    sys.path.append(os.path.join(proj_dir,'utils'))   \n",
    "\n",
    "def make_dir_if_not_exists(dir_name):   \n",
    "    if not os.path.exists(dir_name):\n",
    "        os.makedirs(dir_name)\n",
    "    return dir_name\n",
    "\n",
    "## create directories that don't already exist        \n",
    "result = [make_dir_if_not_exists(x) for x in [results_dir,plot_dir,csv_dir,datastructures_dir]]\n",
    "\n",
    "## add utils to python path\n",
    "import sys\n",
    "if os.path.join(proj_dir,'utils') not in sys.path:\n",
    "    sys.path.append(os.path.join(proj_dir,'utils'))\n",
    "import utils"
   ]
  },
  {
   "cell_type": "markdown",
   "metadata": {},
   "source": [
    "### Load in example data"
   ]
  },
  {
   "cell_type": "code",
   "execution_count": 3,
   "metadata": {},
   "outputs": [],
   "source": [
    "path_to_sketches = sketch_dir\n",
    "sketch_paths = [os.path.join(path_to_sketches,i) for i in os.listdir(path_to_sketches)]\n",
    "\n",
    "path_to_stims = stim_dir\n",
    "stim_paths = [os.path.join(stim_dir, 'stims', i) for i in os.listdir(os.path.join(stim_dir, 'stims'))]\n",
    "stim_paths = [i for i in stim_paths if i.split('/')[-1] != '.DS_Store'] ## deborkify"
   ]
  },
  {
   "cell_type": "code",
   "execution_count": 4,
   "metadata": {},
   "outputs": [
    {
     "data": {
      "text/plain": [
       "['/Users/judithfan/iterated_number/stimuli/stims/rabbit_6_065.png',\n",
       " '/Users/judithfan/iterated_number/stimuli/stims/owl_8_078.png',\n",
       " '/Users/judithfan/iterated_number/stimuli/stims/rabbit_4_023.png']"
      ]
     },
     "execution_count": 4,
     "metadata": {},
     "output_type": "execute_result"
    }
   ],
   "source": [
    "stim_paths"
   ]
  },
  {
   "cell_type": "code",
   "execution_count": 5,
   "metadata": {},
   "outputs": [
    {
     "data": {
      "text/plain": [
       "['/Users/judithfan/iterated_number/sketches/0532-734dfb32-c173-48df-bfa2-0decb357302b_rabbit_6_7_number_065.png',\n",
       " '/Users/judithfan/iterated_number/sketches/1034-bd869e68-6b1e-41b8-b50b-98b16f6692a6_rabbit_4_13_number_023.png',\n",
       " '/Users/judithfan/iterated_number/sketches/0532-734dfb32-c173-48df-bfa2-0decb357302b_owl_8_2_number_078.png']"
      ]
     },
     "execution_count": 5,
     "metadata": {},
     "output_type": "execute_result"
    }
   ],
   "source": [
    "sketch_paths"
   ]
  },
  {
   "cell_type": "code",
   "execution_count": 6,
   "metadata": {},
   "outputs": [],
   "source": [
    "## TODO: create a dictionary/dataframe that generates ..."
   ]
  },
  {
   "cell_type": "code",
   "execution_count": 7,
   "metadata": {},
   "outputs": [
    {
     "data": {
      "image/png": "[encoded data removed]",
      "text/plain": [
       "<PIL.PngImagePlugin.PngImageFile image mode=RGBA size=300x300 at 0x7F92A8BC9A00>"
      ]
     },
     "execution_count": 7,
     "metadata": {},
     "output_type": "execute_result"
    }
   ],
   "source": [
    "## visualize sample image\n",
    "this_sketch_path = sketch_paths[1]\n",
    "cardinality = int(sketch_paths[1].split('/')[-1].split('_')[2])\n",
    "im = Image.open(sketch_paths[1])\n",
    "im"
   ]
  },
  {
   "cell_type": "markdown",
   "metadata": {},
   "source": [
    "### very naive clustering method\n",
    "* Convert image to numPy array\n",
    "* Identify x,y coordinates of above-threshold pixels\n",
    "* Apply k-means clustering (this is the \"naive\" part)\n",
    "* Create reconstruction of cluster-segmented image\n",
    "* Validate the segmentation results (via visual inspection for now)\n",
    "* Extract centroid of each cluster in sketch\n",
    "* Extract centroid of each cluster in stim\n",
    "* Find 1-1 correspondence between centroids in sketch & stim\n",
    "* Compute Euclidean distance between corresponding marks"
   ]
  },
  {
   "cell_type": "code",
   "execution_count": 8,
   "metadata": {},
   "outputs": [],
   "source": [
    "## convert image to numPy array\n",
    "im_flattened = np.array(im).mean(2)"
   ]
  },
  {
   "cell_type": "code",
   "execution_count": 9,
   "metadata": {},
   "outputs": [],
   "source": [
    "## identify x,y coordinates of above-threshold pixels\n",
    "pix_thresh = 10 #(this is a somewhat arbitrary choice of hyperparam)\n",
    "coords = np.array(np.where(im_flattened>pix_thresh)).transpose()"
   ]
  },
  {
   "cell_type": "code",
   "execution_count": 10,
   "metadata": {},
   "outputs": [],
   "source": [
    "## apply k-means clustering\n",
    "from sklearn.cluster import KMeans\n",
    "X = coords\n",
    "num_clusters = cardinality\n",
    "kmeans = KMeans(num_clusters, random_state=0).fit(X)\n",
    "cluster_inds = kmeans.labels_ ## get cluster indices\n",
    "assert len(cluster_inds)==len(coords) ## sanity check"
   ]
  },
  {
   "cell_type": "code",
   "execution_count": 11,
   "metadata": {},
   "outputs": [],
   "source": [
    "## reconstruction of cluster-segmented image (initialize)\n",
    "recon = np.zeros(im_flattened.shape) \n",
    "\n",
    "## create segmentation mask (where each pixel value is assigned the cluster index)\n",
    "for ind, coord in enumerate(coords):\n",
    "    recon[tuple(coord)]=cluster_inds[ind]+1 ## assign cluster index to that coord\n",
    "    \n",
    "assert len(np.unique(recon))==num_clusters+1 ## sanity check  \n",
    "\n",
    "## construct rgb version of recon array\n",
    "recon_rgb = np.dstack([recon]*3)"
   ]
  },
  {
   "cell_type": "code",
   "execution_count": 12,
   "metadata": {},
   "outputs": [
    {
     "name": "stderr",
     "output_type": "stream",
     "text": [
      "Clipping input data to the valid range for imshow with RGB data ([0..1] for floats or [0..255] for integers).\n"
     ]
    },
    {
     "data": {
      "text/plain": [
       "<matplotlib.image.AxesImage at 0x7f92586b6a90>"
      ]
     },
     "execution_count": 12,
     "metadata": {},
     "output_type": "execute_result"
    },
    {
     "data": {
      "image/png": "[encoded data removed]",
      "text/plain": [
       "<Figure size 432x288 with 1 Axes>"
      ]
     },
     "metadata": {},
     "output_type": "display_data"
    }
   ],
   "source": [
    "plt.imshow(recon_rgb*50)"
   ]
  },
  {
   "cell_type": "code",
   "execution_count": 13,
   "metadata": {},
   "outputs": [],
   "source": [
    "## painting in coords with viridis colors\n",
    "from matplotlib import cm\n",
    "viridis = cm.get_cmap('viridis', num_clusters) ## color map\n",
    "for this_cluster_ind in np.unique(cluster_inds):\n",
    "    ## get matching coords\n",
    "    row = np.where(recon_rgb==this_cluster_ind+1)[0] ## add one so that 1-indexed cluster inds match on recon_rgb\n",
    "    col = np.where(recon_rgb==this_cluster_ind+1)[1]\n",
    "    key_coords = list(set(zip(row, col)))\n",
    "    \n",
    "    ## paint in coords\n",
    "    for coord in key_coords:\n",
    "        recon_rgb[coord[0], coord[1], 0] = np.floor(viridis.colors[this_cluster_ind][0]*255) ## red channel\n",
    "        recon_rgb[coord[0], coord[1], 1] = np.floor(viridis.colors[this_cluster_ind][1]*255) ## green channel\n",
    "        recon_rgb[coord[0], coord[1], 2] = np.floor(viridis.colors[this_cluster_ind][2]*255) ## blue channel"
   ]
  },
  {
   "cell_type": "code",
   "execution_count": 14,
   "metadata": {},
   "outputs": [
    {
     "data": {
      "image/png": "[encoded data removed]",
      "text/plain": [
       "<PIL.Image.Image image mode=RGB size=300x300 at 0x7F92586B6E50>"
      ]
     },
     "execution_count": 14,
     "metadata": {},
     "output_type": "execute_result"
    }
   ],
   "source": [
    "## visualize clusters\n",
    "Image.fromarray(np.uint8(recon_rgb))"
   ]
  },
  {
   "cell_type": "code",
   "execution_count": null,
   "metadata": {},
   "outputs": [],
   "source": []
  },
  {
   "cell_type": "code",
   "execution_count": null,
   "metadata": {},
   "outputs": [],
   "source": []
  }
 ],
 "metadata": {
  "kernelspec": {
   "display_name": "Python 3",
   "language": "python",
   "name": "python3"
  },
  "language_info": {
   "codemirror_mode": {
    "name": "ipython",
    "version": 3
   },
   "file_extension": ".py",
   "mimetype": "text/x-python",
   "name": "python",
   "nbconvert_exporter": "python",
   "pygments_lexer": "ipython3",
   "version": "3.7.2"
  }
 },
 "nbformat": 4,
 "nbformat_minor": 4
}
