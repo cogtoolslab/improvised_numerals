{
 "cells": [
  {
   "cell_type": "code",
   "execution_count": 255,
   "metadata": {},
   "outputs": [
    {
     "data": {
      "text/html": [
       "<script>\n",
       "code_show_err=false; \n",
       "function code_toggle_err() {\n",
       " if (code_show_err){\n",
       " $('div.output_stderr').hide();\n",
       " } else {\n",
       " $('div.output_stderr').show();\n",
       " }\n",
       " code_show_err = !code_show_err\n",
       "} \n",
       "$( document ).ready(code_toggle_err);\n",
       "</script>\n",
       "To toggle on/off output_stderr, click <a href=\"javascript:code_toggle_err()\">here</a>."
      ],
      "text/plain": [
       "<IPython.core.display.HTML object>"
      ]
     },
     "execution_count": 255,
     "metadata": {},
     "output_type": "execute_result"
    }
   ],
   "source": [
    "import os, sys\n",
    "\n",
    "import pymongo as pm\n",
    "import numpy as np\n",
    "import scipy.stats as stats\n",
    "import math\n",
    "import pandas as pd\n",
    "import json\n",
    "import re\n",
    "from io import BytesIO\n",
    "from PIL import Image\n",
    "import requests # this is to access the stim urls from the notebook\n",
    "from IPython.display import SVG, display # need for showing stims with sketches side by side\n",
    "import base64\n",
    "import PIL\n",
    "\n",
    "import matplotlib\n",
    "from matplotlib import pylab, mlab, pyplot\n",
    "import matplotlib.patches as mpatches\n",
    "%matplotlib inline\n",
    "from IPython.core.pylabtools import figsize, getfigs\n",
    "plt = pyplot\n",
    "import seaborn as sns\n",
    "sns.set_context('talk')\n",
    "sns.set_style('white')\n",
    "from matplotlib import rcParams\n",
    "matplotlib.rcParams['pdf.fonttype'] = 42\n",
    "\n",
    "from IPython.display import clear_output\n",
    "import importlib\n",
    "\n",
    "import warnings\n",
    "warnings.filterwarnings(\"ignore\", category=DeprecationWarning)\n",
    "warnings.filterwarnings(\"ignore\", message=\"numpy.dtype size changed\")\n",
    "warnings.filterwarnings(\"ignore\", message=\"numpy.ufunc size changed\")\n",
    "\n",
    "# so dataframes don't get cut off in display:\n",
    "#pd.set_option(\"display.max_rows\", None, \"display.max_columns\", None)\n",
    "\n",
    "# a way to hide the little red error warnings that show up sometimes: (https://stackoverflow.com/questions/9031783/hide-all-warnings-in-ipython)    \n",
    "from IPython.display import HTML\n",
    "HTML('''<script>\n",
    "code_show_err=false; \n",
    "function code_toggle_err() {\n",
    " if (code_show_err){\n",
    " $('div.output_stderr').hide();\n",
    " } else {\n",
    " $('div.output_stderr').show();\n",
    " }\n",
    " code_show_err = !code_show_err\n",
    "} \n",
    "$( document ).ready(code_toggle_err);\n",
    "</script>\n",
    "To toggle on/off output_stderr, click <a href=\"javascript:code_toggle_err()\">here</a>.''')\n"
   ]
  },
  {
   "cell_type": "markdown",
   "metadata": {},
   "source": [
    "### set up paths"
   ]
  },
  {
   "cell_type": "code",
   "execution_count": 256,
   "metadata": {},
   "outputs": [],
   "source": [
    "# directory & file hierarchy\n",
    "proj_dir = os.path.abspath('..')\n",
    "analysis_dir = os.getcwd()\n",
    "results_dir = os.path.join(proj_dir,'results')\n",
    "plot_dir = os.path.join(results_dir,'plots')\n",
    "csv_dir = os.path.join(results_dir,'csv')\n",
    "exp_dir = os.path.abspath(os.path.join(proj_dir,'experiments'))\n",
    "sketch_dir = os.path.abspath(os.path.join(proj_dir,'sketches'))\n",
    "gallery_dir = os.path.abspath(os.path.join(proj_dir,'gallery'))\n",
    "datastructures_dir = os.path.join(analysis_dir,'datastructures')\n",
    "\n",
    "## add helpers to python path\n",
    "if os.path.join(proj_dir,'utils') not in sys.path:\n",
    "    sys.path.append(os.path.join(proj_dir,'utils'))   \n",
    "\n",
    "def make_dir_if_not_exists(dir_name):   \n",
    "    if not os.path.exists(dir_name):\n",
    "        os.makedirs(dir_name)\n",
    "    return dir_name\n",
    "\n",
    "## create directories that don't already exist        \n",
    "result = [make_dir_if_not_exists(x) for x in [results_dir,plot_dir,csv_dir,sketch_dir,gallery_dir,datastructures_dir]]\n",
    "\n",
    "## add utils to python path\n",
    "import sys\n",
    "if os.path.join(proj_dir,'utils') not in sys.path:\n",
    "    sys.path.append(os.path.join(proj_dir,'utils'))\n",
    "import utils"
   ]
  },
  {
   "cell_type": "markdown",
   "metadata": {},
   "source": [
    "### establish connection to mongo\n",
    "first thing you need to do is to establish an ssh tunnel (aka remote port forwarding) to the server, so that requests to the mongodb can be made \"as if\" the mongodb server is running on your local computer. Run this from the command line before you begin data analysis if you plan to fetch data from mongo:\n",
    "\n",
    "ssh -fNL 27020:127.0.0.1:27017 USER@cogtoolslab.org"
   ]
  },
  {
   "cell_type": "code",
   "execution_count": 257,
   "metadata": {},
   "outputs": [
    {
     "name": "stdout",
     "output_type": "stream",
     "text": [
      "bind [127.0.0.1]:27020: Address already in use\r",
      "\r\n",
      "channel_setup_fwd_listener_tcpip: cannot listen to port: 27020\r",
      "\r\n",
      "Could not request local forwarding.\r",
      "\r\n"
     ]
    }
   ],
   "source": [
    "! ssh -fNL 27020:127.0.0.1:27017 sholt@cogtoolslab.org"
   ]
  },
  {
   "cell_type": "code",
   "execution_count": 268,
   "metadata": {},
   "outputs": [
    {
     "data": {
      "text/plain": [
       "['3177-5d138036-95d4-4a04-b6cf-4a8c6209d977',\n",
       " '2585-a0a22c7d-fcda-4098-a05c-4a707ec1c230',\n",
       " '0358-83d0b7ef-43c4-4909-8c69-11dbaa4031dc',\n",
       " '4745-209955f2-0494-4274-ab07-974bfa11a44d',\n",
       " '7067-c73d459d-043f-4cc3-b5e5-5affb67d77a3',\n",
       " '8068-fb132ac4-6052-4b63-8cb9-708405697b9e',\n",
       " '4869-c5c46faa-3d2e-41ff-8264-4a9077e52e52',\n",
       " '8205-4f12f4f2-f792-4491-92b2-fced3893c4ea',\n",
       " '6517-403f7545-67f0-41e9-93f0-da54d0df0453',\n",
       " '6263-33cb5433-ade2-4fb4-b60f-da661825aed7',\n",
       " '1499-19435c8a-d288-449a-9f57-354f54682d4e']"
      ]
     },
     "execution_count": 268,
     "metadata": {},
     "output_type": "execute_result"
    }
   ],
   "source": [
    "# set vars \n",
    "auth = pd.read_csv(os.path.join(analysis_dir,'auth.txt'), header = None) # this auth.txt file contains the password for the sketchloop user\n",
    "pswd = auth.values[0][0]\n",
    "user = 'sketchloop'\n",
    "host = 'cogtoolslab.org'\n",
    "\n",
    "# have to fix this to be able to analyze from local\n",
    "import pymongo as pm\n",
    "import socket\n",
    "conn = pm.MongoClient('mongodb://sketchloop:' + pswd + '@127.0.0.1:27017')\n",
    "db = conn['iterated_number']\n",
    "coll = db['num6_shape3']\n",
    "\n",
    "# which iteration name(s) should we use?\n",
    "iterationNames = ['pilot3'] # possibilities: 'sandbox1', 'pilot1', 'sandbox2', 'sandbox3', 'pilot3'\n",
    "iterationName = 'pilot3'\n",
    "# this has previously been run1, then sandbox3, but switched to sandbox 3 for testing the url recording function\n",
    "\n",
    "## Notes to Self:\n",
    "# # If you ever want to see how many unique levels there are in mongodb coll\n",
    "# w = coll.find({'iterationName':iterationName, 'eventType':'survey'})\n",
    "# W = pd.DataFrame(w)\n",
    "# coll.distinct('eventType')\n",
    "\n",
    "list(coll.find({'iterationName':'pilot3'}).distinct(\"gameid\"))\n",
    "\n"
   ]
  },
  {
   "cell_type": "code",
   "execution_count": 269,
   "metadata": {},
   "outputs": [
    {
     "data": {
      "text/plain": [
       "{'_id': ObjectId('60d4f39bc069ba337af16a66'),\n",
       " 'iterationName': 'sandbox1',\n",
       " 'gameid': '1478-65da9683-649d-45d6-98b5-7cd1d14ada9b',\n",
       " 'time': 1624568731751.0,\n",
       " 'trialNum': 1,\n",
       " 'workerId': 'A9AHPCS83TFFE',\n",
       " 'assignmentId': '3TOK3KHVJXIBSVK1VY6NTOT8X6FO75',\n",
       " 'object1Name': 'owl_3',\n",
       " 'object1SketcherLoc': 6,\n",
       " 'object1ViewerLoc': 4,\n",
       " 'object2Name': 'owl_1',\n",
       " 'object2SketcherLoc': 1,\n",
       " 'object2ViewerLoc': 3,\n",
       " 'object3Name': 'owl_2',\n",
       " 'object3SketcherLoc': 2,\n",
       " 'object3ViewerLoc': 2,\n",
       " 'object4Name': 'owl_4',\n",
       " 'object4SketcherLoc': 3,\n",
       " 'object4ViewerLoc': 1,\n",
       " 'intendedName': 'owl_5',\n",
       " 'clickedName': 'owl_3',\n",
       " 'correct': False,\n",
       " 'pngString': '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',\n",
       " 'pose': None,\n",
       " 'condition': '',\n",
       " 'phase': '',\n",
       " 'repetition': '',\n",
       " 'previous_score': '0',\n",
       " 'previous_bonus_score': '0',\n",
       " 'game_condition': 'small',\n",
       " 'targ_s_url': 'https://iternum2.s3.amazonaws.com/owl_6_090.png',\n",
       " 'targ_v_url': 'https://iternum2.s3.amazonaws.com/owl_6_012.png',\n",
       " 'dis_s_urls': ['https://iternum2.s3.amazonaws.com/owl_4_015.png',\n",
       "  'https://iternum2.s3.amazonaws.com/owl_2_097.png',\n",
       "  'https://iternum2.s3.amazonaws.com/owl_3_048.png'],\n",
       " 'dis_v_urls': ['https://iternum2.s3.amazonaws.com/owl_4_013.png',\n",
       "  'https://iternum2.s3.amazonaws.com/owl_2_006.png',\n",
       "  'https://iternum2.s3.amazonaws.com/owl_3_083.png'],\n",
       " 'eventType': 'clickedObj'}"
      ]
     },
     "execution_count": 269,
     "metadata": {},
     "output_type": "execute_result"
    }
   ],
   "source": [
    "## here is what one of these records looks like\n",
    "# coll.find_one()\n",
    "coll.find_one({'eventType':'clickedObj'})\n",
    "# np.save(os.path.join(datastructures_dir,\"workers_list.npy\"),coll.distinct( \"workerId\" ))"
   ]
  },
  {
   "cell_type": "markdown",
   "metadata": {},
   "source": [
    "### Initialize dataframes"
   ]
  },
  {
   "cell_type": "code",
   "execution_count": null,
   "metadata": {},
   "outputs": [],
   "source": []
  },
  {
   "cell_type": "code",
   "execution_count": 270,
   "metadata": {},
   "outputs": [
    {
     "name": "stdout",
     "output_type": "stream",
     "text": [
      "Currently trying to generate clickedObj group dataframe...\n",
      "Finished generating clickedObj group dataframe.\n",
      "Currently trying to generate stroke group dataframe...\n",
      "Finished generating stroke group dataframe.\n",
      "We have 1883 unique stroke records in all 9 of our complete games.\n",
      "We have 261 unique sketch records in all 9 of our complete games.\n",
      "Successfully saved out our stroke/sketch data CSVs to /Users/alles/repos/iterated_number/results/csv.\n"
     ]
    },
    {
     "name": "stderr",
     "output_type": "stream",
     "text": [
      "/Users/alles/anaconda3/lib/python3.7/site-packages/ipykernel_launcher.py:41: SettingWithCopyWarning: \n",
      "A value is trying to be set on a copy of a slice from a DataFrame\n",
      "\n",
      "See the caveats in the documentation: https://pandas.pydata.org/pandas-docs/stable/user_guide/indexing.html#returning-a-view-versus-a-copy\n"
     ]
    }
   ],
   "source": [
    "## fetch records that match our list of iterationNames\n",
    "print('Currently trying to generate clickedObj group dataframe...')\n",
    "k = coll.find({'iterationName': {'$in': iterationNames}, 'eventType':'clickedObj'})\n",
    "## create (raw, unfiltered) group dataframe containing all clickedObj \n",
    "## data from iterationNames of interest\n",
    "K = pd.DataFrame(list(k))\n",
    "K = K.astype({'time': 'int'})\n",
    "print('Finished generating clickedObj group dataframe.')\n",
    "\n",
    "## now make group dataframe for stroke data\n",
    "print('Currently trying to generate stroke group dataframe...')\n",
    "t = coll.find({'iterationName': {'$in': iterationNames}, 'eventType':'stroke'})\n",
    "T = pd.DataFrame(list(t))\n",
    "T = T.astype({'time': 'int',\n",
    "              'startStrokeTime': 'int',\n",
    "              'endStrokeTime': 'int',\n",
    "              'currStrokeNum':'int'})\n",
    "print('Finished generating stroke group dataframe.')\n",
    "\n",
    "## get list of valid game IDs (i.e, subject number)\n",
    "from collections import Counter\n",
    "game_dict = Counter(K['gameid']) ## get dictionary mapping gameIDs to number of sketches \n",
    "complete_gameids = [k for (k,v) in game_dict.items() if v>1] ## get gameids that contributed exactly the right number of sketches\n",
    "\n",
    "## subset stroke/sketch dataframes by being complete AND also exclude practice\n",
    "subset = True\n",
    "if (subset and T['gameid'].nunique()!=len(complete_gameids)):\n",
    "    T = T[(T['gameid'].isin(complete_gameids))].reset_index(drop=True)\n",
    "    K = K[(K['gameid'].isin(complete_gameids))].reset_index(drop=True)\n",
    "    \n",
    "print('We have {} unique stroke records in all {} of our complete games.'.format(T.shape[0],len(complete_gameids)))\n",
    "print('We have {} unique sketch records in all {} of our complete games.'.format(K.shape[0],len(complete_gameids)))\n",
    "\n",
    "# save out to csv\n",
    "T.to_csv(os.path.join(csv_dir,'photodraw_stroke_data.csv'),index=False)\n",
    "K.to_csv(os.path.join(csv_dir,'photodraw_sketch_data.csv'),index=False)\n",
    "print('Successfully saved out our stroke/sketch data CSVs to {}.'.format(csv_dir))\n",
    "\n",
    "# changing the target url because I want it in the sketch metadata, but '/' gets read as file path, so just take suffix\n",
    "for i in K.index:\n",
    "    K['targ_s_url'][i] = K['targ_s_url'][i].split('/')[-1]\n",
    "\n",
    "## generate group dataframe and save out to file\n",
    "# importlib.reload(utils)\n",
    "\n"
   ]
  },
  {
   "cell_type": "code",
   "execution_count": 271,
   "metadata": {},
   "outputs": [
    {
     "name": "stdout",
     "output_type": "stream",
     "text": [
      "Done!\n",
      "Done processing group dataframe with lots of handy additional columns!\n",
      "Something went wrong with adding arc length info to the dataframe, sorry!\n"
     ]
    },
    {
     "name": "stderr",
     "output_type": "stream",
     "text": [
      "/Users/alles/repos/iterated_number/utils/utils.py:408: VisibleDeprecationWarning: Creating an ndarray from ragged nested sequences (which is a list-or-tuple of lists-or-tuples-or ndarrays with different lengths or shapes) is deprecated. If you meant to do this, you must specify 'dtype=object' when creating the ndarray\n",
      "  [GameID,TrialNum, Target, Category, Cardinality, drawDuration, Outcome, Response, numStrokes, meanPixelIntensity, numCurvesPerSketch, numCurvesPerStroke, timedOut,png, svgString, D1, D1_Cat, D1_Car, D2, D2_Cat, D2_Car, D3, D3_Cat, D3_Car, Game_Condition, Targ_s_Url, Targ_v_Url, Dis_s_Urls, Dis_v_Urls, viewer_sees_images])\n"
     ]
    }
   ],
   "source": [
    "print('Now crunching some numbers and adding more useful columns to the raw dataframe...')\n",
    "D = utils.generate_dataframe(coll, complete_gameids, iterationName, csv_dir)\n",
    "print('Done processing group dataframe with lots of handy additional columns!')\n",
    "\n",
    "# Turning things that can be numeric into numeric things\n",
    "D = D.astype({'trialNum': 'float',\n",
    "              'cardinality': 'float',\n",
    "              'drawDuration': 'float',\n",
    "              'outcome': 'float',\n",
    "              'numStrokes': 'float',\n",
    "              'meanPixelIntensity': 'float',\n",
    "              'numCurvesPerSketch': 'float',\n",
    "              'numCurvesPerStroke': 'float',\n",
    "              'D1_Car': 'float',\n",
    "              'D2_Car': 'float',\n",
    "              'D3_Car': 'float'})\n",
    "\n",
    "## some additional postprocessing: add arc length information to the group dataframe \n",
    "try:\n",
    "    from bezier import curve\n",
    "    from svg.path import Path, Line, Arc, CubicBezier, QuadraticBezier, Close, parse_path\n",
    "    D = utils.GetArcLenData(D)\n",
    "except:\n",
    "    print('Something went wrong with adding arc length info to the dataframe, sorry!')\n",
    "    pass\n",
    "\n",
    "# Keep track of which quarter of the experiment the trial happened in\n",
    "D['quarter'] = np.ceil(D['trialNum']/8)\n",
    "D = D.astype({'quarter': 'float'})\n",
    "D['cardinality'] = D['cardinality'] + 1 #cardinalities are 0-indexed, which is ugly\n",
    "\n",
    "D_backup = D #we are going to exclude data from D, so might as well back it up into another variable too"
   ]
  },
  {
   "cell_type": "code",
   "execution_count": 272,
   "metadata": {
    "scrolled": false
   },
   "outputs": [
    {
     "name": "stdout",
     "output_type": "stream",
     "text": [
      "There are a total of 9 unique gameids in mongo.\n",
      "\n",
      "\n",
      "These are the games and how many trials have been completed so far:\n",
      "gameid: 0358-83d0b7ef-43c4-4909-8c69-11dbaa4031dc | number of trials : 30\n",
      "gameid: 1499-19435c8a-d288-449a-9f57-354f54682d4e | number of trials : 30\n",
      "gameid: 3177-5d138036-95d4-4a04-b6cf-4a8c6209d977 | number of trials : 30\n",
      "gameid: 4745-209955f2-0494-4274-ab07-974bfa11a44d | number of trials : 30\n",
      "gameid: 4869-c5c46faa-3d2e-41ff-8264-4a9077e52e52 | number of trials : 30\n",
      "gameid: 6263-33cb5433-ade2-4fb4-b60f-da661825aed7 | number of trials : 30\n",
      "gameid: 6517-403f7545-67f0-41e9-93f0-da54d0df0453 | number of trials : 30\n",
      "gameid: 7067-c73d459d-043f-4cc3-b5e5-5affb67d77a3 | number of trials : 30\n",
      "gameid: 8068-fb132ac4-6052-4b63-8cb9-708405697b9e | number of trials : 21\n"
     ]
    }
   ],
   "source": [
    "## monitor how far along games-in-progress are\n",
    "all_games = K['gameid'].unique()\n",
    "num_games = len(all_games)\n",
    "print('There are a total of {} unique gameids in mongo.'.format(num_games))\n",
    "\n",
    "print('\\n')\n",
    "print('These are the games and how many trials have been completed so far:')\n",
    "for name, group in K.groupby('gameid'):\n",
    "    print('gameid: {} | number of trials : {}'.format(name, group.shape[0]))"
   ]
  },
  {
   "cell_type": "code",
   "execution_count": 273,
   "metadata": {},
   "outputs": [],
   "source": [
    "## TODO: hash 'workerId' so that we do not save actual workerIDs to file.\n"
   ]
  },
  {
   "cell_type": "markdown",
   "metadata": {},
   "source": [
    "### Cleaning (this code was *after* image rendering to sort out the duds. Now it has been moved to *before* image rendering so that we only generate the images that we want to analyze in the NN)"
   ]
  },
  {
   "cell_type": "code",
   "execution_count": 274,
   "metadata": {},
   "outputs": [],
   "source": [
    "# Get the data out onto a CSV so we can do some analysis in R\n",
    "\n",
    "# First clean it up by removing games that we have to exclude. Get dud games manually:\n",
    "dud_games = []\n",
    "# now remove them from both D and K\n",
    "for dud in dud_games:\n",
    "    D = D[D.gameID != dud]\n",
    "    K = K[K.gameid != dud]\n",
    "\n",
    "# the names of the games we want to keep:\n",
    "kosher_games = [game for game in complete_gameids if game not in dud_games]\n",
    "\n",
    "# Export the csv. This is what the R script will look .at\n",
    "D.to_csv(os.path.join(csv_dir,'iternum_group_data_{}.csv'.format(iterationName)))\n"
   ]
  },
  {
   "cell_type": "code",
   "execution_count": 275,
   "metadata": {},
   "outputs": [],
   "source": [
    "D = pd.read_csv(os.path.join(csv_dir,'iternum_group_data_{}.csv'.format(iterationName)))\n"
   ]
  },
  {
   "cell_type": "code",
   "execution_count": null,
   "metadata": {},
   "outputs": [],
   "source": []
  },
  {
   "cell_type": "markdown",
   "metadata": {},
   "source": [
    "### render out all the sketches"
   ]
  },
  {
   "cell_type": "code",
   "execution_count": 276,
   "metadata": {},
   "outputs": [
    {
     "name": "stdout",
     "output_type": "stream",
     "text": [
      "Done rendering 261 images to /Users/alles/repos/iterated_number/sketches.\n"
     ]
    }
   ],
   "source": [
    "importlib.reload(utils)\n",
    "utils.render_images(K,data = 'pngString',\n",
    "                    metadata = ['gameid','intendedName','trialNum','game_condition','targ_s_url'],\n",
    "                    out_dir = sketch_dir,\n",
    "                    delimiter = '_', # used to be '_', but changed because want url in metadata and url has '_'\n",
    "                    savetargs = False)\n",
    "#                     NN=True) # why did I write this? Might be a version control mistake here somewhere..."
   ]
  },
  {
   "cell_type": "markdown",
   "metadata": {},
   "source": [
    "### make sketch gallery (for complete games only)"
   ]
  },
  {
   "cell_type": "code",
   "execution_count": 277,
   "metadata": {},
   "outputs": [
    {
     "name": "stdout",
     "output_type": "stream",
     "text": [
      "Generating sketch gallery for participant: 3177-5d138036-95d4-4a04-b6cf-4a8c6209d977 | 1 of 9\n",
      "Generating sketch gallery for participant: 0358-83d0b7ef-43c4-4909-8c69-11dbaa4031dc | 2 of 9\n",
      "Generating sketch gallery for participant: 4745-209955f2-0494-4274-ab07-974bfa11a44d | 3 of 9\n",
      "Generating sketch gallery for participant: 7067-c73d459d-043f-4cc3-b5e5-5affb67d77a3 | 4 of 9\n",
      "Generating sketch gallery for participant: 8068-fb132ac4-6052-4b63-8cb9-708405697b9e | 5 of 9\n",
      "Generating sketch gallery for participant: 4869-c5c46faa-3d2e-41ff-8264-4a9077e52e52 | 6 of 9\n",
      "Generating sketch gallery for participant: 6517-403f7545-67f0-41e9-93f0-da54d0df0453 | 7 of 9\n",
      "Generating sketch gallery for participant: 6263-33cb5433-ade2-4fb4-b60f-da661825aed7 | 8 of 9\n",
      "Generating sketch gallery for participant: 1499-19435c8a-d288-449a-9f57-354f54682d4e | 9 of 9\n",
      "Done!\n"
     ]
    }
   ],
   "source": [
    "importlib.reload(utils)\n",
    "## actually render sketch gallery for each complete game\n",
    "utils.render_sketch_gallery(complete_gameids,\n",
    "                            D,\n",
    "                            sketch_dir = sketch_dir,\n",
    "                            gallery_dir = gallery_dir,\n",
    "                            num_trials = 30,\n",
    "                            by_trialnum = True,\n",
    "                            show_correct = True,\n",
    "                            transpose=False,\n",
    "                            delimiter='_')"
   ]
  },
  {
   "cell_type": "markdown",
   "metadata": {},
   "source": [
    "### show sketch galleries with target stimulus below"
   ]
  },
  {
   "cell_type": "code",
   "execution_count": 148,
   "metadata": {},
   "outputs": [],
   "source": [
    "# Looking visually to see if the spatial distributions of sketcher target matches the sketches\n",
    "def show_targ_and_sketch(ID,trialnum,disp=True):\n",
    "    \"\"\"\n",
    "    Just a function that plots a sketch (specified by the gameID and trial number) with its target stimulus.\n",
    "    Output of this function is the image showing both side by side.\n",
    "    \"\"\"\n",
    "    game = D[D.gameID == ID]\n",
    "    trial = game[game.trialNum == trialnum]\n",
    "    stim_url = trial['Targ_s_Url'].values[0]\n",
    "    get_stim = requests.get(stim_url)\n",
    "    stim = Image.open(BytesIO(get_stim.content))\n",
    "    \n",
    "    get_sketch = trial['png'].values[0]\n",
    "    sketch = Image.open(BytesIO(base64.b64decode(get_sketch)))\n",
    "    \n",
    "    sketch = sketch.resize((100,100))\n",
    "    stim = stim.resize((100,100))\n",
    "    \n",
    "    images = [sketch,stim]\n",
    "    widths, heights = zip(*(i.size for i in images))\n",
    "    total_width = max(widths)\n",
    "    max_height = sum(heights)\n",
    "    whole_trial = Image.new('RGBA', (total_width, max_height),color='white')\n",
    "    y_offset = 0\n",
    "    for im in images:\n",
    "        whole_trial.paste(im, (0,y_offset))\n",
    "        y_offset += im.size[1]\n",
    "    if disp == True:\n",
    "        display(whole_trial)\n",
    "    return whole_trial\n",
    "\n",
    "def show_targs_sketches_game(ID,save=False):\n",
    "    \"\"\"\n",
    "    This function takes in a gameID and shows sketches and their targets for every trial, side by side.\n",
    "    Optionally, it will save this output into a png.\n",
    "    \"\"\"\n",
    "    whole_game = Image.new('RGBA', (3200, 200),color='white')\n",
    "    for trial_num in np.arange(1,31):\n",
    "        trial = show_targ_and_sketch(ID,trial_num,disp=False)\n",
    "        whole_game.paste(trial,(trial_num*100-100,0))\n",
    "        \n",
    "    if save == True:\n",
    "        condition = D[D.gameID == ID]['Game_Condition'].values[0]\n",
    "        fname = str(condition) + '_' + ID + \"_s_s\"\n",
    "        \n",
    "        out_dir = './sketches_stims'\n",
    "        # create the out_dir if it does not already exist\n",
    "        if not os.path.exists(out_dir): \n",
    "            os.makedirs(out_dir)\n",
    "            \n",
    "        # now save the image out to that directory\n",
    "        if not os.path.exists(os.path.join(out_dir,fname+'.png')):\n",
    "            print('Rendering…', fname + '.png') \n",
    "            whole_game.save(os.path.join(out_dir,fname+'.png'),'PNG')\n",
    "            \n",
    "    return whole_game\n",
    "\n",
    "# for game_id in kosher_games:\n",
    "#     print(\"Now generating sketch + stim display for \",game_id)\n",
    "#     show_targs_sketches_game(game_id,save=True)\n"
   ]
  },
  {
   "cell_type": "markdown",
   "metadata": {},
   "source": [
    "## Analysis things"
   ]
  },
  {
   "cell_type": "code",
   "execution_count": null,
   "metadata": {},
   "outputs": [],
   "source": [
    "def get_confint(df):\n",
    "    \"\"\"Takes a df already with columns ['Factors','mean','count','std'] \"\"\"\n",
    "    new_df = df\n",
    "    ci95_hi = []\n",
    "    ci95_lo = []\n",
    "    for i in new_df.index:\n",
    "        m, c, s = new_df.loc[i]\n",
    "        ci95_hi.append(m + 1.96*s/math.sqrt(c))\n",
    "        ci95_lo.append(m - 1.96*s/math.sqrt(c))\n",
    "    new_df['ci95_hi'] = ci95_hi\n",
    "    new_df['ci95_lo'] = ci95_lo\n",
    "    return new_df\n",
    "\n",
    "\n",
    "# (a) qualitative sketch data\n",
    "# (b) accuracy\n",
    "# (c) preparatory time and sketch time\n",
    "# (d) ink use distribution\n",
    "# (e) all variables over time\n"
   ]
  },
  {
   "cell_type": "markdown",
   "metadata": {},
   "source": [
    "### Accuracy"
   ]
  },
  {
   "cell_type": "code",
   "execution_count": null,
   "metadata": {},
   "outputs": [],
   "source": [
    "# plot the average accuracy over time\n",
    "blah = get_confint(pd.DataFrame(D.groupby(['trialNum']).agg(['mean', 'count', 'std']))['outcome'])\n",
    "blah.plot(y='mean',yerr=blah['ci95_hi'] - blah['mean'])\n",
    "plt.title(\"Accuracy over Trials\")"
   ]
  },
  {
   "cell_type": "markdown",
   "metadata": {},
   "source": [
    "### Time"
   ]
  },
  {
   "cell_type": "code",
   "execution_count": null,
   "metadata": {},
   "outputs": [],
   "source": [
    "lastStrokeDF = pd.DataFrame(T.groupby(['gameid','trialNum'])['currStrokeNum'].max())\n",
    "lastStrokeDF = lastStrokeDF.rename(columns={\"currStrokeNum\": \"lastStroke\"})\n",
    "lastStrokeDF = lastStrokeDF.astype({'lastStroke': 'int'})\n",
    "\n",
    "if 'lastStroke' not in T.columns:\n",
    "    T = T.join(lastStrokeDF, how='left', on=['gameid','trialNum'])\n",
    "\n",
    "lastStrokeDF['lastStroke'].plot.hist()\n",
    "plt.title(\"Number of Strokes\")\n",
    "\n",
    "# for each trial (except the first), we reconstruct the time scale as follows:\n",
    "# clickedTimes: viewer submit time from last trial (cues stim presentation of trial)\n",
    "# penDownTimes: first 'pen down', the first stroke startStrokeTime\n",
    "# penUpTimes: time when sketcher finished making the last stroke\n",
    "\n",
    "clickedTimes = K['time'].reset_index(drop=True) \n",
    "strokeTimes = T[T['currStrokeNum'] == 1]['time'].reset_index(drop=True) \n",
    "penDownTimes = T[T['currStrokeNum'] == 1]['startStrokeTime'].reset_index(drop=True)\n",
    "penUpTimes = T[T['currStrokeNum'] == T['lastStroke']]['endStrokeTime'].reset_index(drop=True)\n",
    "\n",
    "if 'trialStartTime' in T.columns:\n",
    "    trialStartTimes = T[T['currStrokeNum'] == 1]['trialStartTime'].reset_index(drop=True) \n",
    "    timing = pd.DataFrame({'Start': trialStartTimes, 'PenDown': penDownTimes, 'PenUp': penUpTimes})\n",
    "    timing['prepTime'] = timing.PenDown - timing.Start\n",
    "    timing['drawTime'] = timing.PenUp - timing.PenDown\n",
    "    timing['totalTime'] = timing.PenUp - timing.Start\n",
    "else:\n",
    "    strokeTimes = strokeTimes.drop([0])\n",
    "    penDownTimes = penDownTimes.drop([0])\n",
    "    penUpTimes = penUpTimes.drop([0])\n",
    "    clickedTimes = clickedTimes.drop([len(clickedTimes)-1])\n",
    "    clickedTimes.index = range(1,len(clickedTimes)+1)\n",
    "\n",
    "plt.figure()\n",
    "pd.DataFrame(penUpTimes - penDownTimes,columns=['drawDurations']).plot.hist(bins=30)\n",
    "plt.title(\"Draw Duration (measure 1)\")\n",
    "\n",
    "plt.figure()\n",
    "pd.DataFrame(penDownTimes - clickedTimes,columns=['prepTimes']).plot.hist(bins=30)\n",
    "plt.title(\"Prep Time\")\n",
    "\n",
    "\n",
    "plt.figure()\n",
    "D['drawDuration'].plot.hist(bins=30)\n",
    "plt.title(\"Draw Duration (measure 2)\")\n",
    "\n"
   ]
  },
  {
   "cell_type": "code",
   "execution_count": null,
   "metadata": {},
   "outputs": [],
   "source": [
    "np.mean(penUpTimes - penDownTimes)"
   ]
  },
  {
   "cell_type": "code",
   "execution_count": null,
   "metadata": {},
   "outputs": [],
   "source": [
    "\n",
    "# is the 'time' from K informationally identical to the 'trialStartTime' from T? Testing on dataframes where we measure both\n",
    "if 'trialStartTime' in T.columns:\n",
    "    clickedTimes[:-1].reset_index(drop=True) - T[T['currStrokeNum'] == 1].trialStartTime.reset_index(drop=True)[1:].reset_index(drop=True)\n"
   ]
  },
  {
   "cell_type": "code",
   "execution_count": null,
   "metadata": {},
   "outputs": [],
   "source": [
    "# plot the time spent drawing for each trial on average\n",
    "blah = get_confint(pd.DataFrame(D.groupby(['trialNum']).agg(['mean', 'count', 'std']))['drawDuration'])\n",
    "blah.plot(y='mean',yerr=blah['ci95_hi'] - blah['mean'])\n",
    "plt.title(\"Draw Duration over Trials\")"
   ]
  },
  {
   "cell_type": "markdown",
   "metadata": {},
   "source": [
    "### Ink Used"
   ]
  },
  {
   "cell_type": "code",
   "execution_count": null,
   "metadata": {},
   "outputs": [],
   "source": [
    "# plot the amount of ink used in each sketch\n",
    "D[['meanPixelIntensity']].hist(bins=30)"
   ]
  },
  {
   "cell_type": "markdown",
   "metadata": {},
   "source": [
    "### Other things over trials"
   ]
  },
  {
   "cell_type": "code",
   "execution_count": null,
   "metadata": {},
   "outputs": [],
   "source": [
    "blah = get_confint(pd.DataFrame(D.groupby(['trialNum']).agg(['mean', 'count', 'std']))['numStrokes'])\n",
    "blah.plot(y='mean',yerr=blah['ci95_hi'] - blah['mean'])\n",
    "plt.title(\"NumStrokes over Trials\")"
   ]
  },
  {
   "cell_type": "code",
   "execution_count": null,
   "metadata": {},
   "outputs": [],
   "source": [
    "blah = get_confint(pd.DataFrame(D.groupby(['trialNum']).agg(['mean', 'count', 'std']))['meanPixelIntensity'])\n",
    "blah.plot(y='mean',yerr=blah['ci95_hi'] - blah['mean'])\n",
    "plt.title(\"Ink over Trials\")"
   ]
  },
  {
   "cell_type": "code",
   "execution_count": null,
   "metadata": {},
   "outputs": [],
   "source": [
    "blah = get_confint(pd.DataFrame(D.groupby(['cardinality']).agg(['mean', 'count', 'std']))['outcome'])\n",
    "blah.plot(y='mean',yerr=blah['ci95_hi'] - blah['mean'])\n",
    "plt.title(\"Accuracy over Cardinality\")"
   ]
  },
  {
   "cell_type": "code",
   "execution_count": null,
   "metadata": {},
   "outputs": [],
   "source": [
    "blah = get_confint(pd.DataFrame(D.groupby(['cardinality']).agg(['mean', 'count', 'std']))['drawDuration'])\n",
    "blah.plot(y='mean',yerr=blah['ci95_hi'] - blah['mean'])\n",
    "plt.title(\"Draw Duration over Cardinality\")"
   ]
  },
  {
   "cell_type": "code",
   "execution_count": null,
   "metadata": {},
   "outputs": [],
   "source": [
    "D['guess_cardinality'] = D.response.str.slice(start=-2)\n",
    "D = D.astype({'guess_cardinality': 'int'})\n",
    "\n",
    "D['targ_cardinality'] = D.target.str.slice(start=-2)\n",
    "D = D.astype({'targ_cardinality': 'int'})\n",
    "\n",
    "\n",
    "D['distance'] = D.guess_cardinality - D.targ_cardinality\n"
   ]
  },
  {
   "cell_type": "code",
   "execution_count": null,
   "metadata": {},
   "outputs": [],
   "source": [
    "plt.pcolor(D[['targ_cardinality','guess_cardinality']])\n",
    "\n",
    "confmat = pd.crosstab(D['targ_cardinality'], D['guess_cardinality'])\n",
    "\n",
    "sns.heatmap(confmat, annot=True)\n"
   ]
  },
  {
   "cell_type": "code",
   "execution_count": 127,
   "metadata": {},
   "outputs": [
    {
     "data": {
      "text/plain": [
       "{'bodies': [<matplotlib.collections.PolyCollection at 0x7f9786853278>,\n",
       "  <matplotlib.collections.PolyCollection at 0x7f9786853518>],\n",
       " 'cmaxes': <matplotlib.collections.LineCollection at 0x7f9785921198>,\n",
       " 'cmins': <matplotlib.collections.LineCollection at 0x7f97868539b0>,\n",
       " 'cbars': <matplotlib.collections.LineCollection at 0x7f9786853cc0>}"
      ]
     },
     "execution_count": 127,
     "metadata": {},
     "output_type": "execute_result"
    },
    {
     "data": {
      "image/png": "[encoded data removed]",
      "text/plain": [
       "<Figure size 432x288 with 1 Axes>"
      ]
     },
     "metadata": {},
     "output_type": "display_data"
    }
   ],
   "source": [
    "fig, axes = plt.subplots()\n",
    "\n",
    "axes.violinplot(dataset = [D[D.outcome == 1][\"drawDuration\"].values,\n",
    "                           D[D.outcome == 0][\"drawDuration\"].values\n",
    "                          ] )\n"
   ]
  },
  {
   "cell_type": "code",
   "execution_count": 125,
   "metadata": {},
   "outputs": [
    {
     "data": {
      "text/plain": [
       "Index(['Unnamed: 0', 'gameID', 'trialNum', 'target', 'category', 'cardinality',\n",
       "       'drawDuration', 'outcome', 'response', 'numStrokes',\n",
       "       'meanPixelIntensity', 'numCurvesPerSketch', 'numCurvesPerStroke',\n",
       "       'timedOut', 'png', 'svgString', 'D1', 'D1_Cat', 'D1_Car', 'D2',\n",
       "       'D2_Cat', 'D2_Car', 'D3', 'D3_Cat', 'D3_Car', 'Game_Condition',\n",
       "       'Targ_s_Url', 'Targ_v_Url', 'Dis_s_Urls', 'Dis_v_Urls',\n",
       "       'viewer_sees_images', 'low_acc', 'quarter'],\n",
       "      dtype='object')"
      ]
     },
     "execution_count": 125,
     "metadata": {},
     "output_type": "execute_result"
    }
   ],
   "source": [
    "D.columns"
   ]
  },
  {
   "cell_type": "code",
   "execution_count": 128,
   "metadata": {},
   "outputs": [
    {
     "data": {
      "text/plain": [
       "Index(['_id', 'iterationName', 'trialStartTime', 'gameid', 'time', 'trialNum',\n",
       "       'workerId', 'assignmentId', 'viewer_sees_images', 'intendedName',\n",
       "       'svgData', 'currStrokeNum', 'shiftKeyUsed', 'previous_score',\n",
       "       'previous_bonus_score', 'startStrokeTime', 'endStrokeTime',\n",
       "       'game_condition', 'targ_s_url', 'targ_v_url', 'dis_s_urls',\n",
       "       'dis_v_urls', 'eventType'],\n",
       "      dtype='object')"
      ]
     },
     "execution_count": 128,
     "metadata": {},
     "output_type": "execute_result"
    }
   ],
   "source": [
    "T.columns"
   ]
  },
  {
   "cell_type": "code",
   "execution_count": null,
   "metadata": {},
   "outputs": [],
   "source": []
  },
  {
   "cell_type": "code",
   "execution_count": null,
   "metadata": {},
   "outputs": [],
   "source": []
  },
  {
   "cell_type": "code",
   "execution_count": null,
   "metadata": {},
   "outputs": [],
   "source": []
  },
  {
   "cell_type": "code",
   "execution_count": null,
   "metadata": {},
   "outputs": [],
   "source": []
  },
  {
   "cell_type": "code",
   "execution_count": null,
   "metadata": {},
   "outputs": [],
   "source": []
  },
  {
   "cell_type": "code",
   "execution_count": null,
   "metadata": {},
   "outputs": [],
   "source": []
  },
  {
   "cell_type": "code",
   "execution_count": null,
   "metadata": {},
   "outputs": [],
   "source": []
  },
  {
   "cell_type": "code",
   "execution_count": null,
   "metadata": {},
   "outputs": [],
   "source": []
  },
  {
   "cell_type": "code",
   "execution_count": null,
   "metadata": {},
   "outputs": [],
   "source": []
  },
  {
   "cell_type": "code",
   "execution_count": null,
   "metadata": {},
   "outputs": [],
   "source": []
  }
 ],
 "metadata": {
  "kernelspec": {
   "display_name": "Python 3",
   "language": "python",
   "name": "python3"
  },
  "language_info": {
   "codemirror_mode": {
    "name": "ipython",
    "version": 3
   },
   "file_extension": ".py",
   "mimetype": "text/x-python",
   "name": "python",
   "nbconvert_exporter": "python",
   "pygments_lexer": "ipython3",
   "version": "3.7.2"
  }
 },
 "nbformat": 4,
 "nbformat_minor": 2
}
