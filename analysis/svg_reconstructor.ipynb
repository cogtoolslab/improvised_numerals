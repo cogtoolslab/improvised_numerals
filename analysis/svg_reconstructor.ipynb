{
 "cells": [
  {
   "cell_type": "code",
   "execution_count": 4,
   "metadata": {},
   "outputs": [],
   "source": [
    "# importing whatever we might need\n",
    "import csv\n",
    "import cairo\n",
    "from cairosvg import svg2png\n",
    "\n",
    "from PIL import Image\n",
    "import PIL\n",
    "import png\n",
    "import numpy as np\n",
    "import random\n",
    "\n",
    "import pandas as pd\n",
    "\n",
    "import scipy.io as spio\n",
    "import scipy.stats as stats\n",
    "import matplotlib.pyplot as plt\n",
    "\n"
   ]
  },
  {
   "cell_type": "markdown",
   "metadata": {},
   "source": [
    "### Yield SVGs from our CSV Data"
   ]
  },
  {
   "cell_type": "code",
   "execution_count": 39,
   "metadata": {},
   "outputs": [],
   "source": [
    "# This should be able to read a csv file and output some text that can be read as html and rendered online\n",
    "# for info on SVG notation, see:\n",
    "# https://developer.mozilla.org/en-US/docs/Web/SVG/Tutorial/Paths\n",
    "\n",
    "# super janky way of getting the stroke info into an html object that renders SVG files (gonna sandwich around it)\n",
    "html_svg_obj_begin = \"\"\"\n",
    "<svg width=\"300px\" height=\"300px\" viewBox=\"0 0 300 300\">\n",
    "    <g class=\"sketch\">\n",
    "\"\"\"\n",
    "\n",
    "html_svg_stroke_begin = \"\"\" <path fill=\"none\" stroke=\"#000000\" stroke-width=\"8\" stroke-linecap=\"round\" stroke-linejoin=\"round\" d=\" \"\"\"\n",
    "html_svg_stroke_end = \"\"\" \" /> \"\"\"\n",
    "\n",
    "html_svg_obj_end = \"\"\"\n",
    "    </g>\n",
    "</svg>\n",
    "\"\"\"\n",
    "\n",
    "def get_SVG(filename,show = False):\n",
    "    with open(filename, newline='') as csvfile:\n",
    "        file = csv.reader(csvfile)\n",
    "        cur_obj_ID = \"throw_away\"\n",
    "        cur_trial = 'none'\n",
    "        cur_obj_strokes = \"\"\n",
    "        all_object_SVGs = {}\n",
    "        for row in file:\n",
    "            stroke_info = \"\"\n",
    "            whole_row = \"\"\n",
    "            for element in row:\n",
    "                whole_row += str(element)\n",
    "                whole_row += ' '\n",
    "\n",
    "            in_stroke = 0\n",
    "            obj_ID = \"\"\n",
    "            for char in whole_row:\n",
    "                if in_stroke == 0:\n",
    "                    obj_ID += char\n",
    "                if in_stroke == 1:\n",
    "                    stroke_info += char\n",
    "                if char == 'M':            # super janky, perhaps this is not true of all data\n",
    "                    in_stroke = 1\n",
    "                    stroke_info += char\n",
    "\n",
    "            # cleaning obj_ID so that it's just the object subordinate, i.e. deer_6\n",
    "            obj_ID_list = obj_ID.split()\n",
    "            obj_ID = obj_ID_list[-2]\n",
    "            trial_num = obj_ID_list[-3]\n",
    "\n",
    "            # getting rid of the last few columns, which are also not stroke info\n",
    "            stroke_info_list = stroke_info.split()\n",
    "            stroke_info_list = stroke_info_list[:-7]\n",
    "            stroke_info = \"\"\n",
    "            for thing in stroke_info_list:\n",
    "                stroke_info += str(thing) + ' '\n",
    "            whole_stroke = html_svg_stroke_begin + stroke_info + html_svg_stroke_end\n",
    "\n",
    "\n",
    "            # the following code had two problems:\n",
    "            # 1) if the same stim comes up twice in a row (at the split between windows of 24)\n",
    "            # 2) it never actually records the last object\n",
    "            # So change it please\n",
    "            # if obj_ID != cur_obj_ID:\n",
    "            if trial_num != cur_trial: # changing this condition should take care of concern (1) above\n",
    "                cur_obj_svg = html_svg_obj_begin + cur_obj_strokes + html_svg_obj_end\n",
    "                all_object_SVGs[cur_obj_ID] = cur_obj_svg\n",
    "                cur_obj_strokes = whole_stroke\n",
    "                cur_obj_ID = obj_ID\n",
    "                cur_trial = trial_num\n",
    "\n",
    "            # elif obj_ID == cur_obj_ID:\n",
    "            elif trial_num == cur_trial:\n",
    "                cur_obj_strokes += '\\n' + whole_stroke\n",
    "        \n",
    "        # adding this trivial one at the end takes care of concern (2) above\n",
    "        cur_obj_svg = html_svg_obj_begin + cur_obj_strokes + html_svg_obj_end\n",
    "        all_object_SVGs[cur_obj_ID] = cur_obj_svg\n",
    "        cur_obj_strokes = whole_stroke\n",
    "        cur_obj_ID = obj_ID\n",
    "    \n",
    "    if show == True:\n",
    "        for key in all_object_SVGs.keys():\n",
    "            print(key)\n",
    "            print(all_object_SVGs[key],'\\n\\n')\n",
    "    \n",
    "    del all_object_SVGs[\"throw_away\"]\n",
    "    del all_object_SVGs[\"endStrokeTime\"]\n",
    "    \n",
    "    return all_object_SVGs\n",
    "\n",
    "games = []\n",
    "contents = ! ls\n",
    "for file in contents:\n",
    "    if file[-3:] == 'csv':\n",
    "        game_results = get_SVG(file,show = False)\n",
    "        games.append(game_results)\n",
    "\n",
    "sample_dict = games[0]\n",
    "        "
   ]
  },
  {
   "cell_type": "code",
   "execution_count": 40,
   "metadata": {},
   "outputs": [
    {
     "name": "stdout",
     "output_type": "stream",
     "text": [
      "   Deer  Owls Bears\n",
      "0  None  None  None\n",
      "1  None  None  None\n",
      "2  None  None  None\n",
      "3  None  None  None\n",
      "4  None  None  None\n",
      "5  None  None  None\n",
      "6  None  None  None\n",
      "7  None  None  None\n"
     ]
    }
   ],
   "source": [
    "# define the dataframe that will be our basic unit of storing data\n",
    "c_vals = [None,None,None,None,None,None,None,None]  # for 8 cardinalities\n",
    "d = {'Deer': c_vals, 'Owls': c_vals, 'Bears': c_vals} # for these three animals\n",
    "basic_df = pd.DataFrame(d)# ,dtype=np.float) # default is integer\n",
    "\n",
    "# example\n",
    "instance_df = basic_df.copy() # don't want to retro-overwrite onto our template\n",
    "instance_df['Bears'][0] = 2 # this is how you modify a specific element\n",
    "\n",
    "print(basic_df)\n",
    "\n",
    "\n"
   ]
  },
  {
   "cell_type": "markdown",
   "metadata": {},
   "source": [
    "### Analysis 1: Measure Surface Area of Tokens"
   ]
  },
  {
   "cell_type": "code",
   "execution_count": 47,
   "metadata": {},
   "outputs": [
    {
     "data": {
      "text/plain": [
       "<BarContainer object of 3 artists>"
      ]
     },
     "execution_count": 47,
     "metadata": {},
     "output_type": "execute_result"
    },
    {
     "data": {
      "image/png": "[encoded data removed]",
      "text/plain": [
       "<Figure size 432x288 with 1 Axes>"
      ]
     },
     "metadata": {
      "needs_background": "light"
     },
     "output_type": "display_data"
    },
    {
     "data": {
      "image/png": "[encoded data removed]",
      "text/plain": [
       "<Figure size 432x288 with 1 Axes>"
      ]
     },
     "metadata": {
      "needs_background": "light"
     },
     "output_type": "display_data"
    }
   ],
   "source": [
    "# Write function to analyse how much surface area was filled (maybe better do ink used?); must do for many images\n",
    "def measure_SA(imlist):\n",
    "    data = basic_df.copy()\n",
    "    \n",
    "    for item in imlist:\n",
    "        # need to convert the html SVG format into png\n",
    "        svg2png(bytestring=imlist[item],write_to='temp.png')\n",
    "        temp_im = np.array(Image.open('temp.png'))\n",
    "        animal = item[0:-2]\n",
    "        columns = {'b':'Bears','d':'Deer','o':'Owls'}\n",
    "        col_name = columns[animal[0]]\n",
    "        \n",
    "        cardinality = float(item[-1])\n",
    "                \n",
    "        if type(data[col_name][cardinality-1]) == np.float64:\n",
    "            print(\"UH OH YOU JUST TRIED TO OVERWRITE A DATAPOINT\")\n",
    "            # work in an actual eventuality for when this happens. Need a new dimension in the df prolly\n",
    "        else:\n",
    "            data[col_name][cardinality-1] = np.float64(np.sum(temp_im) ) # / cardinality\n",
    "            \n",
    "    return data\n",
    "\n",
    "for game in games:\n",
    "    # do statistics on the amount of pixels per cardinality by animal, etc, using this dataframe\n",
    "    measure_SA(game)\n",
    "    \n",
    "# try_me = measure_SA(sample_dict)\n",
    "# print(np.array(try_me))\n",
    "\n",
    "\n",
    "# First plot total pixels over cardinality\n",
    "points = measure_SA(sample_dict).mean(axis=1)\n",
    "plt.figure()\n",
    "plt.xlabel(\"Cardinality\")\n",
    "plt.ylabel(\"# of Pixels Used\")\n",
    "plt.plot([1,2,3,4,5,6,7,8],points)\n",
    "\n",
    "# Then plot total pixels over type of animal\n",
    "points = measure_SA(sample_dict).mean(axis=0)\n",
    "plt.figure()\n",
    "plt.xlabel(\"Kind of Animal\")\n",
    "plt.ylabel(\"# of Pixels Used\")\n",
    "plt.bar(['Deer','Owls','Bears'],points)\n",
    "\n"
   ]
  },
  {
   "cell_type": "markdown",
   "metadata": {},
   "source": [
    "### Measure 2: Measure Intersection of Tokens with their Stimulus"
   ]
  },
  {
   "cell_type": "code",
   "execution_count": 42,
   "metadata": {},
   "outputs": [
    {
     "data": {
      "text/plain": [
       "<BarContainer object of 3 artists>"
      ]
     },
     "execution_count": 42,
     "metadata": {},
     "output_type": "execute_result"
    },
    {
     "data": {
      "image/png": "[encoded data removed]",
      "text/plain": [
       "<Figure size 432x288 with 1 Axes>"
      ]
     },
     "metadata": {
      "needs_background": "light"
     },
     "output_type": "display_data"
    },
    {
     "data": {
      "image/png": "[encoded data removed]",
      "text/plain": [
       "<Figure size 432x288 with 1 Axes>"
      ]
     },
     "metadata": {
      "needs_background": "light"
     },
     "output_type": "display_data"
    }
   ],
   "source": [
    "\n",
    "def norm_stim(array):\n",
    "    norm_array = np.where(array == 0, array, 1)\n",
    "    ones_array = np.ones(np.shape(norm_array))\n",
    "    inverted_im = ones_array - norm_array\n",
    "    inverted_im[:,:,3] = inverted_im[:,:,2]\n",
    "    return inverted_im.astype(np.uint8)\n",
    "\n",
    "def norm_draw(array):\n",
    "    norm_array = np.where(array == 0, array, 1)\n",
    "    norm_array[:,:,0] = norm_array[:,:,3]\n",
    "    norm_array[:,:,1] = norm_array[:,:,3]\n",
    "    norm_array[:,:,2] = norm_array[:,:,3]\n",
    "    return norm_array.astype(np.uint8)\n",
    "\n",
    "def compare_loc(imlist,display = False):\n",
    "    data = basic_df.copy()\n",
    "    \n",
    "    for item in imlist:\n",
    "        svg2png(bytestring=imlist[item],write_to='temp.png')\n",
    "        \n",
    "        draw_im = Image.open('temp.png')\n",
    "        draw_ar = np.array(draw_im)\n",
    "\n",
    "        # gotta write regex to have it locate the stimulus\n",
    "        animals = {'b':'bear','d':'deer','o':'owl','r':'rabbit','s':'squirrel','w':'wolf'}\n",
    "        stim_name = str('v0_stims/'+item[-1] + '_0_' + animals[item[0]] + '.png')\n",
    "        stim_im = Image.open(stim_name).resize((300,300), resample=0)\n",
    "        stim_ar = np.array(stim_im)\n",
    "\n",
    "        product = norm_stim(stim_ar) * norm_draw(draw_ar)\n",
    "\n",
    "        total_stim_pixels = np.sum(norm_stim(stim_ar))\n",
    "        total_draw_pixels = np.sum(norm_draw(draw_ar))\n",
    "        total_prod_pixels = np.sum(product)\n",
    "        \n",
    "        \n",
    "        animal = item[0:-2]\n",
    "        columns = {'b':'Bears','d':'Deer','o':'Owls'}\n",
    "        col_name = columns[animal[0]]\n",
    "        cardinality = float(item[-1])\n",
    "        \n",
    "        if type(data[col_name][cardinality-1]) == np.float64:\n",
    "            print(\"UH OH YOU JUST TRIED TO OVERWRITE A DATAPOINT\")\n",
    "        else:\n",
    "            data[col_name][cardinality-1] = total_prod_pixels / (total_stim_pixels+total_draw_pixels)\n",
    "            # this is not a good number to use; figure out a better way to normalize the intersection\n",
    "        \n",
    "        \n",
    "        if display == True:\n",
    "            product = np.where(product == 0, product, 255)\n",
    "            prod_im = Image.fromarray(draw_ar)\n",
    "            prod_im.show()\n",
    "        \n",
    "    return data\n",
    "\n",
    "\n",
    "# First plot intersection of sketch and stim over cardinality\n",
    "points = compare_loc(sample_dict).mean(axis=1)\n",
    "plt.figure()\n",
    "plt.xlabel(\"Cardinality\")\n",
    "plt.ylabel(\"# of Pixels in Shared by Token & Stim\")\n",
    "plt.plot([1,2,3,4,5,6,7,8],points)\n",
    "\n",
    "# Then plot intersection of sketch and stim over type of animal\n",
    "points = compare_loc(sample_dict).mean(axis=0)\n",
    "plt.figure()\n",
    "plt.xlabel(\"Kind of Animal\")\n",
    "plt.ylabel(\"# of Pixels in Shared by Token & Stim\")\n",
    "plt.bar(['Deer','Owls','Bears'],points)\n"
   ]
  },
  {
   "cell_type": "code",
   "execution_count": 43,
   "metadata": {},
   "outputs": [
    {
     "data": {
      "text/html": [
       "<div>\n",
       "<style scoped>\n",
       "    .dataframe tbody tr th:only-of-type {\n",
       "        vertical-align: middle;\n",
       "    }\n",
       "\n",
       "    .dataframe tbody tr th {\n",
       "        vertical-align: top;\n",
       "    }\n",
       "\n",
       "    .dataframe thead th {\n",
       "        text-align: right;\n",
       "    }\n",
       "</style>\n",
       "<table border=\"1\" class=\"dataframe\">\n",
       "  <thead>\n",
       "    <tr style=\"text-align: right;\">\n",
       "      <th></th>\n",
       "      <th>Deer</th>\n",
       "      <th>Owls</th>\n",
       "      <th>Bears</th>\n",
       "    </tr>\n",
       "  </thead>\n",
       "  <tbody>\n",
       "    <tr>\n",
       "      <td>0</td>\n",
       "      <td>0.0113605</td>\n",
       "      <td>0.0533512</td>\n",
       "      <td>0.0939914</td>\n",
       "    </tr>\n",
       "    <tr>\n",
       "      <td>1</td>\n",
       "      <td>0</td>\n",
       "      <td>0.115938</td>\n",
       "      <td>0.0484496</td>\n",
       "    </tr>\n",
       "    <tr>\n",
       "      <td>2</td>\n",
       "      <td>0.000329924</td>\n",
       "      <td>0.0851539</td>\n",
       "      <td>0.0794726</td>\n",
       "    </tr>\n",
       "    <tr>\n",
       "      <td>3</td>\n",
       "      <td>0.0524961</td>\n",
       "      <td>0.0562867</td>\n",
       "      <td>0.0346286</td>\n",
       "    </tr>\n",
       "    <tr>\n",
       "      <td>4</td>\n",
       "      <td>0.0309241</td>\n",
       "      <td>0.0101241</td>\n",
       "      <td>0.000571796</td>\n",
       "    </tr>\n",
       "    <tr>\n",
       "      <td>5</td>\n",
       "      <td>0.0872026</td>\n",
       "      <td>0.0305787</td>\n",
       "      <td>0.0645703</td>\n",
       "    </tr>\n",
       "    <tr>\n",
       "      <td>6</td>\n",
       "      <td>0.0276044</td>\n",
       "      <td>0.0557582</td>\n",
       "      <td>0.0350757</td>\n",
       "    </tr>\n",
       "    <tr>\n",
       "      <td>7</td>\n",
       "      <td>0.0349129</td>\n",
       "      <td>0.0772729</td>\n",
       "      <td>0.0778514</td>\n",
       "    </tr>\n",
       "  </tbody>\n",
       "</table>\n",
       "</div>"
      ],
      "text/plain": [
       "          Deer       Owls        Bears\n",
       "0    0.0113605  0.0533512    0.0939914\n",
       "1            0   0.115938    0.0484496\n",
       "2  0.000329924  0.0851539    0.0794726\n",
       "3    0.0524961  0.0562867    0.0346286\n",
       "4    0.0309241  0.0101241  0.000571796\n",
       "5    0.0872026  0.0305787    0.0645703\n",
       "6    0.0276044  0.0557582    0.0350757\n",
       "7    0.0349129  0.0772729    0.0778514"
      ]
     },
     "execution_count": 43,
     "metadata": {},
     "output_type": "execute_result"
    }
   ],
   "source": [
    "compare_loc(sample_dict,display=True)"
   ]
  },
  {
   "cell_type": "code",
   "execution_count": 53,
   "metadata": {},
   "outputs": [
    {
     "data": {
      "text/html": [
       "<div>\n",
       "<style scoped>\n",
       "    .dataframe tbody tr th:only-of-type {\n",
       "        vertical-align: middle;\n",
       "    }\n",
       "\n",
       "    .dataframe tbody tr th {\n",
       "        vertical-align: top;\n",
       "    }\n",
       "\n",
       "    .dataframe thead th {\n",
       "        text-align: right;\n",
       "    }\n",
       "</style>\n",
       "<table border=\"1\" class=\"dataframe\">\n",
       "  <thead>\n",
       "    <tr style=\"text-align: right;\">\n",
       "      <th></th>\n",
       "      <th>A</th>\n",
       "      <th>B</th>\n",
       "      <th>C</th>\n",
       "      <th>D</th>\n",
       "    </tr>\n",
       "  </thead>\n",
       "  <tbody>\n",
       "    <tr>\n",
       "      <td>1</td>\n",
       "      <td>2.0</td>\n",
       "      <td>2.0</td>\n",
       "      <td>2.0</td>\n",
       "      <td>2.0</td>\n",
       "    </tr>\n",
       "    <tr>\n",
       "      <td>2</td>\n",
       "      <td>2.0</td>\n",
       "      <td>2.0</td>\n",
       "      <td>2.0</td>\n",
       "      <td>2.0</td>\n",
       "    </tr>\n",
       "    <tr>\n",
       "      <td>3</td>\n",
       "      <td>2.0</td>\n",
       "      <td>2.0</td>\n",
       "      <td>2.0</td>\n",
       "      <td>2.0</td>\n",
       "    </tr>\n",
       "    <tr>\n",
       "      <td>4</td>\n",
       "      <td>2.0</td>\n",
       "      <td>2.0</td>\n",
       "      <td>2.0</td>\n",
       "      <td>2.0</td>\n",
       "    </tr>\n",
       "  </tbody>\n",
       "</table>\n",
       "</div>"
      ],
      "text/plain": [
       "     A    B    C    D\n",
       "1  2.0  2.0  2.0  2.0\n",
       "2  2.0  2.0  2.0  2.0\n",
       "3  2.0  2.0  2.0  2.0\n",
       "4  2.0  2.0  2.0  2.0"
      ]
     },
     "execution_count": 53,
     "metadata": {},
     "output_type": "execute_result"
    }
   ],
   "source": [
    "test_array = np.ones([4,4])\n",
    "test_df = pd.DataFrame(data=test_array,\n",
    "                       index=[1,2,3,4],\n",
    "                       columns=['A','B','C','D'])\n",
    "\n",
    "test_df + 1\n",
    "\n"
   ]
  },
  {
   "cell_type": "code",
   "execution_count": 45,
   "metadata": {},
   "outputs": [
    {
     "data": {
      "text/plain": [
       "Text(0,0.5,'Probability')"
      ]
     },
     "execution_count": 45,
     "metadata": {},
     "output_type": "execute_result"
    },
    {
     "data": {
      "image/png": "[encoded data removed]",
      "text/plain": [
       "<Figure size 432x288 with 1 Axes>"
      ]
     },
     "metadata": {
      "needs_background": "light"
     },
     "output_type": "display_data"
    }
   ],
   "source": [
    "\n",
    "def doe_normaal(x,mean,s,skew=0):\n",
    "    answer = (1/(s*np.sqrt(2*np.pi)))*np.e**(-((x-mean)**2)/(2*(s**2)))\n",
    "    if skew == 1:\n",
    "        answer = np.log(answer)\n",
    "    return answer\n",
    "\n",
    "xrange = np.arange(100)\n",
    "\n",
    "plt.figure()\n",
    "plt.plot(xrange,doe_normaal(xrange,20,5),color='r')\n",
    "plt.plot(xrange,doe_normaal(xrange,50,5),color='b')\n",
    "plt.tick_params(\n",
    "    axis='x',          # changes apply to the x-axis\n",
    "    which='both',      # both major and minor ticks are affected\n",
    "    bottom=False,      # ticks along the bottom edge are off\n",
    "    top=False,         # ticks along the top edge are off\n",
    "    labelbottom=False)\n",
    "plt.xlabel(\"<– less food---------------------------------------------------------more food –>\")\n",
    "plt.ylabel(\"Probability\")\n",
    "\n"
   ]
  },
  {
   "cell_type": "code",
   "execution_count": null,
   "metadata": {},
   "outputs": [],
   "source": [
    "print('y')"
   ]
  },
  {
   "cell_type": "code",
   "execution_count": null,
   "metadata": {},
   "outputs": [],
   "source": []
  }
 ],
 "metadata": {
  "kernelspec": {
   "display_name": "Python 3",
   "language": "python",
   "name": "python3"
  },
  "language_info": {
   "codemirror_mode": {
    "name": "ipython",
    "version": 3
   },
   "file_extension": ".py",
   "mimetype": "text/x-python",
   "name": "python",
   "nbconvert_exporter": "python",
   "pygments_lexer": "ipython3",
   "version": "3.7.2"
  }
 },
 "nbformat": 4,
 "nbformat_minor": 2
}
