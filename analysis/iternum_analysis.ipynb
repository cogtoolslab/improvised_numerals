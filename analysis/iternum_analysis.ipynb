{
 "cells": [
  {
   "cell_type": "code",
   "execution_count": 1,
   "metadata": {},
   "outputs": [],
   "source": [
    "import os, sys\n",
    "\n",
    "import pymongo as pm\n",
    "import numpy as np\n",
    "import scipy.stats as stats\n",
    "import pandas as pd\n",
    "import json\n",
    "import re\n",
    "from io import BytesIO\n",
    "from PIL import Image\n",
    "import requests # this is to access the stim urls from the notebook\n",
    "from IPython.display import SVG, display # need for showing stims with sketches side by side\n",
    "import base64\n",
    "import PIL\n",
    "\n",
    "import matplotlib\n",
    "from matplotlib import pylab, mlab, pyplot\n",
    "import matplotlib.patches as mpatches\n",
    "%matplotlib inline\n",
    "from IPython.core.pylabtools import figsize, getfigs\n",
    "plt = pyplot\n",
    "import seaborn as sns\n",
    "sns.set_context('talk')\n",
    "sns.set_style('white')\n",
    "from matplotlib import rcParams\n",
    "\n",
    "from IPython.display import clear_output\n",
    "import importlib\n",
    "\n",
    "import warnings\n",
    "warnings.filterwarnings(\"ignore\", category=DeprecationWarning)\n",
    "warnings.filterwarnings(\"ignore\", message=\"numpy.dtype size changed\")\n",
    "warnings.filterwarnings(\"ignore\", message=\"numpy.ufunc size changed\")\n",
    "\n",
    "# so dataframes don't get cut off in display:\n",
    "#pd.set_option(\"display.max_rows\", None, \"display.max_columns\", None)"
   ]
  },
  {
   "cell_type": "markdown",
   "metadata": {},
   "source": [
    "### set up paths"
   ]
  },
  {
   "cell_type": "code",
   "execution_count": 2,
   "metadata": {},
   "outputs": [],
   "source": [
    "# directory & file hierarchy\n",
    "proj_dir = os.path.abspath('..')\n",
    "analysis_dir = os.getcwd()\n",
    "results_dir = os.path.join(proj_dir,'results')\n",
    "plot_dir = os.path.join(results_dir,'plots')\n",
    "csv_dir = os.path.join(results_dir,'csv')\n",
    "exp_dir = os.path.abspath(os.path.join(proj_dir,'experiments'))\n",
    "sketch_dir = os.path.abspath(os.path.join(proj_dir,'sketches'))\n",
    "gallery_dir = os.path.abspath(os.path.join(proj_dir,'gallery'))\n",
    "\n",
    "## add helpers to python path\n",
    "if os.path.join(proj_dir,'utils') not in sys.path:\n",
    "    sys.path.append(os.path.join(proj_dir,'utils'))   \n",
    "\n",
    "def make_dir_if_not_exists(dir_name):   \n",
    "    if not os.path.exists(dir_name):\n",
    "        os.makedirs(dir_name)\n",
    "    return dir_name\n",
    "\n",
    "## create directories that don't already exist        \n",
    "result = [make_dir_if_not_exists(x) for x in [results_dir,plot_dir,csv_dir,sketch_dir,gallery_dir]]\n",
    "\n",
    "## add utils to python path\n",
    "import sys\n",
    "if os.path.join(proj_dir,'utils') not in sys.path:\n",
    "    sys.path.append(os.path.join(proj_dir,'utils'))\n",
    "import utils"
   ]
  },
  {
   "cell_type": "markdown",
   "metadata": {},
   "source": [
    "### establish connection to mongo\n",
    "first thing you need to do is to establish an ssh tunnel (aka remote port forwarding) to the server, so that requests to the mongodb can be made \"as if\" the mongodb server is running on your local computer. Run this from the command line before you begin data analysis if you plan to fetch data from mongo:\n",
    "\n",
    "ssh -fNL 27020:127.0.0.1:27017 USER@cogtoolslab.org"
   ]
  },
  {
   "cell_type": "code",
   "execution_count": 3,
   "metadata": {},
   "outputs": [],
   "source": [
    "! ssh -fNL 27020:127.0.0.1:27017 sholt@cogtoolslab.org"
   ]
  },
  {
   "cell_type": "code",
   "execution_count": 11,
   "metadata": {},
   "outputs": [],
   "source": [
    "# set vars \n",
    "auth = pd.read_csv(os.path.join(analysis_dir,'auth.txt'), header = None) # this auth.txt file contains the password for the sketchloop user\n",
    "pswd = auth.values[0][0]\n",
    "user = 'sketchloop'\n",
    "host = 'cogtoolslab.org'\n",
    "\n",
    "# have to fix this to be able to analyze from local\n",
    "import pymongo as pm\n",
    "import socket\n",
    "conn = pm.MongoClient('mongodb://sketchloop:' + pswd + '@127.0.0.1:27017')\n",
    "db = conn['iterated_number']\n",
    "coll = db['num8_shape4']\n",
    "\n",
    "# which iteration name(s) should we use?\n",
    "iterationNames = ['run2','run3','run4','run5','run6']\n",
    "iterationName = 'run6' \n",
    "# this has previously been run1, then sandbox3, but switched to sandbox 3 for testing the url recording function\n"
   ]
  },
  {
   "cell_type": "code",
   "execution_count": 5,
   "metadata": {},
   "outputs": [
    {
     "data": {
      "text/plain": [
       "{'_id': ObjectId('5ea11f9677a5814e85793c69'),\n",
       " 'iterationName': 'sandboxtest2',\n",
       " 'gameid': '3601-22bb9a7f-f441-4ec3-a2ed-678cea977bbc',\n",
       " 'time': 1587617686433.0,\n",
       " 'trialNum': 1,\n",
       " 'workerId': 'ATHO7Y5CT91O3',\n",
       " 'assignmentId': '3U5NZHP4LV2Q6K2EN75E91NSKGVPHG',\n",
       " 'intendedName': 'owl_5',\n",
       " 'svgData': 'M97,104c50.95184,0 110.84203,-9.43865 155,20c6.35227,4.23484 35.54189,36.45811 25,47c-1.82059,1.82059 -2.92187,-0.575 -4,0c-44.57034,23.77085 -101.51569,42.65189 -152,45c-10.55139,0.49076 -39.53347,7.93307 -48,-9c-28.67466,-57.34933 51.55221,-127.99261 77,-69c28.33338,65.68192 -45.21961,130.94619 -84,72c-13.26402,-20.16131 -23.22808,-104.95727 28,-80c23.65797,11.52568 30.13693,49.37655 38,71c0.04431,0.12186 8.90106,26 15,26',\n",
       " 'currStrokeNum': '1',\n",
       " 'shiftKeyUsed': '0',\n",
       " 'previous_score': '0',\n",
       " 'previous_bonus_score': '0',\n",
       " 'startStrokeTime': '1587617682284',\n",
       " 'endStrokeTime': '1587617683600',\n",
       " 'eventType': 'stroke'}"
      ]
     },
     "execution_count": 5,
     "metadata": {},
     "output_type": "execute_result"
    }
   ],
   "source": [
    "## here is what one of these records looks like\n",
    "coll.find_one()\n"
   ]
  },
  {
   "cell_type": "markdown",
   "metadata": {},
   "source": [
    "### Initialize dataframes"
   ]
  },
  {
   "cell_type": "code",
   "execution_count": null,
   "metadata": {
    "collapsed": true
   },
   "outputs": [],
   "source": []
  },
  {
   "cell_type": "code",
   "execution_count": 9,
   "metadata": {},
   "outputs": [
    {
     "name": "stdout",
     "output_type": "stream",
     "text": [
      "Currently trying to generate clickedObj group dataframe...\n",
      "Finished generating clickedObj group dataframe.\n",
      "Currently trying to generate stroke group dataframe...\n",
      "Finished generating stroke group dataframe.\n",
      "We have 11237 unique stroke records in all 67 of our complete games.\n",
      "We have 2144 unique sketch records in all 67 of our complete games.\n",
      "Successfully saved out our stroke/sketch data CSVs to /Users/alles/iterated_number/results/csv.\n"
     ]
    },
    {
     "name": "stderr",
     "output_type": "stream",
     "text": [
      "/Users/alles/anaconda3/lib/python3.7/site-packages/ipykernel_launcher.py:36: SettingWithCopyWarning: \n",
      "A value is trying to be set on a copy of a slice from a DataFrame\n",
      "\n",
      "See the caveats in the documentation: http://pandas.pydata.org/pandas-docs/stable/user_guide/indexing.html#returning-a-view-versus-a-copy\n"
     ]
    }
   ],
   "source": [
    "## fetch records that match our list of iterationNames\n",
    "print('Currently trying to generate clickedObj group dataframe...')\n",
    "k = coll.find({'iterationName': {'$in': iterationNames}, 'eventType':'clickedObj'})\n",
    "## create (raw, unfiltered) group dataframe containing all clickedObj \n",
    "## data from iterationNames of interest\n",
    "K = pd.DataFrame(list(k))\n",
    "print('Finished generating clickedObj group dataframe.')\n",
    "\n",
    "## now make group dataframe for stroke data\n",
    "print('Currently trying to generate stroke group dataframe...')\n",
    "t = coll.find({'iterationName': {'$in': iterationNames}, 'eventType':'stroke'})\n",
    "T = pd.DataFrame(list(t))\n",
    "print('Finished generating stroke group dataframe.')\n",
    "\n",
    "## get list of valid game IDs (i.e, subject number)\n",
    "from collections import Counter\n",
    "game_dict = Counter(K['gameid']) ## get dictionary mapping gameIDs to number of sketches \n",
    "complete_gameids = [k for (k,v) in game_dict.items() if v==32] ## get gameids that contributed exactly the right number of sketches\n",
    "\n",
    "## subset stroke/sketch dataframes by being complete AND also exclude practice\n",
    "subset = True\n",
    "if (subset and T['gameid'].nunique()!=len(complete_gameids)):\n",
    "    T = T[(T['gameid'].isin(complete_gameids))].reset_index(drop=True)\n",
    "    K = K[(K['gameid'].isin(complete_gameids))].reset_index(drop=True)\n",
    "    \n",
    "print('We have {} unique stroke records in all {} of our complete games.'.format(T.shape[0],len(complete_gameids)))\n",
    "print('We have {} unique sketch records in all {} of our complete games.'.format(K.shape[0],len(complete_gameids)))\n",
    "\n",
    "# save out to csv\n",
    "T.to_csv(os.path.join(csv_dir,'photodraw_stroke_data.csv'),index=False)\n",
    "K.to_csv(os.path.join(csv_dir,'photodraw_sketch_data.csv'),index=False)\n",
    "print('Successfully saved out our stroke/sketch data CSVs to {}.'.format(csv_dir))\n",
    "\n",
    "# changing the target url because I want it in the sketch metadata, but '/' gets read as file path, so just take suffix\n",
    "for i in K.index:\n",
    "    K['targ_s_url'][i] = K['targ_s_url'][i].split('/')[-1]\n",
    "\n",
    "## generate group dataframe and save out to file\n",
    "# importlib.reload(utils)\n",
    "\n"
   ]
  },
  {
   "cell_type": "code",
   "execution_count": 12,
   "metadata": {},
   "outputs": [
    {
     "name": "stdout",
     "output_type": "stream",
     "text": [
      "Done!\n",
      "Done processing group dataframe with lots of handy additional columns!\n",
      "Something went wrong with adding arc length info to the dataframe, sorry!\n"
     ]
    }
   ],
   "source": [
    "print('Now crunching some numbers and adding more useful columns to the raw dataframe...')\n",
    "D = utils.generate_dataframe(coll, complete_gameids, iterationName, csv_dir)\n",
    "print('Done processing group dataframe with lots of handy additional columns!')\n",
    "\n",
    "# Turning things that can be numeric into numeric things\n",
    "D = D.astype({'trialNum': 'float',\n",
    "              'cardinality': 'float',\n",
    "              'drawDuration': 'float',\n",
    "              'outcome': 'float',\n",
    "              'numStrokes': 'float',\n",
    "              'meanPixelIntensity': 'float',\n",
    "              'numCurvesPerSketch': 'float',\n",
    "              'numCurvesPerStroke': 'float',\n",
    "              'D1_Car': 'float',\n",
    "              'D2_Car': 'float',\n",
    "              'D3_Car': 'float'})\n",
    "\n",
    "## some additional postprocessing: add arc length information to the group dataframe \n",
    "try:\n",
    "    from bezier import curve\n",
    "    from svg.path import Path, Line, Arc, CubicBezier, QuadraticBezier, Close, parse_path\n",
    "    D = utils.GetArcLenData(D)\n",
    "except:\n",
    "    print('Something went wrong with adding arc length info to the dataframe, sorry!')\n",
    "    pass\n",
    "\n",
    "# Keep track of which quarter of the experiment the trial happened in\n",
    "D['quarter'] = np.ceil(D['trialNum']/8)\n",
    "D = D.astype({'quarter': 'float'})\n",
    "D['cardinality'] = D['cardinality'] + 1 #cardinalities are 0-indexed, which is ugly\n",
    "\n",
    "D_backup = D #we are going to exclude data from D, so might as well back it up into another variable too"
   ]
  },
  {
   "cell_type": "code",
   "execution_count": 13,
   "metadata": {},
   "outputs": [
    {
     "name": "stdout",
     "output_type": "stream",
     "text": [
      "There are a total of 67 unique gameids in mongo.\n",
      "\n",
      "\n",
      "These are the games and how many trials have been completed so far:\n",
      "gameid: 0074-988d4ee1-5766-47b5-bcbb-49a720aee30d | number of trials : 32\n",
      "gameid: 0095-d4a81902-118c-4dda-bf91-6522bd3c1b7d | number of trials : 32\n",
      "gameid: 0196-4a8ca8ea-c82c-4f36-af78-e3374d339786 | number of trials : 32\n",
      "gameid: 0215-2671868a-4819-49c7-9d88-a41191b25eb3 | number of trials : 32\n",
      "gameid: 0304-a93c4bf1-c4f9-46e4-b8a1-dd2359a31933 | number of trials : 32\n",
      "gameid: 0532-734dfb32-c173-48df-bfa2-0decb357302b | number of trials : 32\n",
      "gameid: 0646-33d71b5d-3800-4485-b05a-91338ba7bde8 | number of trials : 32\n",
      "gameid: 0885-d57e4e9f-a2c5-4978-a12f-b219cafba17e | number of trials : 32\n",
      "gameid: 1034-bd869e68-6b1e-41b8-b50b-98b16f6692a6 | number of trials : 32\n",
      "gameid: 1135-f8a97bb7-107c-41c5-b871-7bc08ef01068 | number of trials : 32\n",
      "gameid: 1178-fd0a52f9-110d-497c-91fc-4c5dfd21b8aa | number of trials : 32\n",
      "gameid: 1372-60cdfd55-28bb-411c-b777-c51eaadee7a9 | number of trials : 32\n",
      "gameid: 1611-9690be27-676a-4ef8-b58a-282af4aef34a | number of trials : 32\n",
      "gameid: 1798-5682c277-2239-482f-a88f-4ce24693b239 | number of trials : 32\n",
      "gameid: 1801-0bf657e6-12f5-4737-b7fa-f0d8eb5397a5 | number of trials : 32\n",
      "gameid: 1947-29382ba4-5747-456d-ba8b-276812fc1fb3 | number of trials : 32\n",
      "gameid: 2822-b5a43bf8-2515-4d80-a812-972e497d8124 | number of trials : 32\n",
      "gameid: 2824-66e43315-075a-431f-86d4-6eea7f135aa2 | number of trials : 32\n",
      "gameid: 2949-1e579088-8493-4c07-873c-7bd6d00685e3 | number of trials : 32\n",
      "gameid: 3157-91bcaadf-d5e1-42b1-9ae5-28f7f804924f | number of trials : 32\n",
      "gameid: 3328-d6ef6fc7-8325-478b-ada1-da4e2ec52469 | number of trials : 32\n",
      "gameid: 3738-67fb0f67-04af-48bb-8ee1-7567cf485a42 | number of trials : 32\n",
      "gameid: 3880-3184be49-687c-4cc1-ae09-d4fed1a8f5a8 | number of trials : 32\n",
      "gameid: 4399-a6cebf27-430e-4f06-95e8-8073905aa3ab | number of trials : 32\n",
      "gameid: 4423-063641e5-72aa-4053-bef9-3789d566fab3 | number of trials : 32\n",
      "gameid: 4519-b216a97b-35fc-44c9-a9ed-8edaad42ccda | number of trials : 32\n",
      "gameid: 4620-6c2e80e0-4384-44fa-94cb-365ad3f70338 | number of trials : 32\n",
      "gameid: 4883-809f3003-8522-4324-aaed-db25f45f98ff | number of trials : 32\n",
      "gameid: 4963-eaca006a-4780-4cc9-9be8-63bc3bca3b31 | number of trials : 32\n",
      "gameid: 5018-ef371cb8-5a88-490a-b67b-de4b77de3d02 | number of trials : 32\n",
      "gameid: 5105-c1d549f1-f72a-4886-b171-1830d38a570f | number of trials : 32\n",
      "gameid: 5314-860f5816-4ee4-46b3-8bb3-58b91c008952 | number of trials : 32\n",
      "gameid: 5480-6ef3f063-2a30-4b2f-bdc0-71cd39514e61 | number of trials : 32\n",
      "gameid: 5506-e5927b09-479f-41b7-a302-97941f3f4dc1 | number of trials : 32\n",
      "gameid: 5758-dbed9675-da5b-45fc-b315-975dec4b654a | number of trials : 32\n",
      "gameid: 5810-5d5dde58-ea14-4f25-8960-5801f5a24ba5 | number of trials : 32\n",
      "gameid: 6096-45b1ca17-5b6f-4763-b392-5035dbd8ef94 | number of trials : 32\n",
      "gameid: 6172-292460e4-4c1b-4926-ac2d-15467a08cff1 | number of trials : 32\n",
      "gameid: 6241-1329b567-f417-48fd-b527-c1bda82f3b77 | number of trials : 32\n",
      "gameid: 6265-a70bd0e5-9111-4b9d-a54d-892f121eb60f | number of trials : 32\n",
      "gameid: 6491-6f63f8b0-fac0-439c-936c-797f4c8e6e7c | number of trials : 32\n",
      "gameid: 6769-3ee1e797-2c5b-4441-8d67-5ccd1c6b9a73 | number of trials : 32\n",
      "gameid: 7035-7157c91f-91bb-47ce-871b-d6b3c42570fb | number of trials : 32\n",
      "gameid: 7144-e442c1e6-9730-4af1-8108-456484ed3ee7 | number of trials : 32\n",
      "gameid: 7197-6d1f3fda-040a-455c-aef0-279ba9aef053 | number of trials : 32\n",
      "gameid: 7205-ab849783-7f52-48e8-857d-1c86082a3bb3 | number of trials : 32\n",
      "gameid: 7252-68b73956-7131-4e0f-ac7b-fa77929a0638 | number of trials : 32\n",
      "gameid: 7690-5a2868bb-92a2-4c56-a821-97ae4de96f57 | number of trials : 32\n",
      "gameid: 8095-476d7c44-2964-44b6-bc48-c28d2e4a2a10 | number of trials : 32\n",
      "gameid: 8172-8d856686-c62d-4f5a-b203-4e7deae74ab9 | number of trials : 32\n",
      "gameid: 8174-05997e8f-1b8b-4599-a71e-164ee7184353 | number of trials : 32\n",
      "gameid: 8226-056c24d2-a239-4149-9476-b88332f2640c | number of trials : 32\n",
      "gameid: 8327-4713e0cd-db00-4bd5-9780-b111f71e21f2 | number of trials : 32\n",
      "gameid: 8334-fed22f63-dad9-4faa-82ec-96b4561ff0b2 | number of trials : 32\n",
      "gameid: 8342-edf0aae6-04f1-4753-b910-1647f52ce424 | number of trials : 32\n",
      "gameid: 8369-76e6f73d-922a-4aca-b98a-8c96026aa48a | number of trials : 32\n",
      "gameid: 8376-22973ad6-f996-420e-9829-c7165a5fe9b0 | number of trials : 32\n",
      "gameid: 8460-eb851b40-9c33-464c-b063-e21197a66936 | number of trials : 32\n",
      "gameid: 8506-9f6443b9-d8d5-44a5-a38d-157ed6047a6a | number of trials : 32\n",
      "gameid: 8546-70561089-d2b7-4e20-9e10-8ac87cba975f | number of trials : 32\n",
      "gameid: 8735-55ad7c25-0992-4a50-a068-72bf9c59cce0 | number of trials : 32\n",
      "gameid: 8936-ef0792d1-775a-48ac-afba-8fae7f196ff4 | number of trials : 32\n",
      "gameid: 9237-4cc76e85-9955-4cef-b03c-5c68f46321ca | number of trials : 32\n",
      "gameid: 9368-61aff351-8b89-4586-a908-e803ad837674 | number of trials : 32\n",
      "gameid: 9511-4ebcbf6b-00f0-4f1f-ac02-41abf23a0d73 | number of trials : 32\n",
      "gameid: 9628-1c609e18-d1d3-4ed7-b3a2-79c927abf904 | number of trials : 32\n",
      "gameid: 9628-d7914c9d-2ee9-4706-8d26-93a3fa8008e3 | number of trials : 32\n"
     ]
    }
   ],
   "source": [
    "## monitor how far along games-in-progress are\n",
    "all_games = K['gameid'].unique()\n",
    "num_games = len(all_games)\n",
    "print('There are a total of {} unique gameids in mongo.'.format(num_games))\n",
    "\n",
    "print('\\n')\n",
    "print('These are the games and how many trials have been completed so far:')\n",
    "for name, group in K.groupby('gameid'):\n",
    "    print('gameid: {} | number of trials : {}'.format(name, group.shape[0]))"
   ]
  },
  {
   "cell_type": "code",
   "execution_count": null,
   "metadata": {
    "collapsed": true
   },
   "outputs": [],
   "source": [
    "## TODO: hash 'workerId' so that we do not save actual workerIDs to file."
   ]
  },
  {
   "cell_type": "markdown",
   "metadata": {},
   "source": [
    "### Cleaning (this code was *after* image rendering to sort out the duds. Now it has been moved to *before* image rendering so that we only generate the images that we want to analyze in the NN)"
   ]
  },
  {
   "cell_type": "code",
   "execution_count": 14,
   "metadata": {},
   "outputs": [],
   "source": [
    "# Get the data out onto a CSV so we can do some analysis in R\n",
    "\n",
    "# First clean it up by removing games that we have to exclude. Get dud games manually:\n",
    "dud_games = [#\"6769-3ee1e797-2c5b-4441-8d67-5ccd1c6b9a73\",    #number\n",
    "             \"8369-76e6f73d-922a-4aca-b98a-8c96026aa48a\",    #number\n",
    "             \"1372-60cdfd55-28bb-411c-b777-c51eaadee7a9\",    #shape\n",
    "             \"2949-1e579088-8493-4c07-873c-7bd6d00685e3\",    #shape\n",
    "             \"7197-6d1f3fda-040a-455c-aef0-279ba9aef053\",    #shape\n",
    "             \"9237-4cc76e85-9955-4cef-b03c-5c68f46321ca\",    #shape\n",
    "             \"1947-29382ba4-5747-456d-ba8b-276812fc1fb3\"]    #shape\n",
    "\n",
    "# now remove them from both D and K\n",
    "for dud in dud_games:\n",
    "    D = D[D.gameID != dud]\n",
    "    K = K[K.gameid != dud]\n",
    "\n",
    "# the names of the games we want to keep:\n",
    "kosher_games = [game for game in complete_gameids if game not in dud_games]\n",
    "\n",
    "# Export the csv. This is what the R script will look at\n",
    "D.to_csv(os.path.join(csv_dir,'iternum_group_data_{}.csv'.format(iterationName)))\n"
   ]
  },
  {
   "cell_type": "code",
   "execution_count": 15,
   "metadata": {},
   "outputs": [],
   "source": [
    "D = pd.read_csv(os.path.join(csv_dir,'iternum_group_data_{}.csv'.format(iterationName)))\n"
   ]
  },
  {
   "cell_type": "code",
   "execution_count": null,
   "metadata": {},
   "outputs": [],
   "source": []
  },
  {
   "cell_type": "markdown",
   "metadata": {},
   "source": [
    "### render out all the sketches"
   ]
  },
  {
   "cell_type": "code",
   "execution_count": 18,
   "metadata": {},
   "outputs": [
    {
     "name": "stdout",
     "output_type": "stream",
     "text": [
      "Done rendering 1952 images to /Users/alles/iterated_number/sketches.\n"
     ]
    }
   ],
   "source": [
    "importlib.reload(utils)\n",
    "utils.render_images(K,data = 'pngString',\n",
    "                    metadata = ['gameid','intendedName','trialNum','game_condition','targ_s_url'],\n",
    "                    out_dir = sketch_dir,\n",
    "                    delimiter = '_', # used to be '_', but changed because want url in metadata and url has '_'\n",
    "                    savetargs = True)\n",
    "#                     NN=True) # why did I write this? Might be a version control mistake here somewhere..."
   ]
  },
  {
   "cell_type": "markdown",
   "metadata": {},
   "source": [
    "### make sketch gallery (for complete games only)"
   ]
  },
  {
   "cell_type": "code",
   "execution_count": null,
   "metadata": {},
   "outputs": [],
   "source": [
    "importlib.reload(utils)\n",
    "## actually render sketch gallery for each complete game\n",
    "utils.render_sketch_gallery(complete_gameids,\n",
    "                            D,\n",
    "                            sketch_dir = sketch_dir,\n",
    "                            gallery_dir = gallery_dir,\n",
    "                            num_trials = 32,\n",
    "                            by_trialnum = True,\n",
    "                            show_correct = True,\n",
    "                            transpose=False,\n",
    "                            delimiter='•')"
   ]
  },
  {
   "cell_type": "code",
   "execution_count": null,
   "metadata": {
    "collapsed": true
   },
   "outputs": [],
   "source": []
  },
  {
   "cell_type": "markdown",
   "metadata": {},
   "source": [
    "## Analysis things"
   ]
  },
  {
   "cell_type": "markdown",
   "metadata": {},
   "source": [
    "### Visualizing"
   ]
  },
  {
   "cell_type": "code",
   "execution_count": null,
   "metadata": {
    "collapsed": true
   },
   "outputs": [],
   "source": [
    "## if we want to change superficial elements of figures, this is a way to do that\n",
    "# rcParams['font.family'] = 'serif'\n",
    "# rcParams['font.sans-serif'] = ['Tahoma']\n"
   ]
  },
  {
   "cell_type": "code",
   "execution_count": null,
   "metadata": {
    "scrolled": true
   },
   "outputs": [],
   "source": [
    "# Looking visually to see if the spatial distributions of sketcher target matches the sketches\n",
    "def show_targ_and_sketch(ID,trialnum,disp=True):\n",
    "    \"\"\"\n",
    "    Just a function that plots a sketch (specified by the gameID and trial number) with its target stimulus.\n",
    "    Output of this function is the image showing both side by side.\n",
    "    \"\"\"\n",
    "    game = D[D.gameID == ID]\n",
    "    trial = game[game.trialNum == trialnum]\n",
    "    stim_url = trial['Targ_s_Url'].values[0]\n",
    "    get_stim = requests.get(stim_url)\n",
    "    stim = Image.open(BytesIO(get_stim.content))\n",
    "    \n",
    "    get_sketch = trial['png'].values[0]\n",
    "    sketch = Image.open(BytesIO(base64.b64decode(get_sketch)))\n",
    "    \n",
    "    sketch = sketch.resize((100,100))\n",
    "    stim = stim.resize((100,100))\n",
    "    \n",
    "    images = [sketch,stim]\n",
    "    widths, heights = zip(*(i.size for i in images))\n",
    "    total_width = max(widths)\n",
    "    max_height = sum(heights)\n",
    "    whole_trial = Image.new('RGBA', (total_width, max_height),color='white')\n",
    "    y_offset = 0\n",
    "    for im in images:\n",
    "        whole_trial.paste(im, (0,y_offset))\n",
    "        y_offset += im.size[1]\n",
    "    if disp == True:\n",
    "        display(whole_trial)\n",
    "    return whole_trial\n",
    "\n",
    "def show_targs_sketches_game(ID,save=False):\n",
    "    \"\"\"\n",
    "    This function takes in a gameID and shows sketches and their targets for every trial, side by side.\n",
    "    Optionally, it will save this output into a png.\n",
    "    \"\"\"\n",
    "    whole_game = Image.new('RGBA', (3200, 200),color='white')\n",
    "    for trial_num in np.arange(1,33):\n",
    "        trial = show_targ_and_sketch(ID,trial_num,disp=False)\n",
    "        whole_game.paste(trial,(trial_num*100-100,0))\n",
    "        \n",
    "    if save == True:\n",
    "        condition = D[D.gameID == ID]['Game_Condition'].values[0]\n",
    "        fname = str(condition) + '_' + ID + \"_s_s\"\n",
    "        \n",
    "        out_dir = './sketches_stims'\n",
    "        # create the out_dir if it does not already exist\n",
    "        if not os.path.exists(out_dir): \n",
    "            os.makedirs(out_dir)\n",
    "            \n",
    "        # now save the image out to that directory\n",
    "        if not os.path.exists(os.path.join(out_dir,fname+'.png')):\n",
    "            print('Rendering…', fname + '.png') \n",
    "            whole_game.save(os.path.join(out_dir,fname+'.png'),'PNG')\n",
    "            \n",
    "    return whole_game\n",
    "\n",
    "for game_id in kosher_games:\n",
    "    print(\"Now generating sketch + stim display for \",game_id)\n",
    "    show_targs_sketches_game(game_id,save=True)\n"
   ]
  },
  {
   "cell_type": "markdown",
   "metadata": {},
   "source": [
    "### analyze performance (accuracy and RT)"
   ]
  },
  {
   "cell_type": "code",
   "execution_count": null,
   "metadata": {
    "collapsed": true
   },
   "outputs": [],
   "source": [
    "acc_table = D.groupby('gameID')['outcome'].mean().reset_index()\n",
    "acc_table['outcome'].mean()\n"
   ]
  },
  {
   "cell_type": "markdown",
   "metadata": {},
   "source": [
    "## Figures for 1YPaper"
   ]
  },
  {
   "cell_type": "code",
   "execution_count": null,
   "metadata": {
    "collapsed": true
   },
   "outputs": [],
   "source": [
    "# Figure 1 was just showing written number systems. No quantitative data\n",
    "# Figure 3 was showing qualitative data, i.e. sketches and stimuli. No quantitative\n",
    "\n",
    "# First want to generate dataframes under specific restrictions to look at\n",
    "# just number games or just shape games\n",
    "df_num = D.loc[D['Game_Condition'] == 'number']\n",
    "df_aml = D.loc[D['Game_Condition'] == 'shape']\n",
    "\n",
    "# just games that are number or shape, and a specific quarter of those games\n",
    "dn1 = df_num.loc[df_num['quarter'] == 1.0]\n",
    "dn2 = df_num.loc[df_num['quarter'] == 2.0]\n",
    "dn3 = df_num.loc[df_num['quarter'] == 3.0]\n",
    "dn4 = df_num.loc[df_num['quarter'] == 4.0]\n",
    "\n",
    "da1 = df_aml.loc[df_aml['quarter'] == 1.0]\n",
    "da2 = df_aml.loc[df_aml['quarter'] == 2.0]\n",
    "da3 = df_aml.loc[df_aml['quarter'] == 3.0]\n",
    "da4 = df_aml.loc[df_aml['quarter'] == 4.0]"
   ]
  },
  {
   "cell_type": "markdown",
   "metadata": {},
   "source": [
    "### Figure 2: DVs over IVs"
   ]
  },
  {
   "cell_type": "code",
   "execution_count": null,
   "metadata": {
    "collapsed": true
   },
   "outputs": [],
   "source": [
    "# Figure 2 produced as follows, showing each naive measure over cardinality & animal\n",
    "\n",
    "# set what data we want to plot; this can be any trial block, or all blocks\n",
    "num_data = df_num\n",
    "aml_data = df_aml\n",
    "\n",
    "## the legend, if ever we want to put it in\n",
    "# number_patch = mpatches.Patch(color='#25B1F7', label='Number Games')\n",
    "# animal_patch = mpatches.Patch(color='#B92BCF', label='Animal Games')\n",
    "# plt.legend(handles=[number_patch, animal_patch])\n",
    "\n",
    "# overall figure parameters\n",
    "graph_size = (5,2)\n",
    "card_fig = plt.figure(\"By Cardinality\",figsize=(10,10))\n",
    "# card_fig.suptitle(\"Figure 2 – DVs by Stimulus Feature\")\n",
    "card_fig.suptitle(\"        \")\n",
    "\n",
    "ax1 = card_fig.add_subplot(4,2,1)\n",
    "ax2 = card_fig.add_subplot(4,2,2)\n",
    "ax3 = card_fig.add_subplot(4,2,3)\n",
    "ax4 = card_fig.add_subplot(4,2,4)\n",
    "ax5 = card_fig.add_subplot(4,2,5)\n",
    "ax6 = card_fig.add_subplot(4,2,6)\n",
    "ax7 = card_fig.add_subplot(4,2,7)\n",
    "ax8 = card_fig.add_subplot(4,2,8)\n",
    "\n",
    "\n",
    "# for all the odd subplots, plot out DVs over cardinality\n",
    "\n",
    "# plt.figure(\"Ink over Cardinality\",figsize=graph_size)\n",
    "sns.pointplot(data=num_data, x='cardinality', y='meanPixelIntensity',color='#25B1F7',markers='.',ax=ax1)\n",
    "sns.pointplot(data=aml_data, x='cardinality', y='meanPixelIntensity',color='#B92BCF',markers='.',ax=ax1)\n",
    "# plt.title(\"Ink by Cardinality\")\n",
    "# plt.ylabel(\"Ink\")\n",
    "# plt.xlabel(\"\")\n",
    "# plt.xticks([])\n",
    "# plt.show()\n",
    "\n",
    "# plt.figure(\"Strokes over Cardinality\",figsize=graph_size)\n",
    "sns.pointplot(data=num_data, x='cardinality', y='numStrokes',color='#25B1F7',markers='.',ax=ax3)\n",
    "sns.pointplot(data=aml_data, x='cardinality', y='numStrokes',color='#B92BCF',markers='.',ax=ax3)\n",
    "# plt.title(\"Strokes by Cardinality\")\n",
    "# plt.ylabel(\"Strokes\")\n",
    "# plt.xlabel(\"\")\n",
    "# plt.xticks([])\n",
    "# plt.show()\n",
    "\n",
    "# plt.figure(\"Sketch Time over Cardinality\",figsize=graph_size)\n",
    "sns.pointplot(data=num_data, x='cardinality', y='drawDuration',color='#25B1F7',markers='.',ax=ax5)\n",
    "sns.pointplot(data=aml_data, x='cardinality', y='drawDuration',color='#B92BCF',markers='.',ax=ax5)\n",
    "# plt.title(\"Sketch Time by Cardinality\")\n",
    "# plt.ylabel(\"Sketch Time\")\n",
    "# plt.xlabel(\"\")\n",
    "# plt.xticks([])\n",
    "# plt.show()\n",
    "\n",
    "# plt.figure(\"Accuracy over Cardinality\",figsize=graph_size)\n",
    "sns.pointplot(data=num_data, x='cardinality', y='outcome',color='#25B1F7',markers='.',ax=ax7)\n",
    "sns.pointplot(data=aml_data, x='cardinality', y='outcome',color='#B92BCF',markers='.',ax=ax7)\n",
    "# plt.title(\"Accuracy by Cardinality\")\n",
    "# plt.ylabel(\"Accuracy\")\n",
    "# plt.xlabel(\"Cardinality\")\n",
    "\n",
    "\n",
    "\n",
    "\n",
    "\n",
    "\n",
    "\n",
    "# for all the even subplots, plot out DVs over animal\n",
    "\n",
    "# plt.figure(\"Ink over Animal Type\",figsize=graph_size)\n",
    "sns.pointplot(data=num_data, x='category', y='meanPixelIntensity',color='#25B1F7',markers='.',ax=ax2)\n",
    "sns.pointplot(data=aml_data, x='category', y='meanPixelIntensity',color='#B92BCF',markers='.',ax=ax2)\n",
    "# plt.title(\"Ink by Animal Type\")\n",
    "# plt.ylabel(\"Ink\")\n",
    "# plt.xlabel(\"\")\n",
    "# plt.xticks([])\n",
    "# plt.show()\n",
    "\n",
    "# plt.figure(\"Strokes over Animal Type\",figsize=graph_size)\n",
    "sns.pointplot(data=num_data, x='category', y='numStrokes',color='#25B1F7',markers='.',ax=ax4)\n",
    "sns.pointplot(data=aml_data, x='category', y='numStrokes',color='#B92BCF',markers='.',ax=ax4)\n",
    "# plt.title(\"Strokes by Animal Type\")\n",
    "# plt.ylabel(\"Strokes\")\n",
    "# plt.xlabel(\"\")\n",
    "# plt.xticks([])\n",
    "# plt.show()\n",
    "\n",
    "# plt.figure(\"Sketch Time over Animal Type\",figsize=graph_size)\n",
    "sns.pointplot(data=num_data, x='category', y='drawDuration',color='#25B1F7',markers='.',ax=ax6)\n",
    "sns.pointplot(data=aml_data, x='category', y='drawDuration',color='#B92BCF',markers='.',ax=ax6)\n",
    "# plt.title(\"Sketch Time by Animal Type\")\n",
    "# plt.ylabel(\"Sketch Time\")\n",
    "# plt.xlabel(\"\")\n",
    "# plt.xticks([])\n",
    "# plt.show()\n",
    "\n",
    "# plt.figure(\"Accuracy over Animal Type\",figsize=graph_size)\n",
    "sns.pointplot(data=num_data, x='category', y='outcome',color='#25B1F7',markers='.',ax=ax8)\n",
    "sns.pointplot(data=aml_data, x='category', y='outcome',color='#B92BCF',markers='.',ax=ax8)\n",
    "# plt.title(\"Accuracy by Animal Type\")\n",
    "# plt.ylabel(\"Accuracy\")\n",
    "# plt.xlabel(\"Animal Type\")\n",
    "\n",
    "# Set the labels, ticks, and limits (note: limits are set to accommodate data averaged across blocks\n",
    "# individual block data goes beyond the y limits set below)\n",
    "ax1.set_ylabel(\"Ink\")\n",
    "ax3.set_ylabel(\"Strokes\")\n",
    "ax5.set_ylabel(\"Time\")\n",
    "ax7.set_ylabel(\"Accuracy\")\n",
    "ax2.set_ylabel(\"\")\n",
    "ax4.set_ylabel(\"\")\n",
    "ax6.set_ylabel(\"\")\n",
    "ax8.set_ylabel(\"\")\n",
    "ax1.set_yticks([])\n",
    "ax3.set_yticks([])\n",
    "ax5.set_yticks([])\n",
    "ax7.set_yticks([])\n",
    "\n",
    "\n",
    "ax1.set_xlabel(\"\")\n",
    "ax2.set_xlabel(\"\")\n",
    "ax3.set_xlabel(\"\")\n",
    "ax4.set_xlabel(\"\")\n",
    "ax5.set_xlabel(\"\")\n",
    "ax6.set_xlabel(\"\")\n",
    "ax7.set_xlabel(\"Cardinality\")\n",
    "ax8.set_xlabel(\"Shape\")\n",
    "\n",
    "\n",
    "ax1.set_xticks([])\n",
    "ax2.set_xticks([])\n",
    "ax3.set_xticks([])\n",
    "ax4.set_xticks([])\n",
    "ax5.set_xticks([])\n",
    "ax6.set_xticks([])\n",
    "ax7.set_xticklabels([1,2,3,4,5,6,7,8])\n",
    "ax8.set_xticklabels(['Rabbit','Bear','Deer','Owl'])\n",
    "\n",
    "ax1.set_ylim([0, .06])\n",
    "ax2.set_ylim([0, .06])\n",
    "ax3.set_ylim([1, 10])\n",
    "ax4.set_ylim([1, 10])\n",
    "ax5.set_ylim([1, 10])\n",
    "ax6.set_ylim([1, 10])\n",
    "ax7.set_ylim([.75, 1])\n",
    "ax8.set_ylim([.75, 1])\n",
    "\n",
    "ax2.yaxis.tick_right()\n",
    "ax4.yaxis.tick_right()\n",
    "ax6.yaxis.tick_right()\n",
    "ax8.yaxis.tick_right()\n",
    "\n",
    "plt.show()"
   ]
  },
  {
   "cell_type": "markdown",
   "metadata": {},
   "source": [
    "### Figure 4: Correlations over Blocks"
   ]
  },
  {
   "cell_type": "code",
   "execution_count": null,
   "metadata": {
    "collapsed": true
   },
   "outputs": [],
   "source": [
    "# Plot correlations by trial number (this does not make it into figure 4, but is interesting)\n",
    "DV = 'numStrokes' # 'outcome', 'drawDuration', 'numStrokes', 'meanPixelIntensity'\n",
    "num_corr_trials = []\n",
    "aml_corr_trials = []\n",
    "\n",
    "def corr_confint(corrcoef,N,tc=1.96):\n",
    "    sr = np.sqrt((1-corrcoef**2)/(N-2))\n",
    "    return sr*tc\n",
    "\n",
    "for trialnum in np.arange(1,33):\n",
    "    num_trial = df_num.loc[df_num['trialNum'] == trialnum]\n",
    "    aml_trial = df_aml.loc[df_aml['trialNum'] == trialnum]\n",
    "    num_corr_trial = stats.pearsonr(num_trial['cardinality'], num_trial[DV])[0]\n",
    "    aml_corr_trial = stats.pearsonr(aml_trial['cardinality'], aml_trial[DV])[0]\n",
    "    num_corr_trials.append(num_corr_trial)\n",
    "    aml_corr_trials.append(aml_corr_trial)\n",
    "    #num_confints.append()\n",
    "    \n",
    "    \n",
    "num_corr_trials = np.array(num_corr_trials)\n",
    "aml_corr_trials = np.array(aml_corr_trials)\n",
    "    \n",
    "num_confints = corr_confint(num_corr_trials, len(np.unique(df_num['gameID'])))\n",
    "aml_confints = corr_confint(aml_corr_trials, len(np.unique(df_aml['gameID'])))\n",
    "\n",
    "plt.figure(\"Correlations (line chart)\")\n",
    "plt.title(\"Correlation of Stroke Count and Cardinality over Trials\")\n",
    "plt.plot(np.arange(1,33),32*[0],color='black',alpha = .75)\n",
    "plt.plot(np.arange(1,33),num_corr_trials,color='#25B1F7')\n",
    "plt.plot(np.arange(1,33),aml_corr_trials,color='#B92BCF')\n",
    "plt.fill_between(np.arange(1,33), (num_corr_trials-num_confints), (num_corr_trials+num_confints), color='b', alpha=.1)   \n",
    "plt.fill_between(np.arange(1,33), (aml_corr_trials-aml_confints), (aml_corr_trials+aml_confints), color='m', alpha=.1)    \n",
    "plt.ylabel(\"Correlation\")\n",
    "plt.xlabel(\"Trial #\")\n",
    "plt.show\n",
    "\n",
    "\n"
   ]
  },
  {
   "cell_type": "code",
   "execution_count": null,
   "metadata": {
    "collapsed": true
   },
   "outputs": [],
   "source": [
    "# Plot correlations by block number\n",
    "DV = 'numStrokes' # 'outcome', 'drawDuration', 'numStrokes', 'meanPixelIntensity'\n",
    "num_corr_blocks = []\n",
    "aml_corr_blocks = []\n",
    "\n",
    "for blocknum in np.arange(1,5):\n",
    "    num_block = df_num.loc[df_num['quarter'] == blocknum]\n",
    "    aml_block = df_aml.loc[df_aml['quarter'] == blocknum]\n",
    "    num_corr_block = stats.pearsonr(num_block['cardinality'], num_block[DV])[0]\n",
    "    aml_corr_block = stats.pearsonr(aml_block['cardinality'], aml_block[DV])[0]\n",
    "    num_corr_blocks.append(num_corr_block)\n",
    "    aml_corr_blocks.append(aml_corr_block)\n",
    "    \n",
    "    \n",
    "num_corr_blocks = np.array(num_corr_blocks)\n",
    "aml_corr_blocks = np.array(aml_corr_blocks)\n",
    "\n",
    "#make sure this is the right way to do N samples - it's total trials, so 8 per block times number of games\n",
    "num_confints = corr_confint(num_corr_blocks, 8*len(np.unique(df_num['gameID'])))\n",
    "aml_confints = corr_confint(aml_corr_blocks, 8*len(np.unique(df_aml['gameID'])))\n",
    "\n",
    "plt.figure(\"Correlations (line chart)\")\n",
    "plt.title(\"Correlation of Accuracy and Cardinality over Blocks\")\n",
    "plt.plot(np.arange(1,5),4*[0],color='black',alpha = .5,linestyle='--')\n",
    "plt.plot(np.arange(1,5),num_corr_blocks,color='#25B1F7')\n",
    "plt.plot(np.arange(1,5),aml_corr_blocks,color='#B92BCF')\n",
    "plt.fill_between(np.arange(1,5), (num_corr_blocks-num_confints), (num_corr_blocks+num_confints), color='#25B1F7', alpha=.1)   \n",
    "plt.fill_between(np.arange(1,5), (aml_corr_blocks-aml_confints), (aml_corr_blocks+aml_confints), color='#B92BCF', alpha=.1)    \n",
    "plt.ylabel(\"Correlation\")\n",
    "plt.xlabel(\"Block #\")\n",
    "plt.show\n",
    "\n",
    "\n"
   ]
  },
  {
   "cell_type": "markdown",
   "metadata": {},
   "source": [
    "## Extra, not official things:"
   ]
  },
  {
   "cell_type": "code",
   "execution_count": null,
   "metadata": {
    "collapsed": true
   },
   "outputs": [],
   "source": [
    "# print(\"All Games: \\n\", D[['cardinality','numStrokes']].corr())\n",
    "# print(\"Number Games: \\n\", df_num[['cardinality','numStrokes']].corr())\n",
    "# print(\"Animal Games: \\n\", df_aml[['cardinality','numStrokes']].corr())\n",
    "\n",
    "dv = 'drawDuration' # 'outcome', 'drawDuration', 'numStrokes', 'meanPixelIntensity'\n",
    "\n",
    "\n",
    "# Plotting correlation of Stroke Count and Cardinality by block number\n",
    "\n",
    "num_corrs = np.array([#stats.pearsonr(df_num['cardinality'], df_num['numStrokes'])[0],\n",
    "             stats.pearsonr(dn1['cardinality'], dn1[dv])[0],\n",
    "             stats.pearsonr(dn2['cardinality'], dn2[dv])[0],\n",
    "             stats.pearsonr(dn3['cardinality'], dn3[dv])[0],\n",
    "             stats.pearsonr(dn4['cardinality'], dn4[dv])[0]])\n",
    "\n",
    "num_confints = corr_confint(num_corrs,len(dn1))\n",
    "\n",
    "aml_corrs = np.array([#stats.pearsonr(df_aml['cardinality'], df_aml['numStrokes'])[0],\n",
    "             stats.pearsonr(da1['cardinality'], da1[dv])[0],\n",
    "             stats.pearsonr(da2['cardinality'], da2[dv])[0],\n",
    "             stats.pearsonr(da3['cardinality'], da3[dv])[0],\n",
    "             stats.pearsonr(da4['cardinality'], da4[dv])[0]])\n",
    "\n",
    "aml_confints = corr_confint(aml_corrs,len(dn1))\n",
    "\n",
    "# plt.figure(\"Correlations (line chart)\")\n",
    "# plt.title(\"Correlation of Stroke Count and Cardinality in each Block\")\n",
    "# plt.plot(np.arange(1,5),[0,0,0,0],color='black',alpha = .75)\n",
    "# plt.plot(np.arange(1,5),num_corrs,color='#25B1F7')\n",
    "# plt.plot(np.arange(1,5),aml_corrs,color='#B92BCF')\n",
    "# plt.fill_between(np.arange(1,5), (num_corrs-num_confints), (num_corrs+num_confints), color='b', alpha=.1)   \n",
    "# plt.fill_between(np.arange(1,5), (aml_corrs-aml_confints), (aml_corrs+aml_confints), color='m', alpha=.1)    \n",
    "# plt.ylabel(\"Correlation\")\n",
    "# plt.xlabel(\"Block\")\n",
    "# number_patch = mpatches.Patch(color='#25B1F7', label='Number Games')\n",
    "# animal_patch = mpatches.Patch(color='#B92BCF', label='Animal Games')\n",
    "# plt.legend(handles=[number_patch, animal_patch])\n",
    "# plt.show\n",
    "\n",
    "\n",
    "plt.figure(\"Correlations (bar chart)\",figsize=(12, 4))\n",
    "plt.suptitle(\"Correlations between Cardinality and DV by Block\")\n",
    "fig, (ax1, ax2) = plt.subplots(1,2)\n",
    "# fig.suptitle(\"Correlation of Stroke Count and Cardinality by Block Number\")\n",
    "ax1.bar(np.arange(1,5),num_corrs,color='#25B1F7',yerr=num_confints)\n",
    "ax1.set_ylim([-1, 1])\n",
    "ax2.bar(np.arange(1,5),aml_corrs,color='#B92BCF',yerr=aml_confints)\n",
    "ax2.set_ylim([-1, 1])\n",
    "ax2.set_yticks([], [])\n",
    "\n",
    "ax1.set_xticks([1,2,3,4])\n",
    "ax1.set_xticklabels(['1st','2nd','3rd','4th'])\n",
    "ax2.set_xticks([1,2,3,4])\n",
    "ax2.set_xticklabels(['1st','2nd','3rd','4th'])\n",
    "\n",
    "\n",
    "ax1.set_ylabel(\"Cardinality x Stroke Correlation\")\n",
    "ax1.set_xlabel(\"Block\")\n",
    "ax2.set_xlabel(\"Block\")\n",
    "plt.subplots_adjust(left=1,right=3,bottom=1,top=2,wspace=.2,hspace=.2)\n",
    "\n",
    "plt.show()"
   ]
  },
  {
   "cell_type": "markdown",
   "metadata": {},
   "source": [
    "### Additional derived measures we might want"
   ]
  },
  {
   "cell_type": "code",
   "execution_count": null,
   "metadata": {
    "collapsed": true
   },
   "outputs": [],
   "source": [
    "# # Just trials where all distractors were of different animal category than the target\n",
    "# D_animal = D.loc[(D['category'] != D['D1_Cat']) & (D['category'] != D['D2_Cat']) & (D['category'] != D['D3_Cat'])]\n",
    "# D_animal[['trialNum','category','cardinality','D1_Cat','D1_Car','D2_Cat','D2_Car','D3_Cat','D3_Car']]\n",
    "\n",
    "\n",
    "# to get differences between 1st and 3rd\n",
    "# D1_sorted = D_1st.sort_values('cardinality')[['cardinality','meanPixelIntensity']].to_numpy()\n",
    "# D4_sorted = D_4th.sort_values('cardinality')[['cardinality','meanPixelIntensity']].to_numpy()\n",
    "\n",
    "# D_diff = pd.DataFrame({'cardinality': D1_sorted[:,0],\n",
    "#                        'pixelIntensityDiff': D1_sorted[:,1] - D4_sorted[:,1]})\n",
    "\n",
    "\n",
    "# General purpose function for plotting measurements separately by quarter of the experiment\n",
    "def PlotByQuarter(title, d, xvar='cardinality',yvar='numStrokes',ylabel='Strokes per Sketch',cond='all',subp=None):\n",
    "    if xvar=='cardinality':\n",
    "        xlabel = 'Cardinality'\n",
    "    elif xvar=='category':\n",
    "        xlabel = 'Animal'\n",
    "    \n",
    "    if cond == 'all':\n",
    "        df = d\n",
    "    else:\n",
    "        df = d.loc[d['Game_Condition'] == cond]\n",
    "        \n",
    "    D_1st = df.loc[df['quarter'] == 1.0]\n",
    "    D_2nd = df.loc[df['quarter'] == 2.0]\n",
    "    D_3rd = df.loc[df['quarter'] == 3.0]\n",
    "    D_4th = df.loc[df['quarter'] == 4.0]\n",
    "    \n",
    "#     plt.figure(title)\n",
    "#     plt.title(title)\n",
    "    sns.pointplot(data=D_1st, x=xvar, y=yvar,color='#000000',markers='.',ax=subp).set_title(title)\n",
    "    sns.pointplot(data=D_2nd, x=xvar, y=yvar,color='#960202',markers='.',ax=subp) #bb3f3f\n",
    "    sns.pointplot(data=D_3rd, x=xvar, y=yvar,color='#D57810',markers='.',ax=subp) #edda07\n",
    "    sns.pointplot(data=D_4th, x=xvar, y=yvar,color='#EDC917',markers='.',ax=subp) #6a0dad\n",
    "#     sns.pointplot(data=df, x=xvar, y=yvar,color='#25B1F7',markers='.', ax=subp, linestyles='--').set_title(title) # average all\n",
    "    plt.xlabel(xlabel)\n",
    "    plt.ylabel(ylabel)\n",
    "    black_patch = mpatches.Patch(color='#000000', label='1st block')\n",
    "    red_patch = mpatches.Patch(color='#960202', label='2nd block')\n",
    "    yellow_patch = mpatches.Patch(color='#D57810', label='3rd block')\n",
    "    purple_patch = mpatches.Patch(color='#EDC917', label='4th block')\n",
    "    blue_patch = mpatches.Patch(color='#25B1F7', label='Average')\n",
    "#     plt.legend(handles=[black_patch, red_patch, yellow_patch, purple_patch, blue_patch])\n",
    "\n",
    "# PlotByQuarter(\"Ink by Cardinality\",D,yvar='meanPixelIntensity',ylabel=\"Mean Pixel Intensity\")\n",
    "# PlotByQuarter(\"Strokes per Sketch\",D,yvar='numStrokes',ylabel=\"Strokes per Sketch\")\n",
    "# PlotByQuarter(\"Curves per Stroke\",D,yvar='numCurvesPerStroke',ylabel=\"Curves per Stroke\")\n",
    "\n",
    "# PlotByQuarter(\"Curves per Stroke (Animal)\",D,xvar='category',yvar='numCurvesPerStroke',ylabel=\"Curves per Stroke\")\n",
    "# PlotByQuarter(\"Strokes per Sketch (Animal)\",D,xvar='category',yvar='numStrokes',ylabel=\"Strokes per Sketch\")\n",
    "\n",
    "# PlotByQuarter(\"Mean Stroke Length by Cardinality\",D,yvar='stroke_len_means',ylabel=\"Mean Stroke Length\")\n",
    "# PlotByQuarter(\"Sketch Time by Cardinality\",D,yvar='drawDuration',ylabel=\"Sketch Time\")\n",
    "\n",
    "print('Done')\n"
   ]
  },
  {
   "cell_type": "code",
   "execution_count": null,
   "metadata": {
    "collapsed": true
   },
   "outputs": [],
   "source": [
    "# Plot data for just shape condition\n",
    "f, ((ax1, ax2), (ax3, ax4)) = plt.subplots(2, 2)\n",
    "\n",
    "PlotByQuarter(\"Ink by Cardinality\",D,yvar='meanPixelIntensity',ylabel=\"Mean Pixel Intensity\",cond='shape',subp=ax1)\n",
    "PlotByQuarter(\"Strokes per Sketch\",D,yvar='numStrokes',ylabel=\"Strokes per Sketch\",cond='shape',subp=ax2)\n",
    "\n",
    "PlotByQuarter(\"Draw Time by Cardinality\",D,yvar='drawDuration',ylabel=\"Draw Time\",cond='shape',subp=ax3)\n",
    "PlotByQuarter(\"Accuracy by Cardinality\",D,yvar='outcome',ylabel=\"Acc\",cond='shape',subp=ax4)\n",
    "\n",
    "plt.subplots_adjust(left=1,right=4,bottom=1,top=3,wspace=.2,hspace=.3)\n"
   ]
  },
  {
   "cell_type": "code",
   "execution_count": null,
   "metadata": {
    "collapsed": true
   },
   "outputs": [],
   "source": [
    "# Plot data for just number condition\n",
    "f, ((ax1, ax2), (ax3, ax4)) = plt.subplots(2, 2)\n",
    "\n",
    "PlotByQuarter(\"Ink by Cardinality\",D,yvar='meanPixelIntensity',ylabel=\"Mean Pixel Intensity\",cond='number',subp=ax1)\n",
    "PlotByQuarter(\"Strokes per Sketch\",D,yvar='numStrokes',ylabel=\"Strokes per Sketch\",cond='number',subp=ax2)\n",
    "\n",
    "PlotByQuarter(\"Draw Time by Cardinality\",D,yvar='drawDuration',ylabel=\"Draw Time\",cond='number',subp=ax3)\n",
    "PlotByQuarter(\"Accuracy by Cardinality\",D,yvar='outcome',ylabel=\"Acc\",cond='number',subp=ax4)\n",
    "\n",
    "plt.subplots_adjust(left=1,right=4,bottom=1,top=3,wspace=.2,hspace=.3)\n"
   ]
  },
  {
   "cell_type": "code",
   "execution_count": null,
   "metadata": {
    "collapsed": true
   },
   "outputs": [],
   "source": [
    "# Plot data for just shape condition\n",
    "f, ((ax1, ax2), (ax3, ax4)) = plt.subplots(2, 2)\n",
    "\n",
    "PlotByQuarter(\"Ink by Cardinality\",D,yvar='meanPixelIntensity',ylabel=\"Mean Pixel Intensity\",cond='all',subp=ax1)\n",
    "PlotByQuarter(\"Strokes per Sketch\",D,yvar='numStrokes',ylabel=\"Strokes per Sketch\",cond='all',subp=ax2)\n",
    "\n",
    "PlotByQuarter(\"Draw Time by Cardinality\",D,yvar='drawDuration',ylabel=\"Draw Time\",cond='all',subp=ax3)\n",
    "PlotByQuarter(\"Accuracy by Cardinality\",D,yvar='outcome',ylabel=\"Acc\",cond='all',subp=ax4)\n",
    "\n",
    "\n",
    "plt.subplots_adjust(left=1,right=4,bottom=1,top=3,wspace=.2,hspace=.3)\n"
   ]
  },
  {
   "cell_type": "code",
   "execution_count": null,
   "metadata": {
    "collapsed": true
   },
   "outputs": [],
   "source": [
    "D['drawDuration'] = pd.to_numeric(D['drawDuration'])\n",
    "acc_table = D.groupby('gameID')['drawDuration'].mean().reset_index()\n"
   ]
  },
  {
   "cell_type": "code",
   "execution_count": null,
   "metadata": {
    "collapsed": true
   },
   "outputs": [],
   "source": []
  },
  {
   "cell_type": "code",
   "execution_count": null,
   "metadata": {
    "collapsed": true
   },
   "outputs": [],
   "source": []
  },
  {
   "cell_type": "code",
   "execution_count": null,
   "metadata": {
    "collapsed": true
   },
   "outputs": [],
   "source": []
  },
  {
   "cell_type": "code",
   "execution_count": null,
   "metadata": {
    "collapsed": true
   },
   "outputs": [],
   "source": [
    "# for some reason, .mean() doesn't work on these. But .sum() and .count() do, so gonna use that\n",
    "x = D.groupby(['cardinality'])[['cardinality','numCurvesPerStroke']].sum()\n",
    "y = D.groupby(['cardinality'])[['cardinality','numCurvesPerStroke']].count()\n",
    "\n",
    "print(x/y)\n",
    "#sns.pointplot(data=D, x='trialNum', y='numCurvesPerStroke')\n",
    "sns.pointplot(data=D, x='trialNum', y='numStrokes')\n"
   ]
  },
  {
   "cell_type": "markdown",
   "metadata": {},
   "source": [
    "### Measures of iconicity:"
   ]
  },
  {
   "cell_type": "code",
   "execution_count": null,
   "metadata": {
    "collapsed": true
   },
   "outputs": [],
   "source": [
    "# Complexity (number of curves) and ink (pixel intensity) per cardinality and between animals\n",
    "\n",
    "plt.figure()\n",
    "sns.barplot(data=D, x='cardinality', y='numStrokes')\n",
    "plt.figure()\n",
    "sns.barplot(data=D, x='cardinality', y='numCurvesPerSketch')\n",
    "plt.figure()\n",
    "sns.barplot(data=D, x='cardinality', y='meanPixelIntensity')"
   ]
  },
  {
   "cell_type": "code",
   "execution_count": null,
   "metadata": {
    "collapsed": true
   },
   "outputs": [],
   "source": [
    "plt.figure()\n",
    "sns.barplot(data=D, x='category', y='numStrokes')\n",
    "plt.figure()\n",
    "sns.barplot(data=D, x='category', y='numCurvesPerSketch')\n",
    "plt.figure()\n",
    "sns.barplot(data=D, x='category', y='meanPixelIntensity')"
   ]
  },
  {
   "cell_type": "code",
   "execution_count": null,
   "metadata": {
    "collapsed": true
   },
   "outputs": [],
   "source": [
    "# linear regression....\n",
    "\n",
    "\n",
    "#stats.linregress(D.groupby('cardinality')['drawDuration'])\n",
    "D.groupby(['cardinality'])[['quarter','drawDuration']]\n"
   ]
  },
  {
   "cell_type": "code",
   "execution_count": null,
   "metadata": {
    "collapsed": true
   },
   "outputs": [],
   "source": [
    "\n",
    "plt.figure(\"Latent Space\",figsize=(8, 4))\n",
    "plt.title(\"Abstract Feature Clusters (Shape Game)\")\n",
    "plt.ylabel(\"Four-ish                Five-ish\")\n",
    "plt.xlabel(\"Owl-ish                                                  Bear-ish\")\n",
    "plt.yticks([])\n",
    "plt.xticks([])\n",
    "plt.show()\n"
   ]
  },
  {
   "cell_type": "code",
   "execution_count": null,
   "metadata": {
    "collapsed": true
   },
   "outputs": [],
   "source": [
    "## Notes to Self:\n",
    "\n",
    "# # If you ever want to see how many unique levels there are in mongodb coll\n",
    "# w = coll.find({'iterationName':iterationName, 'eventType':'survey'})\n",
    "# W = pd.DataFrame(w)\n",
    "# coll.distinct('eventType')\n"
   ]
  },
  {
   "cell_type": "code",
   "execution_count": null,
   "metadata": {
    "collapsed": true
   },
   "outputs": [],
   "source": []
  }
 ],
 "metadata": {
  "kernelspec": {
   "display_name": "Python 3",
   "language": "python",
   "name": "python3"
  },
  "language_info": {
   "codemirror_mode": {
    "name": "ipython",
    "version": 3
   },
   "file_extension": ".py",
   "mimetype": "text/x-python",
   "name": "python",
   "nbconvert_exporter": "python",
   "pygments_lexer": "ipython3",
   "version": "3.7.2"
  }
 },
 "nbformat": 4,
 "nbformat_minor": 2
}
